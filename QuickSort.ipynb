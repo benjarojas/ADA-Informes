{
  "cells": [
    {
      "cell_type": "markdown",
      "metadata": {
        "id": "view-in-github",
        "colab_type": "text"
      },
      "source": [
        "<a href=\"https://colab.research.google.com/github/benjarojas/ADA-Informes/blob/main/QuickSort.ipynb\" target=\"_parent\"><img src=\"https://colab.research.google.com/assets/colab-badge.svg\" alt=\"Open In Colab\"/></a>"
      ]
    },
    {
      "cell_type": "markdown",
      "metadata": {
        "id": "EMFF_3FTK-yg"
      },
      "source": [
        "# 1. Problema de Ordenamiento\n",
        "**Entrada**: Conjunto de n elementos $[ a_1, a_2, \\ldots, a_n ]$\n",
        "\n",
        "**Salida**: Permutación de los elementos de entrada $ [ a_1', a_2', \\ldots, a_n' ] $ de forma que $ a_1' \\leq a_2' \\leq \\ldots \\leq a_n' $\n",
        "\n",
        "El ordenamiento es un problema estudiado desde los inicios de las ciencias de la computación puesto que a pesar de existir muchos algoritmos que lo resuelvan, cada uno de estos presenta ventajas y desventajas según sea el caso donde se aplique. En este informe se estudiará el algoritmo ***QuickSort***, que es uno de los mas populares y  utilizados por los programadores."
      ]
    },
    {
      "cell_type": "markdown",
      "metadata": {
        "id": "-bTCGTmGLeEV"
      },
      "source": [
        "# 2. Función Partition\n",
        "Esta función es la base de este algoritmo.\n",
        "Se elige un elemento pivote dentro del arreglo y se re-ordenarán sus elementos de tal forma que los elementos que se encuentren a la izquierda sean menores y a la derecha mayores."
      ]
    },
    {
      "cell_type": "markdown",
      "metadata": {
        "id": "x7gOv9Z8MhQm"
      },
      "source": [
        "## 2.1 Partition con pivote en el último elemento"
      ]
    },
    {
      "cell_type": "code",
      "execution_count": 3,
      "metadata": {
        "id": "ey4NrdOqKnD7"
      },
      "outputs": [],
      "source": [
        "k = 0\n",
        "def partition_last(A, low, high):\n",
        "  global k # contador de comparaciones\n",
        "  pivot = A[high]\n",
        "  i = low - 1\n",
        "  for j in range(low,high): # recorremos todos los índices del (sub) arreglo\n",
        "    k = k + 1 # sumamos 1 comparación\n",
        "    # si el elemento A[j] es menor al pivote\n",
        "    if(A[j]<pivot):\n",
        "      i += 1\n",
        "      A[i], A[j] = A[j], A[i] # se intercambia\n",
        "  k = k + 1 # +1 comparación\n",
        "  A[i+1], A[high] = A[high], A[i+1]\n",
        "  return (i+1) # retornamos el nuevo índice del pivote"
      ]
    },
    {
      "cell_type": "markdown",
      "metadata": {
        "id": "LMIRNtRCMr6f"
      },
      "source": [
        "## 2.2 Partition con pivote en el primer elemento"
      ]
    },
    {
      "cell_type": "code",
      "execution_count": 4,
      "metadata": {
        "id": "Huja0OfhMrdB"
      },
      "outputs": [],
      "source": [
        "k = 0\n",
        "def partition_first(A, l, h):\n",
        "  low, high = l, h\n",
        "  global k\n",
        "  if l != h and l < h:\n",
        "    k = k + 1 # primera comparacion\n",
        "    pivot = A[l]\n",
        "    low += 1\n",
        "    while low <= high:\n",
        "      k = k + 1 # +1 comparación\n",
        "      if A[high] < pivot and A[low] > pivot:\n",
        "        A[high], A[low] = A[low], A[high]\n",
        "      k = k + 1 # +1 comparación\n",
        "      if not A[low] > pivot:\n",
        "        low += 1\n",
        "      k = k + 1 # +1 comparación\n",
        "      if not A[high] < pivot:\n",
        "        high -= 1\n",
        "  A[l], A[high] = A[high], A[l]\n",
        "  return high"
      ]
    },
    {
      "cell_type": "markdown",
      "metadata": {
        "id": "ETut7MBHMuJ5"
      },
      "source": [
        "## 2.3 Partition con pivote en la mediana de 3 elementos aleatorios"
      ]
    },
    {
      "cell_type": "code",
      "execution_count": 5,
      "metadata": {
        "id": "uyDO3W5IMupi"
      },
      "outputs": [],
      "source": [
        "import random\n",
        "import statistics\n",
        "k = 0\n",
        "# calculamos la mediana de una lista de 3 elementos aleatorios\n",
        "# y lo intercambiamos a la primera posición, luego particionamos\n",
        "def partition_rng(A, l, h):\n",
        "  global k # contador de comparaciones\n",
        "  randElements = list([A[random.randint(l, h)], A[random.randint(l, h)], A[random.randint(l, h)]])\n",
        "  m = statistics.median(randElements)\n",
        "  pivot_index = A.index(m)\n",
        "  A[l], A[pivot_index] = A[pivot_index], A[l]\n",
        "  pivot = A[l]\n",
        "  i = l\n",
        "  for j in range(l+1, h+1):\n",
        "    k+=1 # sumamos comparacion\n",
        "    if(A[j] < pivot):\n",
        "      i+=1\n",
        "      A[i], A[j] = A[j], A[i]\n",
        "  k = k + 1 # +1 comparación\n",
        "  A[i], A[l] = A[l], A[i]\n",
        "  return i"
      ]
    },
    {
      "cell_type": "markdown",
      "metadata": {
        "id": "KyNVQoY3M7OU"
      },
      "source": [
        "## 2.4 Descripción de Partition\n",
        "El algoritmo Partition es una parte fundamental de QuickSort, este se encarga de tomar un elemento pivote (la elección de este varía según la implementación). Su funcionamiento es bastante simple, por ejemplo, en `partition_first` el algoritmo sigue los siguientes pasos:\n",
        "\n",
        "\n",
        "*   Tomamos como pivote el primer elemento del arreglo\n",
        "*   Recorremos el arreglo.\n",
        "*   Mantenemos un índice $i$ que corresponde al índice del menor elemento encontrado hasta el momento.\n",
        "*   Si encontramos un elemento $ \\lt A[i]$, lo intercambiamos.\n",
        "*   Retornamos el índice de la nueva posición del pivote.\n"
      ]
    },
    {
      "cell_type": "markdown",
      "metadata": {
        "id": "lWfgZlHtXg-p"
      },
      "source": [
        "# 3. QuickSort"
      ]
    },
    {
      "cell_type": "markdown",
      "metadata": {
        "id": "e5SuQg-Pr7yc"
      },
      "source": [
        "## 3.1 Código"
      ]
    },
    {
      "cell_type": "code",
      "execution_count": 39,
      "metadata": {
        "id": "r7bJaQePXjff"
      },
      "outputs": [],
      "source": [
        "from termcolor import colored\n",
        "\n",
        "def QuickSort(A, l, h, verbose=False, partition=1):\n",
        "  # caso base\n",
        "  if l == h:\n",
        "    if(verbose): print(f\"Caso base. Sub-arreglo ordenado: {A[l:h+1]}\\n\")\n",
        "    return A\n",
        "  \n",
        "  # sub-arreglo valido\n",
        "  if(l < h):\n",
        "    if(verbose): print(f\"Sub-arreglo: {A[l:h+1]}\")\n",
        "\n",
        "    # se puede elegir el algoritmo de particion a utilizar\n",
        "    # por defecto se utiliza partition_last()\n",
        "    if(partition==1):\n",
        "      pivot_index = partition_last(A, l, h)\n",
        "      if(verbose): print(f\"Particionamos con pivote en el ultimo elemento: [{colored(str(A[h]), 'green')}]\")\n",
        "    if(partition==2):\n",
        "      pivot_index = partition_first(A, l, h)\n",
        "      if(verbose): print(f\"Particionamos con pivote en el primer elemento: [{colored(str(A[l]), 'green')}]\")\n",
        "    if(partition==3):\n",
        "      pivot_index = partition_rng(A, l, h)\n",
        "      if(verbose): print(f\"Particionamos con un pivote aleatorio: [{colored(str(A[pivot_index]), 'green')}]\")\n",
        "\n",
        "    if(verbose):\n",
        "      print(f\"Sub-arreglo particionado: {A[l:h+1]}\\n\")\n",
        "      print(f\"Descartamos el pivote [{colored(str(A[pivot_index]), 'green')}]\")\n",
        "      print(f\"Dividimos en {colored(str(A[l:pivot_index]), 'magenta')} y {colored(str(A[pivot_index+1:h+1]), 'blue')}\\n\")\n",
        "\n",
        "    # llamamos recursivamente para ordenar desde low hasta pivote-1\n",
        "    QuickSort(A, l, pivot_index-1, verbose=verbose, partition=partition)\n",
        "    # llamamos recursivamente para ordenar desde pivote-1 hasta high\n",
        "    QuickSort(A, pivot_index+1, h, verbose=verbose, partition=partition)\n",
        "  return A"
      ]
    },
    {
      "cell_type": "markdown",
      "metadata": {
        "id": "eKRejqF5qETX"
      },
      "source": [
        "## 3.2 Descripción de QuickSort\n",
        "**QuickSort** se basa en el paradigma de diseño ***Divide y Vencerás***, es decir, sub-divide el problema recursivamente para reducir su complejidad.\n",
        "\n",
        "\n",
        "*   Primero, el algoritmo usa la función **Partition**, que dependiendo de la implementación, elegirá un elemento **pivote** y ubicará todos los elementos menores del arreglo a la izquierda y los mayores a la derecha.\n",
        "*   Una vez particionado el arreglo, llamamos a la función recursivamente con $2$ sub-arreglos que se forman al descartar el pivote, es decir: `quickSort(A, low, pivot - 1)` y `quickSort(A, pivot + 1, high)`.\n",
        "*   La función seguirá llamandose **recursivamente** hasta llegar al **caso base**, que corresponde a cuando el sub-arreglo tiene tamaño $1$, y se retorna el mismo arreglo."
      ]
    },
    {
      "cell_type": "markdown",
      "metadata": {
        "id": "rMtdhoECrylv"
      },
      "source": [
        "## 3.3 Ejemplo de Ejecución\n",
        "\n",
        "Tomaremos el arreglo $[5, 4, 3, 2, 1]$.\n",
        "\n",
        "Llamaremos a la función partition, que tomará al elemento $[1]$ como pivote y el arreglo quedará: $[1, 4, 3, 2, 5]$.\n",
        "\n",
        "Descartamos el pivote $[1]$.\n",
        "\n",
        "Al dividir nos queda un arreglo vacío y el sub-arreglo $[4, 3, 2, 5]$.\n",
        "\n",
        "Tomamos el sub-arreglo $[4, 3, 2, 5]$.\n",
        "\n",
        "Llamaremos a la función partition, que tomará al elemento $[5]$ como pivote y el sub-arreglo quedará: $[4, 3, 2, 5]$.\n",
        "\n",
        "Descartamos el pivote $[5]$.\n",
        "\n",
        "Al dividir nos queda un arreglo vacío y el sub-arreglo $[4, 3, 2]$.\n",
        "\n",
        "Tomamos el sub-arreglo $[4, 3, 2]$.\n",
        "\n",
        "Llamaremos a la función partition, que tomará al elemento $[2]$ como pivote y el sub-arreglo quedará: $[2, 3, 4]$.\n",
        "\n",
        "Descartamos el pivote $[2]$.\n",
        "\n",
        "Al dividir nos queda un arreglo vacío $[]$ y $[3, 4]$.\n",
        "\n",
        "Tomamos el sub-arreglo $[3, 4]$.\n",
        "\n",
        "Llamaremos a la función partition, que tomará al elemento $[4]$ como pivote y el sub-arreglo quedará: $[3, 4]$.\n",
        "\n",
        "Descartamos el pivote $[4]$.\n",
        "\n",
        "Al dividir nos queda un arreglo vacío $[]$ y $[3]$.\n",
        "\n",
        "Llegamos al caso base. Sub-arreglo de un elemento: $[3]$.\n",
        "\n",
        "Se llegó al fin de la pila de llamadas recursivas por lo que se retorna el arreglo ordenado: $[1, 2, 3, 4, 5]$."
      ]
    },
    {
      "cell_type": "markdown",
      "metadata": {
        "id": "dGCFJyYmr1dV"
      },
      "source": [
        "## 3.4 Ejecución paso a paso `verbose = True`"
      ]
    },
    {
      "cell_type": "code",
      "execution_count": 38,
      "metadata": {
        "colab": {
          "base_uri": "https://localhost:8080/"
        },
        "id": "GFvjVRBguUlo",
        "outputId": "8562f5ef-cedd-417f-de27-74fe1489b729"
      },
      "outputs": [
        {
          "output_type": "stream",
          "name": "stdout",
          "text": [
            "Sub-arreglo: [53, 99, 24, 55, 67]\n",
            "Particionamos con pivote en el ultimo elemento: [\u001b[32m99\u001b[0m]\n",
            "Sub-arreglo particionado: [53, 24, 55, 67, 99]\n",
            "\n",
            "Descartamos el pivote [\u001b[32m67\u001b[0m]\n",
            "Dividimos en \u001b[35m[53, 24, 55]\u001b[0m y \u001b[34m[99]\u001b[0m\n",
            "\n",
            "Sub-arreglo: [53, 24, 55]\n",
            "Particionamos con pivote en el ultimo elemento: [\u001b[32m55\u001b[0m]\n",
            "Sub-arreglo particionado: [53, 24, 55]\n",
            "\n",
            "Descartamos el pivote [\u001b[32m55\u001b[0m]\n",
            "Dividimos en \u001b[35m[53, 24]\u001b[0m y \u001b[34m[]\u001b[0m\n",
            "\n",
            "Sub-arreglo: [53, 24]\n",
            "Particionamos con pivote en el ultimo elemento: [\u001b[32m53\u001b[0m]\n",
            "Sub-arreglo particionado: [24, 53]\n",
            "\n",
            "Descartamos el pivote [\u001b[32m24\u001b[0m]\n",
            "Dividimos en \u001b[35m[]\u001b[0m y \u001b[34m[53]\u001b[0m\n",
            "\n",
            "Caso base. Sub-arreglo ordenado: [53]\n",
            "\n",
            "Caso base. Sub-arreglo ordenado: [99]\n",
            "\n",
            "Arreglo ordenado: [24, 53, 55, 67, 99]\n",
            "10 comparaciones realizadas.\n"
          ]
        }
      ],
      "source": [
        "# creamos arreglo aleatorio con largo [5, 10] y muestra aleatoria en el intervalo [0, 99]\n",
        "A, k = random.sample(range(100), random.randint(5,10)), 0\n",
        "QuickSort(A, 0, len(A) - 1, verbose=True)\n",
        "print(f\"Arreglo ordenado: {A}\")\n",
        "print(f\"{k} comparaciones realizadas.\")"
      ]
    },
    {
      "cell_type": "markdown",
      "metadata": {
        "id": "t-lhcrlRfpmd"
      },
      "source": [
        "# 4. Tiempo de ejecución\n",
        "El rendimiento temporal de QuickSort se ve directamente afectado según el arreglo de entrada, por lo que debemos probar 2 cotas asintóticas, para el **mejor** y **peor** caso."
      ]
    },
    {
      "cell_type": "markdown",
      "metadata": {
        "id": "uCLPR74Pgj-r"
      },
      "source": [
        "\n",
        "## 4.1 **Teorema 1**\n",
        "> QuickSort tiene un tiempo de ejecución de orden de complejidad $O(n \\log{n})$ para su mejor caso.\n",
        "\n",
        "## Prueba del **teorema 1**\n",
        "Para este caso debemos asumir que en cada llamada recursiva **QuickSort** producirá 2 particiones de tamaño $n/2$. Sabemos que el caso base tiene complejidad constante $O(1)$ y que el tiempo de ejecución de ***partition*** es de orden $O(n)$, por lo que definiremos la función de recurrencia como:\n",
        "\n",
        "\n",
        "$ T(n) = \\begin{cases} \n",
        "      O(1) & n=1 \\\\\n",
        "      2T(n/2) + O(n) & n>1\\\\\n",
        "   \\end{cases} $\n",
        "\n",
        "\n",
        "  Ahora que tenemos la función de recurrencia del algoritmo, podemos aplicar el **Teorema Maestro** para resolverla y así obtener una cota asintótica, ya que esta función cumple con la condición de ser de la forma: $T(n) \\leq aT(n/b) + O(n^d)$.\n",
        "\n",
        "Para aplicar este teorema, primero debemos identificar los parámetros $a, b$ y $d$ en nuestra función:\n",
        "\n",
        "$T(n) = \\color{red}{2}T(n/\\color{red}{2}) + O(n^{\\color{red}{1}})$\n",
        "\n",
        "\n",
        "Observando la función es fácil darse cuenta que estos corresponden a: $a = 2, b = 2 \\ \\text{y} \\ d = 1$.\n",
        "\n",
        "Ahora que tenemos los parámetros, debemos fijarnos en el teorema y ver el caso al que corresponde nuestra recurrencia:\n",
        "\n",
        "\n",
        "$ T(n) = \\begin{cases} \n",
        "      O(n^d \\log{n}) & \\text{si } \\color{red}{a = b^d \\text{ [caso 1]}} \\\\\n",
        "      O(n^d) & \\text{si } a < b^d \\text{ [caso 2]} \\\\\n",
        "      O(n^{\\log_b{a}}) & \\text{si } a > b^d \\text{ [caso 3]} \n",
        "   \\end{cases}\n",
        "$\n",
        "\n",
        "\n",
        "Como podemos ver, la función **cumple con el caso 1 del teorema maestro**, por lo que reemplazamos los parámetros y obtenemos que el **tiempo de ejecución del mejor caso de QuickSort tiene orden de complejidad** $O(n \\log{n})$. $\\blacksquare$"
      ]
    },
    {
      "cell_type": "markdown",
      "metadata": {
        "id": "QpvEHdgGh2Of"
      },
      "source": [
        "## 4.2 **Teorema 2**\n",
        "> QuickSort tiene un tiempo de ejecución de orden $O(n^2)$ para su peor caso.\n",
        "\n",
        "## Prueba del **teorema 2**\n",
        "Para este caso debemos asumir que en cada llamada recursiva producirá una **partición de tamaño $n-1$**, y que la otra tendrá tamaño $0$. Sabemos que el caso base tiene complejidad constante $O(1)$ y que el tiempo de ejecución de ***Partition*** es de orden $O(n)$, por lo que definiremos la función de recurrencia como:\n",
        "\n",
        "$ T(n) = \\begin{cases} \n",
        "      O(1) & n=1 \\\\\n",
        "      T(n-1) + T(0) + O(n) & n>1\\\\\n",
        "   \\end{cases} $\n",
        "\n",
        "Reemplazando por una constante $c$ nuestra función quedaría como:\n",
        "\n",
        "$T(n) \\leq T(n-1) + cn$\n",
        "\n",
        "Ahora utilizaremos **sustitución** para probar el tiempo de ejecución para el peor caso. **Reemplazamos $n-1$ en nuestra ecuación** y despejamos:\n",
        "\n",
        "$T(n) \\leq c(n-1)^2 + cn$\n",
        "\n",
        "$T(n) \\leq c(n^2 - 2n + 1) + cn$\n",
        "\n",
        "$T(n) \\leq cn^2 - 2cn + c + cn$\n",
        "\n",
        "$T(n) \\leq cn^2 - cn + c$\n",
        "\n",
        "Y ahora que resolvimos nuestra recurrencia, para expresar el tiempo de ejecución en notación asintótica **tomamos el término de mayor grado del polinomio y removemos las constantes**, con lo que obtenemos que el **peor caso de QuickSort tiene orden de complejidad** $O(n^2)$. $\\blacksquare$"
      ]
    },
    {
      "cell_type": "markdown",
      "source": [
        "# 5. Correctitud\n",
        "\n",
        "Para probar que el algoritmo **QuickSort** es correcto, primero debemos probar la correctitud de **Partition**."
      ],
      "metadata": {
        "id": "dgPwcY4NsNTf"
      }
    },
    {
      "cell_type": "markdown",
      "source": [
        "## 5.1 **Teorema: Correctitud de Partition**\n",
        "\n",
        "> *La función **Partition** toma un arreglo $A[l \\ldots h]$ y retorna un índice $q$. **Partition** reorganiza el arreglo de forma que los elementos $A[l \\ldots {q-1}]$ son $\\leq A[q]$ y los elementos $A[{q-1} \\ldots h]$ son $\\geq A[q]$.*\n",
        "\n",
        "## Prueba del **teorema**\n",
        "\n",
        "Durante la ejecución del algoritmo existirán $4$ regiones:\n",
        "\n",
        "\n",
        "1.   $A[l \\ldots i]$ donde todos los elementos son $\\leq A[q]$ ($q$ es el índice del pivote).\n",
        "2.   $A[i+1 \\ldots j-1]$ donde todos los elementos son $> A[q]$ ($q$ es el índice del pivote).\n",
        "3.   $A[j \\ldots q-1]$ que son los elementos sin procesar por el algoritmo ($q$ es el índice del pivote).\n",
        "4.   $A[q]$ que es la región donde se encuentra únicamente el pivote ($q$ es el índice del pivote).\n",
        "\n",
        "Para probar la correctitud de **Partition** utilizaremos la siguiente **propiedad invariante de bucle:**\n",
        "\n",
        "> Al comienzo de cada iteración, se cumple que $\\forall$ índice ${k}$:\n",
        "\n",
        "*   Si $l \\leq k \\leq i$, entonces $A[k] \\leq A[q]$\n",
        "*   Si $i < k < j$, entonces $A[k] > A[q]$\n",
        "\n",
        "**Inicialización:** Al comienzo de la primera iteración se tiene que los arreglos $A[l, \\ldots, i]$ y $A[i, \\ldots, j]$ se encuentran vacíos, ya que $i = l-1$ y $j = l$, por lo que se cumple la propiedad.\n",
        "\n",
        "**Mantención:**\n",
        "En las siguientes iteraciones del bucle, se tienen dos casos:\n",
        "\n",
        "*    $A[j] <= A[q]$\n",
        "*    $A[j] > A[q]$\n",
        "\n",
        "En el primer caso $A[j]$ es menor o igual al elemento pivote, por lo que intercambiamos $A[j]$ y $A[i]$ e incrementamos $i$ en $1$. Ya que se realizó el intercambio $A[i]$ es menor al pivote, por lo que se cumple la segunda condición de la **propiedad invariante de bucle**.\n",
        "\n",
        "En el segundo caso, el elemento $A[j]$ $>$ $A[q]$, es decir, mayor al pivote, por lo que no se realiza ningún intercambio y pasamos a la siguiente iteración, y ahora el elemento $A[j-1]$ cumple con la primera condición **propiedad invariante de bucle**.\n",
        "\n",
        "Ya que probamos que la **propiedad invariante de bucle** se cumple al inicio del bucle y se **mantiene en cada iteración**, queda demostrado que **Partition es correcto.** $\\blacksquare$"
      ],
      "metadata": {
        "id": "saI7YfJIgIoT"
      }
    },
    {
      "cell_type": "markdown",
      "source": [
        "\n",
        "## 5.2 **Hipótesis: Correctitud de QuickSort**\n",
        "\n",
        "> *Nuestra hipótesis $P(n)$ es que **QuickSort** recibe como entrada un arreglo $[a_1, a_2, \\ldots, a_n]$ y lo ordena de forma que $a_1 \\leq a_2 \\leq \\ldots \\leq a_n$ donde $n$ es el tamaño del problema.*\n",
        "\n",
        "## Prueba de la **hipótesis**\n",
        "\n",
        "Para probar la correctitud de **QuickSort** utilizaremos ***inducción matemática***.\n",
        "\n",
        "**Caso Base:** El caso base del algoritmo corresponde a un arreglo de tamaño $1$ $(n = 1)$. Se cumple la propiedad ya que un arreglo con un único elemento se encuentra **trivialmente ordenado** ($P(1)$ es correcto).\n",
        "\n",
        "**Paso Inductivo:** Primero asumiremos que **QuickSort** es correcto para un problema $P(n)$.\n",
        "\n",
        "Tomaremos un arreglo de tamaño $m$, donde $m = 2n$.\n",
        "\n",
        "Asumiremos que el algoritmo particionará el arreglo y se generarán 2 sub-arreglos $\\lfloor m/2 \\rfloor$ y $\\lceil m/2. \\rceil$. Sabemos que $m = 2n$, por lo que los sub-arreglos tendrán tamaño $n$.\n",
        "\n",
        "Por **hipótesis inductiva** sabemos que **QuickSort** es correcto para $P(n)$ y **partition** es correcto, por lo que **queda demostrado que QuickSort es correcto**. $\\blacksquare$"
      ],
      "metadata": {
        "id": "KayXrxFXgNvC"
      }
    },
    {
      "cell_type": "markdown",
      "source": [
        "# 6. Experimentos"
      ],
      "metadata": {
        "id": "Y6peNQiQ0mlB"
      }
    },
    {
      "cell_type": "markdown",
      "source": [
        "## 6.1 Cantidad de comparaciones experimental v/s teórica\n",
        "\n",
        "A continuación se comparará gráficamente la cantidad total de comparaciones que realiza el algoritmo para arreglos generados aleatoriamente.\n",
        "\n",
        "Se crearan arreglos aleatorios con tamaño $n \\in [5, \\ldots, 100]$ y elementos aleatorios en el intervalo $[1,\\ldots,100]$."
      ],
      "metadata": {
        "id": "hZyUFEfh0pzt"
      }
    },
    {
      "cell_type": "code",
      "source": [
        "import matplotlib.pyplot as plt\n",
        "from math import log2\n",
        "import random\n",
        "\n",
        "x=[]; y1=[]; y2=[]; y3=[]; y4=[]; y5=[]\n",
        "\n",
        "for n in range(5, 101):\n",
        "  k = 0\n",
        "\n",
        "  # Problem Size n\n",
        "  x.append(n)\n",
        "\n",
        "  # QuickSort Theoretical Best\n",
        "  y1.append(n*log2(n))\n",
        "\n",
        "  # Random Array\n",
        "  A = random.sample(range(101), n)\n",
        "  B, C = A, A\n",
        "\n",
        "  # QuickSort Theoretical Worst\n",
        "  y2.append(n**2)\n",
        "\n",
        "  # QuickSort First\n",
        "  QuickSort(A, 0, len(A)-1, partition=2)\n",
        "  y3.append(k)\n",
        "\n",
        "  # QuickSort Median\n",
        "  k=0\n",
        "  QuickSort(B, 0, len(B)-1, partition=3)\n",
        "  y4.append(k)\n",
        "\n",
        "  # QuickSort Last\n",
        "  k=0\n",
        "  QuickSort(C, 0, len(C)-1)\n",
        "  y5.append(k)\n",
        "\n",
        "plt.plot(x,y1)\n",
        "plt.plot(x,y2)\n",
        "plt.plot(x,y3)\n",
        "plt.plot(x,y4)\n",
        "plt.plot(x,y5)\n",
        "plt.legend([\"Mejor caso teórico\", \"Peor caso teórico\", \"Experimental QuickSort First\", \"Experimental QuickSort Median\", \"Experimental QuickSort Last\"])\n",
        "\n",
        "plt.xlabel(\"Tamaño de problema n\")\n",
        "plt.ylabel(\"Cantidad de operaciones\")\n",
        "plt.show()"
      ],
      "metadata": {
        "colab": {
          "base_uri": "https://localhost:8080/",
          "height": 279
        },
        "id": "G5AYgUUZ1H_a",
        "outputId": "ad1c5476-065c-44d6-e68d-c1253e07311f"
      },
      "execution_count": 53,
      "outputs": [
        {
          "output_type": "display_data",
          "data": {
            "text/plain": [
              "<Figure size 432x288 with 1 Axes>"
            ],
            "image/png": "[encoded data removed]"
          },
          "metadata": {
            "needs_background": "light"
          }
        }
      ]
    },
    {
      "cell_type": "markdown",
      "source": [
        "### 6.1.1 Análisis de Resultados\n",
        "En el gráfico se puede observar como el criterio de elección del pivote de **Partition** puede afectar a la cantidad de comparaciones totales que debe realizar **QuickSort**. Se puede apreciar que el criterio que menos comparaciones realiza es el de **pivote calculado a partir de la mediana de 3 elementos aleatorios** que se superpone casi en su totalidad al mejor caso teórico, y que el que mas comparaciones realiza es el **pivote en el último elemento del arreglo**, mientras que el **pivote en el primer elemento** se mantiene entre los 2 anteriormente mencionados.\n",
        "\n",
        "A partir de la imagen podemos concluir que a pesar de que la **elección del pivote influya en la cantidad de comparaciones** que debe realizar el algoritmo, **este sigue siendo muy eficiente** puesto que **ninguno de los casos experimentales se acerca considerablemente al peor caso teórico** en tamaños de problema grandes."
      ],
      "metadata": {
        "id": "1JZUdOvq9eyu"
      }
    },
    {
      "cell_type": "markdown",
      "source": [
        "## 6.2 Comparación MergeSort v/s QuickSort\n",
        "\n",
        "A continuación se comparará el tiempo de ejecución de los algoritmos QuickSort y MergeSort.\n",
        "\n",
        "Se utilizará un tamaño de problema $n \\in [5, \\ldots, 1000]$ con una muestra de elementos aleatorios en el intervalo $[1,\\ldots,1000]$."
      ],
      "metadata": {
        "id": "wDEWYO_67zco"
      }
    },
    {
      "cell_type": "code",
      "source": [
        "def merge_sort(list):\n",
        "    list_length = len(list)\n",
        "    if list_length == 1:\n",
        "        return list\n",
        "    mid_point = list_length // 2\n",
        "    left_partition = merge_sort(list[:mid_point])\n",
        "    right_partition = merge_sort(list[mid_point:])\n",
        "    return merge(left_partition, right_partition)\n",
        "def merge(left, right):\n",
        "    output = []\n",
        "    i = j = 0\n",
        "    while i < len(left) and j < len(right):\n",
        "        if left[i] < right[j]:\n",
        "            output.append(left[i])\n",
        "            i += 1\n",
        "        else:\n",
        "            output.append(right[j])\n",
        "            j += 1\n",
        "    output.extend(left[i:])\n",
        "    output.extend(right[j:])\n",
        "    return output"
      ],
      "metadata": {
        "id": "-vqpYrug4twb"
      },
      "execution_count": 24,
      "outputs": []
    },
    {
      "cell_type": "code",
      "source": [
        "import datetime\n",
        "import random\n",
        "from timeit import repeat\n",
        "\n",
        "x=[]; y1=[]; y2=[];\n",
        "\n",
        "for n in range(5,1001):\n",
        "\n",
        "    A = random.sample(range(1, 1001), n)\n",
        "    B = A\n",
        "\n",
        "    # repeat() ejecuta 10 veces los algoritmos con el mismo arreglo aleatorio A y retorna el mejor tiempo obtenido\n",
        "    t_merge = repeat(setup=\"from __main__ import merge_sort\", stmt=f\"merge_sort({B})\", repeat=1, number=10)\n",
        "    t_quick = repeat(setup=\"from __main__ import QuickSort\", stmt=f\"QuickSort({A},0,{len(A)-1})\", repeat=1, number=10)\n",
        "    x.append(n)\n",
        "    y1.append(t_merge)\n",
        "    y2.append(t_quick)\n",
        "\n",
        "plt.plot(x,y1)\n",
        "plt.plot(x,y2)\n",
        "plt.legend([\"Merge Sort\", \"QuickSort\"])\n",
        "\n",
        "plt.xlabel('Tamaño del problema n')\n",
        "plt.ylabel('Tiempo en ms')\n",
        "plt.show()"
      ],
      "metadata": {
        "colab": {
          "base_uri": "https://localhost:8080/",
          "height": 279
        },
        "id": "upqTUGCU5qbp",
        "outputId": "353f41b4-d830-42ea-da33-bba0ecdc3c68"
      },
      "execution_count": 52,
      "outputs": [
        {
          "output_type": "display_data",
          "data": {
            "text/plain": [
              "<Figure size 432x288 with 1 Axes>"
            ],
            "image/png": "[encoded data removed]"
          },
          "metadata": {
            "needs_background": "light"
          }
        }
      ]
    },
    {
      "cell_type": "markdown",
      "source": [
        "### 6.2.1 Análisis de Resultados\n",
        "\n",
        "Como se puede apreciar en el gráfico, ambos algoritmos son bastante eficientes temporalmente hablando, pero **QuickSort** tiene una ventaja considerable especialmente para tamaños de problema grandes.\n",
        "\n",
        "También se pueden apreciar ciertos peaks en la imagen, nuestra suposición inicial es que esto se debía a que la entrada aleatoria en ocasiones se parecía al peor caso de **QuickSort** (arreglo total/parcialmente ordenado) y esto causaba este aumento inesperado en el tiempo de ejecución, pero estos peaks también se pueden apreciar en la curva de **MergeSort**, que tiene la misma complejidad para todos sus casos, por lo que concluímos que estos peaks se deben al comportamiento impredecible del procesador."
      ],
      "metadata": {
        "id": "37zURVH_9yug"
      }
    },
    {
      "cell_type": "markdown",
      "source": [
        "## 6.3 Comparación de la cantidad de operaciones de las implementaciones de Partition para el peor caso\n",
        "\n",
        "A continuación se comparará la cantidad de comparaciones que realiza el algoritmo utilizando las 3 implementaciones de **Partition** para el peor caso *(arreglos ordenados)*. Los criterios a utilizar son:\n",
        "\n",
        "1.   Pivote en el **último elemento**\n",
        "2.   Pivote en el **primer elemento**\n",
        "3.   Pivote calculado a partir de la **mediana de 3 elementos aleatorios**\n",
        "\n",
        "Se utilizará un tamaño de problema $n \\in [5 \\ldots 500]$ con una muestra de elementos **ordenados** en el intervalo $[1,\\ldots,500]$.\n",
        "\n"
      ],
      "metadata": {
        "id": "JgJqaDGR78_b"
      }
    },
    {
      "cell_type": "code",
      "source": [
        "import matplotlib.pyplot as plt\n",
        "import random\n",
        "\n",
        "x=[]; y1=[]; y2=[]; y3=[]\n",
        "\n",
        "for n in range(5, 501):\n",
        "  x.append(n)\n",
        "  \n",
        "  # Arreglo aleatorio A y copias\n",
        "  A = list(range(n))\n",
        "  B = A\n",
        "  C = A\n",
        "\n",
        "  # Último elemento como pivote\n",
        "  k = 0\n",
        "  QuickSort(A, 0, len(A)-1, partition=1)\n",
        "  y1.append(k)\n",
        "\n",
        "  # Primer elemento como pivote\n",
        "  k = 0\n",
        "  QuickSort(B, 0, len(B)-1, partition=2)\n",
        "  y2.append(k)\n",
        "\n",
        "  # Pivote aleatorio\n",
        "  k = 0\n",
        "  QuickSort(C, 0, len(C)-1, partition=3)\n",
        "  y3.append(k)\n",
        "\n",
        "plt.plot(x,y1)\n",
        "plt.plot(x,y2)\n",
        "plt.plot(x,y3)\n",
        "plt.legend([\"Pivote en último elemento\", \"Pivote en primer elemento\", \"Pivote en mediana de elementos aleatorios\"])\n",
        "\n",
        "plt.xlabel(\"Tamaño de problema n\")\n",
        "plt.ylabel(\"Cantidad de operaciones\")\n",
        "plt.show()"
      ],
      "metadata": {
        "colab": {
          "base_uri": "https://localhost:8080/",
          "height": 279
        },
        "id": "ek5SmRNx3h7P",
        "outputId": "e84c1d3f-19fd-4886-e922-37077bf45bf8"
      },
      "execution_count": 55,
      "outputs": [
        {
          "output_type": "display_data",
          "data": {
            "text/plain": [
              "<Figure size 432x288 with 1 Axes>"
            ],
            "image/png": "[encoded data removed]"
          },
          "metadata": {
            "needs_background": "light"
          }
        }
      ]
    },
    {
      "cell_type": "markdown",
      "source": [
        "### 6.3.1 Análisis de Resultados\n",
        "En el gráfico nos podemos dar cuenta de que el **utilizar siempre un pivote en un extremo** (inicio o final del arreglo) **causa que la cantidad de operaciones crezca exponencialmente cuando el arreglo de entrada está ordenado** (peor caso), mientras que el **pivote en la mediana de 3 elementos aleatorios se mantiene estable/crece de forma muy lenta**, por lo que este criterio **haría mucho mas eficiente el algoritmo en cuanto al número de comparaciones para su peor caso.**"
      ],
      "metadata": {
        "id": "j8fwQBoL9z0q"
      }
    },
    {
      "cell_type": "markdown",
      "source": [
        "## 6.4 Tiempo de ejecución de las implementaciones de Partition para casos aleatorios\n",
        "\n",
        "En el siguiente experimento se comparará cuanto tarda **QuickSort** en ordenar **arreglos aleatorios** utilizando las 3 implementaciones de **Partition**.\n",
        "\n",
        "Se utilizará un tamaño de problema $n \\in [5 \\ldots 500]$ con una muestra de números aleatorios en el intervalo $[1,\\ldots,500]$."
      ],
      "metadata": {
        "id": "B_7U2Hctd5D0"
      }
    },
    {
      "cell_type": "code",
      "source": [
        "import datetime\n",
        "import random\n",
        "from timeit import repeat\n",
        "\n",
        "x=[]; y1=[]; y2=[]; y3=[]\n",
        "\n",
        "for n in range(5,501):\n",
        "\n",
        "    # A y copias\n",
        "    A = random.sample(range(1, 501), n)\n",
        "    B = A\n",
        "    C = A\n",
        "\n",
        "    # repeat() ejecuta 10 veces los algoritmos con el arreglo aleatorio y retorna el mejor tiempo obtenido\n",
        "    t_quick = repeat(setup=\"from __main__ import QuickSort\", stmt=f\"QuickSort({A},0,{len(A)-1},partition=1)\", repeat=1, number=10)\n",
        "    t_quick1 = repeat(setup=\"from __main__ import QuickSort\", stmt=f\"QuickSort({B},0,{len(B)-1},partition=2)\", repeat=1, number=10)\n",
        "    t_quick2 = repeat(setup=\"from __main__ import QuickSort\", stmt=f\"QuickSort({C},0,{len(C)-1},partition=3)\", repeat=1, number=10)\n",
        "    x.append(n)\n",
        "    y1.append(t_quick)\n",
        "    y2.append(t_quick1)\n",
        "    y3.append(t_quick2)\n",
        "\n",
        "plt.plot(x,y1)\n",
        "plt.plot(x,y2)\n",
        "plt.plot(x,y3)\n",
        "plt.legend([\"Pivote en último elemento\", \"Pivote en primer elemento\", \"Pivote en mediana de elementos aleatorios\"])\n",
        "\n",
        "plt.xlabel('Tamaño del problema n')\n",
        "plt.ylabel('Tiempo en ms')\n",
        "plt.show()"
      ],
      "metadata": {
        "colab": {
          "base_uri": "https://localhost:8080/",
          "height": 279
        },
        "id": "_XD0FmLAbkez",
        "outputId": "c72e9fb6-a39c-492c-a44d-78a1d8f7a8f0"
      },
      "execution_count": 56,
      "outputs": [
        {
          "output_type": "display_data",
          "data": {
            "text/plain": [
              "<Figure size 432x288 with 1 Axes>"
            ],
            "image/png": "[encoded data removed]"
          },
          "metadata": {
            "needs_background": "light"
          }
        }
      ]
    },
    {
      "cell_type": "markdown",
      "source": [
        "### 6.4.1 Análisis de resultados\n",
        "\n",
        "Como se puede apreciar en el gráfico, a pesar de realizar menor número de comparaciones, el utilizar el algoritmo **QuickSort** con el método de particionar en base a un **pivote calculado de la mediana de 3 elementos aleatorios** es el que peor rinde temporalmente. Esto creemos que se puede deber a la cantidad de tiempo extra que toma calcular la mediana de esos 3 elementos aleatorios, ya que de no ser así, **debería ser mas rápido que los otros métodos** implementados pues **realiza muchas menos operaciones incluso en el peor caso**."
      ],
      "metadata": {
        "id": "Z-_uPJUUbkLO"
      }
    }
  ],
  "metadata": {
    "colab": {
      "collapsed_sections": [],
      "provenance": [],
      "authorship_tag": "ABX9TyOa4JaSbhpEe89tMRm18L6V",
      "include_colab_link": true
    },
    "kernelspec": {
      "display_name": "Python 3",
      "name": "python3"
    },
    "language_info": {
      "name": "python"
    }
  },
  "nbformat": 4,
  "nbformat_minor": 0
}