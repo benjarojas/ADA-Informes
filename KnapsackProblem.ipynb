{
  "nbformat": 4,
  "nbformat_minor": 0,
  "metadata": {
    "colab": {
      "provenance": [],
      "toc_visible": true,
      "collapsed_sections": [],
      "authorship_tag": "ABX9TyOJAVwwQbzwME73JDvVrfP6",
      "include_colab_link": true
    },
    "kernelspec": {
      "name": "python3",
      "display_name": "Python 3"
    },
    "language_info": {
      "name": "python"
    }
  },
  "cells": [
    {
      "cell_type": "markdown",
      "metadata": {
        "id": "view-in-github",
        "colab_type": "text"
      },
      "source": [
        "<a href=\"https://colab.research.google.com/github/benjarojas/ADA-Informes/blob/main/KnapsackProblem.ipynb\" target=\"_parent\"><img src=\"https://colab.research.google.com/assets/colab-badge.svg\" alt=\"Open In Colab\"/></a>"
      ]
    },
    {
      "cell_type": "markdown",
      "source": [
        "# 1. Knapsack Problem\n",
        "\n",
        "**Entrada:** *Un número $W > 0$ que corresponde al **peso máximo de la mochila** y $2$ arreglos $W_T$ y $\\text{Val}$ de tamaño $n$ que corresponden al **peso de cada ítem y a su valor respectivamente**.*\n",
        "\n",
        "**Salida:** *La **máxima ganancia obtenible** sumando items con un **peso total** $\\leq W$.*  \n",
        "\n",
        "El **Problema de la Mochila** o **Knapsack Problem** es un problema de ***optimización combinatoria***, que consiste en que dado un conjunto de objetos con un **determinado peso y valor**, se debe calcular la **combinación de objetos que maximiza el valor total y que el peso total debe ser menor o igual a un límite establecido $W$**."
      ],
      "metadata": {
        "id": "hCwuU8EU-cqz"
      }
    },
    {
      "cell_type": "markdown",
      "source": [
        "# 2. Código"
      ],
      "metadata": {
        "id": "ERxYIKL4CJyn"
      }
    },
    {
      "cell_type": "markdown",
      "source": [
        "## 2.1 Generador de Instancias Aleatorias"
      ],
      "metadata": {
        "id": "O-CQEI5ahWpw"
      }
    },
    {
      "cell_type": "code",
      "source": [
        "import random\n",
        "\n",
        "def knapsack_instance_generator(N):\n",
        "  val = []\n",
        "  wt = []\n",
        "  prev_v = 0\n",
        "  prev_w = 0\n",
        "  for i in range(N):\n",
        "    v = random.randint(1, 100)\n",
        "    val.append(prev_v + v)\n",
        "    prev_v += v\n",
        "    \n",
        "    w = random.randint(1, 10)\n",
        "    wt.append(prev_w + w)\n",
        "    if (v >= 50):\n",
        "        prev_w += w\n",
        "\n",
        "  W = int(sum(wt) / 2)\n",
        "  return W, val, wt"
      ],
      "metadata": {
        "id": "SPpNsYeAhYx-"
      },
      "execution_count": 2,
      "outputs": []
    },
    {
      "cell_type": "markdown",
      "source": [
        "## 2.2 Algoritmo Bottom-Up (Programación Dinámica)"
      ],
      "metadata": {
        "id": "WUJUIQvjhdlj"
      }
    },
    {
      "cell_type": "code",
      "source": [
        "from termcolor import colored\n",
        "import numpy as np\n",
        "\n",
        "def knapsack(W, wt, val, verbose=False):\n",
        "  n = len(val)\n",
        "  \n",
        "  subp = 0\n",
        "\n",
        "  # inicializamos matriz en 0\n",
        "  K = np.array([[0]*(W+1)]*(len(wt) + 1))\n",
        "\n",
        "  # construimos tabla K (bottom-up)\n",
        "  if(verbose): print(\"Construimos tabla K\")\n",
        "  for i in range(n + 1):\n",
        "    if(verbose and i != 0):\n",
        "      print(f\"Calculando soluciones para el objeto {colored(str(i), 'blue')}\")\n",
        "    \n",
        "    for w in range(W + 1):\n",
        "      if i == 0 or w == 0:\n",
        "        K[i][w] = 0\n",
        "        subp += 1\n",
        "\n",
        "      elif wt[i-1] <= w:\n",
        "        if verbose == True and wt[i-1] == w:\n",
        "          print(f\"Maximo peso soportado: {colored(str(w), 'red')}\")\n",
        "          print(f\"Valor máximo anterior: {colored(str(K[i-1][w]), 'blue')}\")\n",
        "          print(f\"Valor máximo al elegir el item {colored(str(i), 'blue')}: {colored(str(val[i-1] + K[i-1][w-wt[i-1]]), 'green')}\")\n",
        "        K[i][w] = max(val[i-1] + K[i-1][w-wt[i-1]], K[i-1][w])\n",
        "        subp += 1\n",
        "\n",
        "        if verbose and wt[i-1] == w:\n",
        "          print(f\"Solución óptima para el subproblema: {colored(str(K[i][w]), 'magenta')}\\n\")\n",
        "\n",
        "      else:\n",
        "        K[i][w] = K[i-1][w]\n",
        "        subp += 1\n",
        "  if(verbose): print(f\"Solución óptima para la entrada: {colored(str(K[n][w]), 'green')}\")\n",
        "  return K[n][W], subp"
      ],
      "metadata": {
        "id": "3RgQ_zq1afnT"
      },
      "execution_count": 3,
      "outputs": []
    },
    {
      "cell_type": "code",
      "source": [
        "val = [60, 100, 120] # arreglo de valores\n",
        "wt = [10, 20, 30] # arreglo de pesos\n",
        "W = 50 # capacidad máxima de la mochila\n",
        "maxVal, subp = knapsack(W, wt, val) # ejemplo\n",
        "print(f\"máximo valor: {maxVal}\\n{subp} subproblemas.\")"
      ],
      "metadata": {
        "colab": {
          "base_uri": "https://localhost:8080/"
        },
        "id": "Q4LEFwPib2v0",
        "outputId": "869f2aea-89e2-4944-d12f-57b1e2c6d4c4"
      },
      "execution_count": 4,
      "outputs": [
        {
          "output_type": "stream",
          "name": "stdout",
          "text": [
            "máximo valor: 220\n",
            "204 subproblemas.\n"
          ]
        }
      ]
    },
    {
      "cell_type": "markdown",
      "source": [
        "## 2.3 Algoritmo Greedy"
      ],
      "metadata": {
        "id": "lAL6MFg-bqCY"
      }
    },
    {
      "cell_type": "code",
      "source": [
        "import operator\n",
        "\n",
        "def greedy_knapsack(maxW, wt, val, verbose=False):\n",
        "    n = len(val)\n",
        "    ratio = {}\n",
        "    iter = 0\n",
        "    for i in range(n):\n",
        "        iter += 1\n",
        "        ratio_calc = val[i]/wt[i]\n",
        "        ratio[i] = ratio_calc\n",
        "    ratio = sorted(ratio.items(), key=operator.itemgetter(1), reverse=True)\n",
        "    if(verbose):\n",
        "      for key in enumerate(ratio):\n",
        "        print(f\"{colored(str((key[1][0])+1), 'blue')} tiene valor por unidad de peso de {colored(str(key[1][1]), 'red')}\")\n",
        "    maxVal = 0\n",
        "    for key in enumerate(ratio):\n",
        "        iter += 1\n",
        "        if(wt[key[1][0]]) <= maxW:\n",
        "            maxVal += val[key[1][0]]\n",
        "            maxW -= wt[key[1][0]]\n",
        "            if(verbose):\n",
        "              print(f\"Se agrega el elemento {colored(str(key[1][0]+1), 'blue')}. Valor: {colored(str(val[key[1][0]]), 'green')} - Peso: {colored(str(wt[key[1][0]]), 'magenta')}\")\n",
        "              print(f\"Peso restante en la mochila: {colored(str(maxW), 'red')}\")\n",
        "    if(verbose): print(f\"Se retorna la solución máxima encontrada: {colored(str(maxVal), 'green')}\")\n",
        "    return maxVal, iter"
      ],
      "metadata": {
        "id": "GOl-EzKOa1FP"
      },
      "execution_count": 20,
      "outputs": []
    },
    {
      "cell_type": "code",
      "source": [
        "val = [60, 100, 120] # arreglo de valores\n",
        "wt = [10, 20, 30] # arreglo de pesos\n",
        "W = 50 # capacidad máxima de la mochila\n",
        "maxVal, iter = greedy_knapsack(W, wt, val) # ejemplo\n",
        "print(f\"máximo valor: {maxVal}\\n{iter} iteraciones.\")"
      ],
      "metadata": {
        "colab": {
          "base_uri": "https://localhost:8080/"
        },
        "id": "Aygv3mChShoZ",
        "outputId": "d47e89d1-7d9c-4150-86a8-c015e7bd9fa5"
      },
      "execution_count": 22,
      "outputs": [
        {
          "output_type": "stream",
          "name": "stdout",
          "text": [
            "máximo valor: 160\n",
            "6 iteraciones.\n"
          ]
        }
      ]
    },
    {
      "cell_type": "markdown",
      "source": [
        "# 3. Descripción del Algoritmo"
      ],
      "metadata": {
        "id": "OR1du6quznHU"
      }
    },
    {
      "cell_type": "markdown",
      "source": [
        "## 3.1 Acercamiento **Bottom-Up**\n",
        "\n",
        "La implementación basada en el paradigma **Bottom-Up** consiste en los siguientes pasos:\n",
        "\n",
        "1.   Creamos una matriz $K_{ij}$ de dimensiones $n \\times W$ donde $n$ es el **tamaño del problema** y $W$ corresponde al **peso máximo de la mochila**.\n",
        "2.   Luego iteramos en la matriz $K$ usando **2 ciclos** y dos índices $i$ y $w$, donde $i$ **iterará sobre las $n$ filas** y **$w$ iterará sobre las $W$ columnas**.\n",
        "3.   **Construimos la tabla** según las siguientes **condiciones**:\n",
        "*    Sí $i = 0$ ó $w = 0$, entonces $K[i,w]=0$.\n",
        "*    Sí $W_T[i-1] \\leq w$, entonces $K[i,w] = \\text{max}(val[i-1] + K[i-1, w-W_T[i-1]]$.\n",
        "*    En **cualquier otro caso**, $K[i, w] = K[i-1, w]$.\n",
        "4.   Retornamos **el valor total de la solución óptima, que se encontrará en $K[n, W]$**.\n"
      ],
      "metadata": {
        "id": "WarRaTACzq3D"
      }
    },
    {
      "cell_type": "markdown",
      "source": [
        "### 3.1.1 Subestructura Óptima y Solución Recursiva\n",
        "\n",
        "Tenemos que $\\text{knapsack}(W, W_T, \\text{val}, n)$ es la función que describe el problema donde se pueden elegir ítems en el intervalo $[1 \\ldots n]$ bajo la restricción de $W$ (peso de la mochila).\n",
        "\n",
        "Si $(x_1, x_2, \\ldots, x_n)$ es una solución óptima para el problema, entonces:\n",
        "\n",
        "*   Si $x_n = 0$ (no elegimos el $n$-ésimo objeto), entonces $(x_1, x_2, \\ldots, x_{n-1})$ debe ser una solución óptima para el problema $\\text{knapsack}(W, W_T-1, \\text{val}-1, n-1)$.\n",
        "*   Si $x_n = 1$ (elegimos el $n$-ésimo objeto), entonces $(x_1, x_2, \\ldots, x_{n-1})$ debe ser una solución óptima para el problema $\\text{knapsack}(W-w_n, W_T-1, \\text{val}-1, n-1)$ donde $w_n$ corresponde al peso del $n$-ésimo ítem.\n",
        "\n",
        "Basándonos en la subestructura óptima, podemos definir la solución para el problema de la mochila de la siguiente forma:\n",
        "\n",
        "Sea $K[n, W]$ el óptimo valor para el problema $\\text{knapsack}(W, W_T, \\text{val}, n)$:\n",
        "\n",
        "$K[n, W] = \\text{max}(K[n-1, W], K[n-1, W - w_n] + \\text{val}_n)$\n",
        "\n",
        "Y análogamente:\n",
        "\n",
        "$K[n-1, W] = \\text{max}(K[n-2, W], K[n-2, W - w_{n-1}] + \\text{val}_{n-1})$\n",
        "\n",
        "$K[n-1, W - w_n] = \\text{max}(K[n-2, W - w_n], K[n-2, W - w_{n} - w_{n-1}] + \\text{val}_{n-1})$\n",
        "\n",
        "Con la subestructura óptima, podemos también crear una tabla donde se almacenen las soluciones de una forma ***bottom-up***.\n",
        "\n",
        "Sea $K[i, w]$ un elemento en la matriz de soluciones $K$, que representará el valor total de la solución óptima del problema $\\text{knapsack}(w, W_T, \\text{val}, i)$ que es el subproblema de seleccionar ítems en el sub-intervalo $[1 \\ldots i]$ sujeto a la restricción de peso $w$.\n",
        "\n",
        "Entonces, $K[i, w] = \\text{max}(K[i-1, w], K[i-1, W - w_{i}] + \\text{val}_{\\text{ i}})$.\n",
        "\n",
        "Al generar la tabla, necesitamos establecer las siguientes condiciones:\n",
        "\n",
        "*   Cuando $i = 0$ no se eligió ningún objeto, por lo que $K[i,w] = 0$.\n",
        "*   Cuando $w = 0$ no hay mas espacio en la mochila, por lo que $K[i,w] = 0$.\n",
        "*   Cuando $w_i > w$, el objeto actual $i$ excede la capacidad, por lo que no podemos elegirlo. En este caso, $K[i,w] = K[i-1,w]$.\n",
        "\n",
        "A partir de lo anterior, podemos definir la solución recursiva como:\n",
        "\n",
        "$$ K[i,w]=   \\left\\{\n",
        "\\begin{array}{ll}\n",
        "      0 & \\text{si } i=0 \\ \\text{ó } w=0  \\\\\n",
        "      K[i-1,w] & \\text{si } w_i > w \\\\\n",
        "      \\text{max}(K[i-1, w], K[i-1, W - w_{i}] + \\text{val}_{\\text{ i}}) & \\text{si } i>0 \\text{ y } w \\geq w_i \\\\\n",
        "\\end{array} \n",
        "\\right.  $$\n",
        "\n",
        "Luego de generar la tabla, la solución óptima para el problema se encontrará en el índice de la matriz $K[n,W]$.\n"
      ],
      "metadata": {
        "id": "6WkkEGAn2pQ8"
      }
    },
    {
      "cell_type": "markdown",
      "source": [
        "### 3.1.2 Ejecución paso a paso (`verbose=True`)"
      ],
      "metadata": {
        "id": "4g4ztbiKBZbm"
      }
    },
    {
      "cell_type": "code",
      "source": [
        "W, val, wt = knapsack_instance_generator(5)\n",
        "knapsack(W, wt, val, verbose=True)"
      ],
      "metadata": {
        "id": "_xfnFF9SBljv",
        "colab": {
          "base_uri": "https://localhost:8080/"
        },
        "outputId": "afc63d0b-5aee-402d-d7ca-984db9d7f8b1"
      },
      "execution_count": 8,
      "outputs": [
        {
          "output_type": "stream",
          "name": "stdout",
          "text": [
            "Construimos tabla K\n",
            "Calculando soluciones para el objeto \u001b[34m1\u001b[0m\n",
            "Maximo peso soportado: \u001b[31m7\u001b[0m\n",
            "Valor máximo anterior: \u001b[34m0\u001b[0m\n",
            "Valor máximo al elegir el item \u001b[34m1\u001b[0m: \u001b[32m87\u001b[0m\n",
            "Solución óptima para el subproblema: \u001b[35m87\u001b[0m\n",
            "\n",
            "Calculando soluciones para el objeto \u001b[34m2\u001b[0m\n",
            "Maximo peso soportado: \u001b[31m12\u001b[0m\n",
            "Valor máximo anterior: \u001b[34m87\u001b[0m\n",
            "Valor máximo al elegir el item \u001b[34m2\u001b[0m: \u001b[32m121\u001b[0m\n",
            "Solución óptima para el subproblema: \u001b[35m121\u001b[0m\n",
            "\n",
            "Calculando soluciones para el objeto \u001b[34m3\u001b[0m\n",
            "Maximo peso soportado: \u001b[31m14\u001b[0m\n",
            "Valor máximo anterior: \u001b[34m121\u001b[0m\n",
            "Valor máximo al elegir el item \u001b[34m3\u001b[0m: \u001b[32m202\u001b[0m\n",
            "Solución óptima para el subproblema: \u001b[35m202\u001b[0m\n",
            "\n",
            "Calculando soluciones para el objeto \u001b[34m4\u001b[0m\n",
            "Maximo peso soportado: \u001b[31m17\u001b[0m\n",
            "Valor máximo anterior: \u001b[34m202\u001b[0m\n",
            "Valor máximo al elegir el item \u001b[34m4\u001b[0m: \u001b[32m252\u001b[0m\n",
            "Solución óptima para el subproblema: \u001b[35m252\u001b[0m\n",
            "\n",
            "Calculando soluciones para el objeto \u001b[34m5\u001b[0m\n",
            "Maximo peso soportado: \u001b[31m26\u001b[0m\n",
            "Valor máximo anterior: \u001b[34m339\u001b[0m\n",
            "Valor máximo al elegir el item \u001b[34m5\u001b[0m: \u001b[32m331\u001b[0m\n",
            "Solución óptima para el subproblema: \u001b[35m339\u001b[0m\n",
            "\n",
            "Solución óptima para la entrada: \u001b[32m541\u001b[0m\n"
          ]
        },
        {
          "output_type": "execute_result",
          "data": {
            "text/plain": [
              "(541, 234)"
            ]
          },
          "metadata": {},
          "execution_count": 8
        }
      ]
    },
    {
      "cell_type": "markdown",
      "source": [
        "### 3.1.3 Ejemplo de ejecución\n",
        "\n",
        "Supongamos la siguiente entrada para el algoritmo:\n",
        "\n",
        "*   $n = 4$ *(4 ítems)*\n",
        "*   $W = 5$ *(peso máximo 5 unidades)*\n",
        "*   $W_T = [2,3,4,5]$ *(peso de cada ítem)*\n",
        "*   $\\text{val } = [3,4,5,6]$ *(valor de cada ítem)*\n",
        "\n",
        "Primero generamos la matriz de dimensión $4 \\times 5$, y rellenamos con $0$ los campos donde $i = 0$ ó $w = 0$.\n",
        "\n",
        "![picture](https://i.imgur.com/Hrdrevr.png)\n",
        "\n",
        "Luego calculamos los problemas de $i = 1$ y $W = [1 \\ldots 5]$\n",
        "\n",
        "\n",
        "*   Para $i=1, w=1$ no se cumple ninguna de las condiciones del código, por lo que $K[1][1] = K[i-1][w]$, es decir $K[1][1] = K[0][1] = 0$\n",
        "*   Para $i=1, w=2$ se cumple que $W_T[i-1] \\leq w$ $(W_T[0] = 2 = w)$, por lo que $K[1][2] = \\text{max}(val[0]+K[0][2-wt[0], K[0][2])$, y de esta comparación termina siendo mayor la expresión $val[0]+K[0][2-wt[0]) = 3 + 0 = 3$, es decir, $K[1][2] = 3$\n",
        "*   Para $i=1, w=3$ se cumple que $W_T[i-1] \\leq w$ $(W_T[0] = 2 < w = 3)$, por lo que $K[1][3] = \\text{max}(val[0]+K[0][3-wt[0], K[0][3])$, y de esta comparación termina siendo mayor la expresión $val[0]+K[0][3-wt[0]] = 3$\n",
        "*   Para $i=1, w=4$ se cumple que $W_T[i-1] \\leq w$ $(W_T[0] = 2 < w = 4)$, por lo que $K[1][4] = \\text{max}(val[0]+K[0][4-wt[0], K[0][4])$, y de esta comparación termina siendo mayor la expresión $val[0]+K[0][4-wt[0]] = 3$\n",
        "*   Para $i=1, w=5$ se cumple que $W_T[i-1] \\leq w$ $(W_T[0] = 2 < w = 5)$, por lo que $K[1][5] = \\text{max}(val[0]+K[0][5-wt[0], K[0][5])$, y de esta comparación termina siendo mayor la expresión $val[0]+K[0][5-wt[0]] = 3$\n",
        "\n",
        "Insertamos los sub-problemas en la matriz:\n",
        "\n",
        "![picture](https://i.imgur.com/JTQ9IuQ.png)\n",
        "\n",
        "Y así seguimos hasta completar nuestra matriz de sub-problemas:\n",
        "\n",
        "![picture](https://i.imgur.com/oJWBIVb.png)\n",
        "\n",
        "Donde nuestra solución óptima se encontrará en el índice $K[4][5]$, que es lo que retornará nuestro algoritmo."
      ],
      "metadata": {
        "id": "a_-TaLX1RBCP"
      }
    },
    {
      "cell_type": "markdown",
      "source": [
        "## 3.2 Implementación **Greedy**\n",
        "\n",
        "La implementación **Greedy** de este algoritmo se basa en un **ratio valor/peso** para saber si elegir o no un objeto.\n",
        "\n",
        "El algoritmo **calculará esta proporción para cada objeto** y lo insertará de manera ordenada en un **diccionario auxiliar**, y al finalizar se asumirá que el **primer objeto en el arreglo será el que tiene un mayor beneficio y se sumará al knapsack**.\n",
        "\n",
        "Se sumará el siguiente elemento del diccionario y así sucesivamente hasta **alcanzar la restricción del peso máximo de la mochila**."
      ],
      "metadata": {
        "id": "Gq7-bTHWzuyx"
      }
    },
    {
      "cell_type": "markdown",
      "source": [
        "### 3.2.1 Ejecución paso a paso (`verbose=True`)"
      ],
      "metadata": {
        "id": "W69NJQAXQ11U"
      }
    },
    {
      "cell_type": "code",
      "source": [
        "W, val, wt = knapsack_instance_generator(5)\n",
        "greedy_knapsack(W, wt, val, verbose=True)"
      ],
      "metadata": {
        "id": "Kse8NaqpTRXz",
        "colab": {
          "base_uri": "https://localhost:8080/"
        },
        "outputId": "9c216bf7-94cc-41ec-e6b6-3068cba4dfea"
      },
      "execution_count": 23,
      "outputs": [
        {
          "output_type": "stream",
          "name": "stdout",
          "text": [
            "\u001b[34m3\u001b[0m tiene valor por unidad de peso de \u001b[31m13.833333333333334\u001b[0m\n",
            "\u001b[34m1\u001b[0m tiene valor por unidad de peso de \u001b[31m13.571428571428571\u001b[0m\n",
            "\u001b[34m5\u001b[0m tiene valor por unidad de peso de \u001b[31m13.11111111111111\u001b[0m\n",
            "\u001b[34m2\u001b[0m tiene valor por unidad de peso de \u001b[31m12.75\u001b[0m\n",
            "\u001b[34m4\u001b[0m tiene valor por unidad de peso de \u001b[31m12.647058823529411\u001b[0m\n",
            "Se agrega el elemento \u001b[34m3\u001b[0m. Valor: \u001b[32m166\u001b[0m - Peso: \u001b[35m12\u001b[0m\n",
            "Peso restante en la mochila: \u001b[31m19\u001b[0m\n",
            "Se agrega el elemento \u001b[34m1\u001b[0m. Valor: \u001b[32m95\u001b[0m - Peso: \u001b[35m7\u001b[0m\n",
            "Peso restante en la mochila: \u001b[31m12\u001b[0m\n",
            "Se agrega el elemento \u001b[34m2\u001b[0m. Valor: \u001b[32m102\u001b[0m - Peso: \u001b[35m8\u001b[0m\n",
            "Peso restante en la mochila: \u001b[31m4\u001b[0m\n",
            "Se retorna la solución máxima encontrada: \u001b[32m363\u001b[0m\n"
          ]
        },
        {
          "output_type": "execute_result",
          "data": {
            "text/plain": [
              "(363, 10)"
            ]
          },
          "metadata": {},
          "execution_count": 23
        }
      ]
    },
    {
      "cell_type": "markdown",
      "source": [
        "### 3.2.2 Ejemplo de ejecución\n",
        "\n",
        "Supongamos la siguiente entrada para el algoritmo:\n",
        "\n",
        "*   $n = 4$ *(4 ítems)*\n",
        "*   $W = 25$ *(peso máximo 25 unidades)*\n",
        "*   $W_T = [24,10,10,7]$ *(peso de cada ítem)*\n",
        "*   $\\text{val } = [24,18,18,10]$ *(valor de cada ítem)*\n",
        "\n",
        "Calcularemos el **ratio valor/peso** para cada objeto, que quedará de la forma:\n",
        "\n",
        "$[1, 1.8, 1.8, 1.42]$\n",
        "\n",
        "**El algoritmo tomará el objeto con menor relación valor/peso**, que es el primero, que tiene peso $24$ unidades y valor $24$, y **esto no permite que se ingresen mas elementos a la mochila**, por lo que **se retornará la solución $24$** como el máximo valor obtenible, que como podemos apreciar, **no es la solución óptima global.**"
      ],
      "metadata": {
        "id": "iIOMkyFvQ8yD"
      }
    },
    {
      "cell_type": "markdown",
      "source": [
        "# 4. Análisis del tiempo de ejecución"
      ],
      "metadata": {
        "id": "zOS4M0CGJuqU"
      }
    },
    {
      "cell_type": "markdown",
      "source": [
        "## 4.1 Tiempo de ejecución del algoritmo **Bottom-Up**\n",
        "\n",
        "Para analizar el tiempo de ejecución del algoritmo, basta con observar la parte principal del código:\n",
        "![picture](https://i.imgur.com/focUjFi.png)\n",
        "\n",
        "\n",
        "1.   Se utilizan 2 ciclos `for`, que iteran en los intervalos $[0 \\ldots n]$ y $[0 \\ldots W]$ respectivamente. Como ya sabemos, la complejidad de bucles anidados corresponde a la cantidad de veces que se ejecuta la sentencia de más adentro. En este caso, será $n \\cdot W$, por lo que la complejidad de esta sección es: $O(nW)$\n",
        "2.   Luego asignamos un valor a un índice de la matriz $K$, esto tiene complejidad constante $O(1)$.\n",
        "3.   Ahora, asignamos un valor a un índice de la matriz $K$, pero también utilizamos la función `max()`, que tiene tiempo de ejecución $O(n)$ donde $n$ es la cantidad de elementos, pero ya que solo comparamos 2 elementos la complejidad de esta sección es $O(2)$\n",
        "4.   Finalmente asignamos un valor a un índice de la matriz $K$, esto tiene complejidad constante $O(1)$.\n",
        "\n",
        "De esta forma, sumando las complejidades obtenemos la siguiente expresión, y al expresarla en notación asintótica obtenemos el tiempo de ejecución del algoritmo **Bottom-Up**: \n",
        "\n",
        "$O(nW)+O(1)+O(2)+O(1) = O(nW)$. $\\blacksquare$"
      ],
      "metadata": {
        "id": "bKH-65fWJy6A"
      }
    },
    {
      "cell_type": "markdown",
      "source": [
        "## 4.2 Tiempo de ejecución del Algoritmo **Greedy**.\n",
        "\n",
        "Para analizar el tiempo de ejecución de este algoritmo, basta con ver el código.\n",
        "\n",
        "![picture](https://i.imgur.com/z1ahz2K.png)\n",
        "\n",
        "Como podemos ver, existen 3 principales operaciones:\n",
        "\n",
        "\n",
        "\n",
        "1.   Calcular el **ratio valor/peso**, esto tiene complejidad $O(n)$.\n",
        "2.   Ordenar cada **ratio valor/peso** dentro del diccionario utilizando `sorted()`, esta función de **Python** utiliza el algoritmo **Timsort**, que tiene tiempo de ejecución $O(n \\ log \\ n)$.\n",
        "3.   Iterar en el diccionario y calcular la solución tiene complejidad $O(n)$.\n",
        "\n",
        "Al sumar las complejidades del algoritmo y expresarlas en notación asintótica, obtenemos que **el tiempo de ejecución del algoritmo greedy es $O(n \\ log \\ n)$.** $\\blacksquare$\n",
        "\n"
      ],
      "metadata": {
        "id": "jp45FbAcM4QF"
      }
    },
    {
      "cell_type": "markdown",
      "source": [
        "# 5. Correctitud\n"
      ],
      "metadata": {
        "id": "XPvK9oUBQS6C"
      }
    },
    {
      "cell_type": "markdown",
      "source": [
        "## 5.1 Correctitud del Algoritmo **Bottom-Up**\n",
        "\n",
        "### **Hipótesis**\n",
        "> *En cada iteración, **el algoritmo retorna el valor óptimo para un peso máximo $w$**, esto quiere decir que en la última iteración, el valor máximo retornado será la solución óptima global para el peso $W$ de la entrada del problema.*\n",
        "\n",
        "### **Prueba de la Hipótesis**\n",
        "Para probar esta hipótesis, utilizaremos inducción matemática.\n",
        "\n",
        "**Caso base:** En la primera iteración, el peso máximo $w$ será $0$, es decir, no se seleccionó ningún objeto, por lo que el algoritmo retornará el valor máximo $0$, que trivialmente es el máximo valor obtenible para $0$ objetos.\n",
        "\n",
        "**Paso inductivo:** Para pesos mayores $w>0$, el algoritmo primero verificará si el peso del objeto a agregar no supera la restricción establecida por el peso $w$, y de cumplirse, se compara si el valor del objeto a agregar mas el máximo beneficio obtenible con el peso restante de la mochila es mayor que el máximo beneficio obtenible con la iteración anterior para el mismo peso, y el algoritmo elegirá la solución que sea mayor.\n",
        "\n",
        "A partir del paso inductivo podemos saber que en la última iteración ($w = W$), se comparará el máximo valor posible agregando o no el objeto con mayor peso seleccionable, y de esta manera, se retornará el máximo valor obtenible según la restricción de peso $W$. $\\blacksquare$"
      ],
      "metadata": {
        "id": "vxDZoaigQVxh"
      }
    },
    {
      "cell_type": "markdown",
      "source": [
        "## 5.2 ¿Por qué no es correcto el algoritmo **Greedy**?\n",
        "\n",
        "La **solución óptima global** para el **problema de la mochila** es tomar el **objeto con el mayor ratio valor/peso**. La **propiedad greedy dice que la solución óptima global puede ser obtenida a partir de una solución óptima local**. En esta versión del algoritmo llamada **0/1 Knapsack** donde solo podemos decidir si llevar un objeto o no, **esta propiedad no se puede cumple**. Esto se puede demostrar fácilmente con un ejemplo:\n",
        "\n",
        "Digamos que nuestra capacidad total de la mochila sea igual a una constante $c$, quedando $W = c$, y tenemos un tamaño de problema $n=2$.\n",
        "Sea el peso del primer objeto $w_1 = c$ y su precio $\\text{val}_1 = 1$. El peso del segundo objeto será $w_2 = 1$ y su precio $\\text{val}_2 = 1$. El algoritmo greedy seleccionará únicamente el objeto 2, pero la solución óptima global corresponde a seleccionar el objeto 1. Esto significa que obtenemos una solución $c-1$ veces menor que el verdadero óptimo global."
      ],
      "metadata": {
        "id": "XZHMeqiJQc0z"
      }
    },
    {
      "cell_type": "markdown",
      "source": [
        "# 6. Experimentos"
      ],
      "metadata": {
        "id": "mmxuIJqOQsiC"
      }
    },
    {
      "cell_type": "markdown",
      "source": [
        "## 6.1 Comparación de los tiempos de ejecución en función del tamaño del problema\n",
        "\n",
        "Se comparará experimentalmente el tiempo de ejecución de ambos algoritmos con entradas aleatorias de tamaño $n \\in [5,50]$ generadas con un **generador de instancias aleatorias**.\n",
        "\n",
        "También, para hacer mas evidente la comparación se medirá el tiempo de ejecución del algoritmo **Greedy** con entradas aleatorias de tamaño $n \\in [5,500]$ generadas con un **generador de instancias aleatorias**."
      ],
      "metadata": {
        "id": "KSAZp5W4T60B"
      }
    },
    {
      "cell_type": "markdown",
      "source": [
        "### 6.1.1 Comparación de ambos algoritmos con entradas aleatorias"
      ],
      "metadata": {
        "id": "Mt9f3OJqWjnY"
      }
    },
    {
      "cell_type": "code",
      "source": [
        "import datetime\n",
        "import random\n",
        "from timeit import repeat\n",
        "import matplotlib.pyplot as plt\n",
        "\n",
        "x=[]; y1=[]; y2=[]\n",
        "\n",
        "for n in range(5,51):\n",
        "\n",
        "    W, wt, val = knapsack_instance_generator(n)\n",
        "\n",
        "    # repeat() ejecuta 10 veces los algoritmos con la instancia aleatoria y retorna el mejor tiempo obtenido\n",
        "    t_dynamic = repeat(setup=\"from __main__ import knapsack\", stmt=f\"knapsack({W}, {wt}, {val})\", repeat=1, number=10)\n",
        "    t_greedy = repeat(setup=\"from __main__ import greedy_knapsack\", stmt=f\"greedy_knapsack({W}, {wt}, {val})\", repeat=1, number=10)\n",
        "    x.append(n)\n",
        "    y1.append(t_dynamic)\n",
        "    y2.append(t_greedy)\n",
        "\n",
        "plt.plot(x,y1)\n",
        "plt.plot(x,y2)\n",
        "plt.legend([\"Bottom-Up Knapsack\", \"Greedy Knapsack\"])\n",
        "\n",
        "plt.xlabel('Tamaño del problema n')\n",
        "plt.ylabel('Tiempo en ms')\n",
        "plt.show()"
      ],
      "metadata": {
        "colab": {
          "base_uri": "https://localhost:8080/",
          "height": 279
        },
        "id": "MDU8tfYEUfWj",
        "outputId": "a7382f60-07db-4028-e3dc-be3a73a8f7e3"
      },
      "execution_count": null,
      "outputs": [
        {
          "output_type": "display_data",
          "data": {
            "text/plain": [
              "<Figure size 432x288 with 1 Axes>"
            ],
            "image/png": "[encoded data removed]"
          },
          "metadata": {
            "needs_background": "light"
          }
        }
      ]
    },
    {
      "cell_type": "markdown",
      "source": [
        "### 6.1.2 Medición del tiempo del algoritmo Greedy"
      ],
      "metadata": {
        "id": "rcaqfBC-WnjW"
      }
    },
    {
      "cell_type": "code",
      "source": [
        "import datetime\n",
        "import random\n",
        "from timeit import repeat\n",
        "import matplotlib.pyplot as plt\n",
        "\n",
        "x=[]; y1=[]\n",
        "\n",
        "for n in range(5,501):\n",
        "\n",
        "    W, wt, val = knapsack_instance_generator(n)\n",
        "\n",
        "    # repeat() ejecuta 10 veces los algoritmos con la instancia aleatoria y retorna el mejor tiempo obtenido\n",
        "    t_greedy = repeat(setup=\"from __main__ import greedy_knapsack\", stmt=f\"greedy_knapsack({W}, {wt}, {val})\", repeat=1, number=10)\n",
        "    x.append(n)\n",
        "    y1.append(t_greedy)\n",
        "\n",
        "plt.plot(x,y1)\n",
        "plt.legend([\"Greedy Knapsack\"])\n",
        "\n",
        "plt.xlabel('Tamaño del problema n')\n",
        "plt.ylabel('Tiempo en ms')\n",
        "plt.show()"
      ],
      "metadata": {
        "colab": {
          "base_uri": "https://localhost:8080/",
          "height": 279
        },
        "id": "qrj75mbjWIfR",
        "outputId": "067c61a4-2e89-4773-baf7-c18c6bf2bda3"
      },
      "execution_count": null,
      "outputs": [
        {
          "output_type": "display_data",
          "data": {
            "text/plain": [
              "<Figure size 432x288 with 1 Axes>"
            ],
            "image/png": "[encoded data removed]"
          },
          "metadata": {
            "needs_background": "light"
          }
        }
      ]
    },
    {
      "cell_type": "markdown",
      "source": [
        "### 6.1.3 Análisis de resultados\n",
        "\n",
        "Como se puede observar en el primer gráfico, el algoritmo **Bottom-Up** es mucho menos eficiente que el algoritmo **greedy**, ya que **para tamaños de problema grande este supera los** $1.2 \\text{[ms]}$, mientras que el algoritmo **Greedy se mantiene demasiado cerca de los los** $0 \\text{[ms]}$. Esto se hace mas evidente al observar la segunda gráfica, que muestra que para un tamaño de problema $500$ el algoritmo está bajo los $0.003 \\text{[ms]}$."
      ],
      "metadata": {
        "id": "2juPMwwJWtPX"
      }
    },
    {
      "cell_type": "markdown",
      "source": [
        "## 6.2 Cantidad de **iteraciones/subproblemas** en función del tamaño\n",
        "\n",
        "Se comparará experimentalmente la cantidad de ambos algoritmos con entradas aleatorias de tamaño $n \\in [5,100]$ generadas con un **generador de instancias aleatorias**.\n",
        "\n",
        "Tambien, se mediran por separado los algoritmos con el mismo tamaño de problema."
      ],
      "metadata": {
        "id": "OW09fmKQXvlf"
      }
    },
    {
      "cell_type": "markdown",
      "source": [
        "### 6.2.1 Comparación de ambos algoritmos"
      ],
      "metadata": {
        "id": "SofgcvwZahil"
      }
    },
    {
      "cell_type": "code",
      "source": [
        "import matplotlib.pyplot as plt\n",
        "\n",
        "x=[]; y1=[]; y2=[]\n",
        "\n",
        "for n in range(5,100):\n",
        "\n",
        "    W, wt, val = knapsack_instance_generator(n)\n",
        "\n",
        "    maxV, subp = knapsack(W, wt, val)\n",
        "    maxV, iter = greedy_knapsack(W, wt, val)\n",
        "    \n",
        "    x.append(n)\n",
        "    y1.append(subp)\n",
        "    y2.append(iter)\n",
        "\n",
        "plt.plot(x,y1)\n",
        "plt.plot(x,y2)\n",
        "plt.legend([\"Subproblemas Bottom-Up\", \"Iteraciones Greedy\"])\n",
        "\n",
        "plt.xlabel('Tamaño del problema n')\n",
        "plt.ylabel('Cantidad')\n",
        "plt.show()"
      ],
      "metadata": {
        "colab": {
          "base_uri": "https://localhost:8080/",
          "height": 279
        },
        "id": "CQleNUR4YET4",
        "outputId": "d9bdf977-cb4e-45a7-fbc6-3848cca40857"
      },
      "execution_count": null,
      "outputs": [
        {
          "output_type": "display_data",
          "data": {
            "text/plain": [
              "<Figure size 432x288 with 1 Axes>"
            ],
            "image/png": "[encoded data removed]"
          },
          "metadata": {
            "needs_background": "light"
          }
        }
      ]
    },
    {
      "cell_type": "markdown",
      "source": [
        "### 6.2.2 Iteraciones algoritmo Greedy"
      ],
      "metadata": {
        "id": "_pWX9-Wcat8C"
      }
    },
    {
      "cell_type": "code",
      "source": [
        "import matplotlib.pyplot as plt\n",
        "\n",
        "x=[]; y1=[]\n",
        "\n",
        "for n in range(5,100):\n",
        "\n",
        "    W, wt, val = knapsack_instance_generator(n)\n",
        "\n",
        "    maxV, iter = greedy_knapsack(W, wt, val)\n",
        "    \n",
        "    x.append(n)\n",
        "    y1.append(iter)\n",
        "\n",
        "plt.plot(x,y1)\n",
        "plt.legend([\"Iteraciones Greedy\"])\n",
        "\n",
        "plt.xlabel('Tamaño del problema n')\n",
        "plt.ylabel('Cantidad')\n",
        "plt.show()"
      ],
      "metadata": {
        "colab": {
          "base_uri": "https://localhost:8080/",
          "height": 279
        },
        "id": "0mQFDvseYxpC",
        "outputId": "5054f274-05f3-43a5-9240-9516696fee14"
      },
      "execution_count": null,
      "outputs": [
        {
          "output_type": "display_data",
          "data": {
            "text/plain": [
              "<Figure size 432x288 with 1 Axes>"
            ],
            "image/png": "[encoded data removed]"
          },
          "metadata": {
            "needs_background": "light"
          }
        }
      ]
    },
    {
      "cell_type": "markdown",
      "source": [
        "### 6.2.3 Subproblemas algoritmo Bottom-Up"
      ],
      "metadata": {
        "id": "0lcpIiYoazyi"
      }
    },
    {
      "cell_type": "code",
      "source": [
        "import matplotlib.pyplot as plt\n",
        "\n",
        "x=[]; y1=[]\n",
        "\n",
        "for n in range(5,100):\n",
        "\n",
        "    W, wt, val = knapsack_instance_generator(n)\n",
        "\n",
        "    maxV, subp = knapsack(W, wt, val)\n",
        "    \n",
        "    x.append(n)\n",
        "    y1.append(subp)\n",
        "\n",
        "plt.plot(x,y1)\n",
        "plt.legend([\"Subproblemas Bottom-Up\"])\n",
        "\n",
        "plt.xlabel('Tamaño del problema n')\n",
        "plt.ylabel('Cantidad')\n",
        "plt.show()"
      ],
      "metadata": {
        "colab": {
          "base_uri": "https://localhost:8080/",
          "height": 279
        },
        "id": "lkXKu0ytY-5D",
        "outputId": "6cb360ac-b67f-4571-97b5-88e4faca4ebb"
      },
      "execution_count": null,
      "outputs": [
        {
          "output_type": "display_data",
          "data": {
            "text/plain": [
              "<Figure size 432x288 with 1 Axes>"
            ],
            "image/png": "[encoded data removed]"
          },
          "metadata": {
            "needs_background": "light"
          }
        }
      ]
    },
    {
      "cell_type": "markdown",
      "source": [
        "### 6.2.4 Análisis de resultados\n",
        "\n",
        "Como se puede observar en los resultados, la versión **Greedy** del algoritmo muestra tener una relación **lineal** entre el tamaño del problema y la cantidad de iteraciones realizadas, mientras que la versión **Bottom-Up** muestra una relación **exponencial**, esto es fácil de apreciar al observar el tamaño de problema $100$, donde el algoritmo **Greedy** debe realizar $200$ iteraciones, mientras que el algoritmo **Bottom-Up resuelve $700000$ subproblemas**, por lo que demuestra ser mucho mas ineficiente temporalmente hablando."
      ],
      "metadata": {
        "id": "uOZLXtgja3W5"
      }
    },
    {
      "cell_type": "markdown",
      "source": [
        "## 6.3 Valores máximos alcanzados\n",
        "Compararemos experimentalmente las **soluciones entregadas por los algoritmos para la misma entrada aleatoria**, con un tamaño de problema $n \\in [5,50]$."
      ],
      "metadata": {
        "id": "I7uXMAxvbkjv"
      }
    },
    {
      "cell_type": "code",
      "source": [
        "import matplotlib.pyplot as plt\n",
        "\n",
        "x=[]; y1=[]; y2=[]\n",
        "\n",
        "for n in range(5,50):\n",
        "\n",
        "    W, wt, val = knapsack_instance_generator(n)\n",
        "\n",
        "    maxBU, subp = knapsack(W, wt, val)\n",
        "    maxG, iter = greedy_knapsack(W, wt, val)\n",
        "    \n",
        "    x.append(n)\n",
        "    y1.append(maxBU)\n",
        "    y2.append(maxG)\n",
        "\n",
        "plt.plot(x,y1)\n",
        "plt.plot(x,y2)\n",
        "plt.legend([\"Máximos Bottom-Up\", \"Máximos Greedy\"])\n",
        "\n",
        "plt.xlabel('Tamaño del problema n')\n",
        "plt.ylabel('Valor')\n",
        "plt.show()"
      ],
      "metadata": {
        "colab": {
          "base_uri": "https://localhost:8080/",
          "height": 279
        },
        "id": "v7m91qm-uxKm",
        "outputId": "2a7aa0b6-1c3a-4f9e-8230-c228de32f865"
      },
      "execution_count": 10,
      "outputs": [
        {
          "output_type": "display_data",
          "data": {
            "text/plain": [
              "<Figure size 432x288 with 1 Axes>"
            ],
            "image/png": "[encoded data removed]"
          },
          "metadata": {
            "needs_background": "light"
          }
        }
      ]
    },
    {
      "cell_type": "markdown",
      "source": [
        "### 6.3.1 Análisis de resultados\n",
        "\n",
        "Al analizar la gráfica, es evidente que el algoritmo **bottom-up** siempre entrega una solución **mayor o igual** que el algoritmo **greedy**, esto pone en evidencia que **el algoritmo greedy a pesar de ser mas eficiente temporalmente que el algoritmo bottom-up, no siempre logra encontrar la solución óptima global.**"
      ],
      "metadata": {
        "id": "Fq0hsHuxvbSC"
      }
    }
  ]
}