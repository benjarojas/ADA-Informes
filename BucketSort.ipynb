{
  "nbformat": 4,
  "nbformat_minor": 0,
  "metadata": {
    "colab": {
      "provenance": [],
      "collapsed_sections": [],
      "authorship_tag": "ABX9TyPLA9a3kquIhSuNkvWBVe2Q",
      "include_colab_link": true
    },
    "kernelspec": {
      "name": "python3",
      "display_name": "Python 3"
    },
    "language_info": {
      "name": "python"
    }
  },
  "cells": [
    {
      "cell_type": "markdown",
      "metadata": {
        "id": "view-in-github",
        "colab_type": "text"
      },
      "source": [
        "<a href=\"https://colab.research.google.com/github/benjarojas/ADA-Informes/blob/main/BucketSort.ipynb\" target=\"_parent\"><img src=\"https://colab.research.google.com/assets/colab-badge.svg\" alt=\"Open In Colab\"/></a>"
      ]
    },
    {
      "cell_type": "markdown",
      "source": [
        "# 1. Problema de Ordenamiento\n",
        "**Entrada**: Conjunto de n elementos $[ a_1, a_2, \\ldots, a_n ]$\n",
        "\n",
        "**Salida**: Permutación de los elementos de entrada $ [ a_1', a_2', \\ldots, a_n' ] $ de forma que $ a_1' \\leq a_2' \\leq \\ldots \\leq a_n' $\n",
        "\n",
        "El **ordenamiento** es un problema estudiado desde los inicios de las ciencias de la computación puesto que a pesar de existir muchos algoritmos que lo resuelvan, cada uno de estos presenta ventajas y desventajas según sea el caso donde se aplique. En este informe se estudiará el algoritmo ***BucketSort***, que a diferencia de los algoritmos estudiados anteriormente, tiene la cualidad de tener un tiempo de ejecución **lineal** $O(n)$ en su caso promedio."
      ],
      "metadata": {
        "id": "o2Ba7aB7RLRV"
      }
    },
    {
      "cell_type": "markdown",
      "source": [
        "# 2. Código\n",
        "\n",
        "A continuación se enseña el algoritmo **BucketSort** implementado en **Python**, incluyendo el algoritmo de ordenamiento que necesita para ordenar cada **bucket** respectivo."
      ],
      "metadata": {
        "id": "PT7LAUulZNa1"
      }
    },
    {
      "cell_type": "markdown",
      "source": [
        "## 2.1 InsertionSort\n",
        "\n",
        "Luego de dividir el arreglo inicial en ***buckets***, utilizamos **Insertion Sort** para ordenar cada **bucket individualmente**."
      ],
      "metadata": {
        "id": "Ew-LeSb7ZQNd"
      }
    },
    {
      "cell_type": "code",
      "source": [
        "def insertion_sort(A):\n",
        "    for i in range(1, len(A)):\n",
        "        key = A[i]\n",
        "        j = i - 1\n",
        "        while j >= 0:\n",
        "            if key < A[j]:\n",
        "                A[j + 1] = A[j]\n",
        "                j -= 1\n",
        "            else:\n",
        "                break\n",
        "        A[j + 1] = key\n",
        "    return A"
      ],
      "metadata": {
        "id": "8lDuNd1kR0UJ"
      },
      "execution_count": 5,
      "outputs": []
    },
    {
      "cell_type": "markdown",
      "source": [
        "## 2.2 BucketSort"
      ],
      "metadata": {
        "id": "2H4TKhh5ZcZF"
      }
    },
    {
      "cell_type": "code",
      "source": [
        "from termcolor import colored\n",
        "\n",
        "def bucket_sort(A, verbose=False):\n",
        "    if(verbose): print(f\"Arreglo de entrada: {colored(str(A), 'red')}\\n\")\n",
        "    buckets = []\n",
        "    bucket_count = 10\n",
        "\n",
        "    for i in range(bucket_count):\n",
        "        buckets.append([])\n",
        "    if(verbose): print(f\"Creamos el arreglo {colored('buckets', 'red')}: {colored(str(buckets), 'red')}\\n\")\n",
        "\n",
        "    for j in A:\n",
        "        bucket_index = int(bucket_count*j)\n",
        "        if(verbose): print(f\"Tomamos el elemento: {colored(str(j), 'green')}\")\n",
        "        if(verbose): print(f\"Multiplicamos {colored(str(j), 'green')} por 10 y aproximamos: {colored(str(bucket_index), 'green')}\")\n",
        "        buckets[bucket_index].append(j)\n",
        "        if(verbose): print(f\"Agregamos {colored(str(j), 'green')} al bucket {colored(str(bucket_index), 'red')}: {colored(str(buckets[bucket_index]), 'red')}\\n\")\n",
        "    \n",
        "    for i in range(bucket_count):\n",
        "        if(verbose): print(f\"Ordenamos el bucket {colored(str(i), 'red')}: {colored(str(buckets[i]), 'red')}\")\n",
        "        buckets[i] = insertion_sort(buckets[i])\n",
        "        if(verbose): print(f\"Bucket {colored(str(i), 'red')} ordenado: {colored(str(buckets[i]), 'blue')}\\n\")\n",
        "    \n",
        "    if(verbose): print(f\"Finalmente, insertamos cada elemento en su posición respectiva\\n\")\n",
        "    k = 0\n",
        "    for i in range(bucket_count):\n",
        "        for j in range(len(buckets[i])):\n",
        "            if(verbose): print(f\"El elemento {colored(str(buckets[i][j]), 'green')} va en la posición {colored(str(k), 'red')} del arreglo de entrada\")\n",
        "            A[k] = buckets[i][j]\n",
        "            if(verbose): print(f\"Arreglo de salida: {colored(str(A[:k+1]), 'blue')}\\n\")\n",
        "            k += 1\n",
        "    return A"
      ],
      "metadata": {
        "id": "wrg84hDxSQQL"
      },
      "execution_count": 16,
      "outputs": []
    },
    {
      "cell_type": "markdown",
      "source": [
        "# 3. Descripción del algoritmo\n",
        "\n",
        "El algoritmo **BucketSort** es un algoritmo de ordenamiento que tiene la cualidad de tener complejidad **lineal** para su caso promedio, y este es muy útil a la hora de ordenar entradas **uniformemente distribuidas**. Realiza las siguientes operaciones para números de punto flotante en el rango $[0, 1]$:\n",
        "\n",
        "\n",
        "1.   Creamos un arreglo de arreglos de tamaño $10$, donde cada arreglo será llamado **bucket** y tendrá asociado un rango.\n",
        "2.   Se tomará cada elemento del arreglo de entrada, se multiplicará por $10$ y se le aplicará la función **floor o parte entera**, es decir, se descartarán los decimales y el número resultante será utilizado como índice.\n",
        "3.   Una vez calculado el índice, es en ese **bucket** donde insertaremos el elemento, y repetiremos eso para todos los elementos de entrada.\n",
        "4.   Ahora, utilizamos el algoritmo **Insertion Sort** para ordenar cada **bucket**.\n",
        "5.   Finalmente, tomamos cada **bucket** y agregamos cada uno de sus elementos al arreglo de salida, quedando ordenado.\n"
      ],
      "metadata": {
        "id": "HhC2AGkNZ4ig"
      }
    },
    {
      "cell_type": "markdown",
      "source": [
        "## 3.1 Ejemplo de ejecución\n",
        "\n",
        "Tomaremos como ejemplo el siguiente arreglo de entrada:\n",
        "\n",
        "![picture](https://i.imgur.com/cHlNQe4.png)\n",
        "\n",
        "Ahora, el algoritmo creará un arreglo de arreglos llamados **buckets**. Cada **bucket** tendrá asociado un rango:\n",
        "\n",
        "![picture](https://i.imgur.com/8bFsgrc.png)\n",
        "\n",
        "El algoritmo recorrerá el arreglo de entrada y tomará cada elemento, lo multiplicara por 10 y le aplicará la operación **floor/parte entera**, obteniendo así su **bucket** respectivo:\n",
        "\n",
        "![picture](https://i.imgur.com/CoPkIbE.png)\n",
        "\n",
        "Una vez insertado cada elemento en su respectivo **bucket**, el arreglo **buckets** se verá así:\n",
        "\n",
        "![picture](https://i.imgur.com/G4oCIgd.png)\n",
        "\n",
        "Luego, aplicaremos **InsertionSort** a cada **bucket** individualmente para ordenarlos, en este caso solamente se verá afectado el **bucket 6** (`buckets[5]`):\n",
        "\n",
        "![picture](https://i.imgur.com/y911xn8.png)\n",
        "\n",
        "Finalmente, se tomará cada **bucket** y se insertarán en el arreglo de salida quedando ordenado:\n",
        "\n",
        "![picture](https://i.imgur.com/UZGQsDW.png)"
      ],
      "metadata": {
        "id": "w6M56RSuaS0X"
      }
    },
    {
      "cell_type": "markdown",
      "source": [
        "## 3.2 Ejecución paso a paso (`verbose = True`)"
      ],
      "metadata": {
        "id": "uz0h-bJzaY3W"
      }
    },
    {
      "cell_type": "code",
      "source": [
        "import random\n",
        "A = [random.uniform(0,1) for x in range(5)] # Arreglo aleatorio de elementos entre 0 y 1\n",
        "A = bucket_sort(A, verbose=True) # Ordenamos con verbose=True"
      ],
      "metadata": {
        "colab": {
          "base_uri": "https://localhost:8080/"
        },
        "id": "HrK1HQOEa2Yv",
        "outputId": "a5c9fc97-18a9-4b0a-9a1f-54116ec581ed"
      },
      "execution_count": 119,
      "outputs": [
        {
          "output_type": "stream",
          "name": "stdout",
          "text": [
            "Arreglo de entrada: \u001b[31m[0.3232294846377327, 0.3435320216233735, 0.8739503052374353, 0.6526424481333726, 0.026631045841448486]\u001b[0m\n",
            "\n",
            "Creamos el arreglo \u001b[31mbuckets\u001b[0m: \u001b[31m[[], [], [], [], [], [], [], [], [], []]\u001b[0m\n",
            "\n",
            "Tomamos el elemento: \u001b[32m0.3232294846377327\u001b[0m\n",
            "Multiplicamos \u001b[32m0.3232294846377327\u001b[0m por 10 y aproximamos: \u001b[32m3\u001b[0m\n",
            "Agregamos \u001b[32m0.3232294846377327\u001b[0m al bucket \u001b[31m3\u001b[0m: \u001b[31m[0.3232294846377327]\u001b[0m\n",
            "\n",
            "Tomamos el elemento: \u001b[32m0.3435320216233735\u001b[0m\n",
            "Multiplicamos \u001b[32m0.3435320216233735\u001b[0m por 10 y aproximamos: \u001b[32m3\u001b[0m\n",
            "Agregamos \u001b[32m0.3435320216233735\u001b[0m al bucket \u001b[31m3\u001b[0m: \u001b[31m[0.3232294846377327, 0.3435320216233735]\u001b[0m\n",
            "\n",
            "Tomamos el elemento: \u001b[32m0.8739503052374353\u001b[0m\n",
            "Multiplicamos \u001b[32m0.8739503052374353\u001b[0m por 10 y aproximamos: \u001b[32m8\u001b[0m\n",
            "Agregamos \u001b[32m0.8739503052374353\u001b[0m al bucket \u001b[31m8\u001b[0m: \u001b[31m[0.8739503052374353]\u001b[0m\n",
            "\n",
            "Tomamos el elemento: \u001b[32m0.6526424481333726\u001b[0m\n",
            "Multiplicamos \u001b[32m0.6526424481333726\u001b[0m por 10 y aproximamos: \u001b[32m6\u001b[0m\n",
            "Agregamos \u001b[32m0.6526424481333726\u001b[0m al bucket \u001b[31m6\u001b[0m: \u001b[31m[0.6526424481333726]\u001b[0m\n",
            "\n",
            "Tomamos el elemento: \u001b[32m0.026631045841448486\u001b[0m\n",
            "Multiplicamos \u001b[32m0.026631045841448486\u001b[0m por 10 y aproximamos: \u001b[32m0\u001b[0m\n",
            "Agregamos \u001b[32m0.026631045841448486\u001b[0m al bucket \u001b[31m0\u001b[0m: \u001b[31m[0.026631045841448486]\u001b[0m\n",
            "\n",
            "Ordenamos el bucket \u001b[31m0\u001b[0m: \u001b[31m[0.026631045841448486]\u001b[0m\n",
            "Bucket \u001b[31m0\u001b[0m ordenado: \u001b[34m[0.026631045841448486]\u001b[0m\n",
            "\n",
            "Ordenamos el bucket \u001b[31m1\u001b[0m: \u001b[31m[]\u001b[0m\n",
            "Bucket \u001b[31m1\u001b[0m ordenado: \u001b[34m[]\u001b[0m\n",
            "\n",
            "Ordenamos el bucket \u001b[31m2\u001b[0m: \u001b[31m[]\u001b[0m\n",
            "Bucket \u001b[31m2\u001b[0m ordenado: \u001b[34m[]\u001b[0m\n",
            "\n",
            "Ordenamos el bucket \u001b[31m3\u001b[0m: \u001b[31m[0.3232294846377327, 0.3435320216233735]\u001b[0m\n",
            "Bucket \u001b[31m3\u001b[0m ordenado: \u001b[34m[0.3232294846377327, 0.3435320216233735]\u001b[0m\n",
            "\n",
            "Ordenamos el bucket \u001b[31m4\u001b[0m: \u001b[31m[]\u001b[0m\n",
            "Bucket \u001b[31m4\u001b[0m ordenado: \u001b[34m[]\u001b[0m\n",
            "\n",
            "Ordenamos el bucket \u001b[31m5\u001b[0m: \u001b[31m[]\u001b[0m\n",
            "Bucket \u001b[31m5\u001b[0m ordenado: \u001b[34m[]\u001b[0m\n",
            "\n",
            "Ordenamos el bucket \u001b[31m6\u001b[0m: \u001b[31m[0.6526424481333726]\u001b[0m\n",
            "Bucket \u001b[31m6\u001b[0m ordenado: \u001b[34m[0.6526424481333726]\u001b[0m\n",
            "\n",
            "Ordenamos el bucket \u001b[31m7\u001b[0m: \u001b[31m[]\u001b[0m\n",
            "Bucket \u001b[31m7\u001b[0m ordenado: \u001b[34m[]\u001b[0m\n",
            "\n",
            "Ordenamos el bucket \u001b[31m8\u001b[0m: \u001b[31m[0.8739503052374353]\u001b[0m\n",
            "Bucket \u001b[31m8\u001b[0m ordenado: \u001b[34m[0.8739503052374353]\u001b[0m\n",
            "\n",
            "Ordenamos el bucket \u001b[31m9\u001b[0m: \u001b[31m[]\u001b[0m\n",
            "Bucket \u001b[31m9\u001b[0m ordenado: \u001b[34m[]\u001b[0m\n",
            "\n",
            "Finalmente, insertamos cada elemento en su posición respectiva\n",
            "\n",
            "El elemento \u001b[32m0.026631045841448486\u001b[0m va en la posición \u001b[31m0\u001b[0m del arreglo de entrada\n",
            "Arreglo de salida: \u001b[34m[0.026631045841448486]\u001b[0m\n",
            "\n",
            "El elemento \u001b[32m0.3232294846377327\u001b[0m va en la posición \u001b[31m1\u001b[0m del arreglo de entrada\n",
            "Arreglo de salida: \u001b[34m[0.026631045841448486, 0.3232294846377327]\u001b[0m\n",
            "\n",
            "El elemento \u001b[32m0.3435320216233735\u001b[0m va en la posición \u001b[31m2\u001b[0m del arreglo de entrada\n",
            "Arreglo de salida: \u001b[34m[0.026631045841448486, 0.3232294846377327, 0.3435320216233735]\u001b[0m\n",
            "\n",
            "El elemento \u001b[32m0.6526424481333726\u001b[0m va en la posición \u001b[31m3\u001b[0m del arreglo de entrada\n",
            "Arreglo de salida: \u001b[34m[0.026631045841448486, 0.3232294846377327, 0.3435320216233735, 0.6526424481333726]\u001b[0m\n",
            "\n",
            "El elemento \u001b[32m0.8739503052374353\u001b[0m va en la posición \u001b[31m4\u001b[0m del arreglo de entrada\n",
            "Arreglo de salida: \u001b[34m[0.026631045841448486, 0.3232294846377327, 0.3435320216233735, 0.6526424481333726, 0.8739503052374353]\u001b[0m\n",
            "\n"
          ]
        }
      ]
    },
    {
      "cell_type": "markdown",
      "source": [
        "# 4. Propiedades del algoritmo"
      ],
      "metadata": {
        "id": "dMy-6D_6Z8pD"
      }
    },
    {
      "cell_type": "markdown",
      "source": [
        "## 4.1 Análisis del tiempo de ejecución\n",
        "\n",
        "Al analizar el código del algoritmo, es fácil darse cuenta que en el peor caso cada operación que realiza el algoritmo tiene complejidad $O(n)$ a excepción de la sección donde ordenamos cada ***Bucket*** que depende de otro algoritmo, por lo que debemos analizar el tiempo de ejecución de las $n$ llamadas al algoritmo **Insertion Sort**.\n",
        "\n",
        "Sea $n_i$ una variable aleatoria que corresponderá a la cantidad de elementos ubicada en `buckets[i]`. El caso promedio de **InsertionSort** tiene complejidad $O(n^2)$, por lo que podemos definir el tiempo de ejecución del algoritmo como la función:\n",
        "\n",
        "$T(n) = \\Theta(n) + \\sum_{i=0}^{n-1} O(n_i^2)$\n",
        "\n",
        "Ya que queremos calcular el tiempo de ejecución y $n_i$ es una *variable aleatoria*, podemos utilizar el ***valor esperado***, por lo que lo aplicamos a ambos lados de la ecuación y lo expresamos directamente dentro de nuestra sumatoria pues es un ***operador lineal***:\n",
        "\n",
        "$E[T(n)] = \\Theta(n) + \\sum_{i=0}^{n-1} O(E[n_i^2])$\n",
        "\n",
        "Definamos una variable aleatoria $X_{ij}$ que tomará el valor $1$ si el elemento $A[j]$ cae aleatoriamente dentro de `bucket[i]`, por lo que podemos definir el valor de nuestra variable aleatoria $n_i$ como una sumatoria:\n",
        "\n",
        "$n_i = \\sum_{j=1}^{n} X_{ij}$\n",
        "\n",
        "Por lo que reemplazando y desarrollando en nuestra ecuación anterior obtenemos:\n",
        "\n",
        "$E[n_i^2] = E[ \\sum_{j=1}^{n} X_{ij} \\sum_{k=1}^{n} X_{ik} ]$\n",
        "\n",
        "$ \\ \\ \\quad \\quad = E[ \\sum_{j=1}^{n} \\sum_{k=1}^{n} X_{ij} X_{ik} ]$\n",
        "\n",
        "$ \\ \\ \\quad \\quad = E[ \\sum_{j=1}^{n} X_{ij}^2] + E[ \\sum_{1 \\leq j, k \\leq n} \\sum_{j \\neq k} X_{ij} X_{ik}]$\n",
        "\n",
        "Ahora, evaluamos las sumatorias de forma separada.\n",
        "\n",
        "Ya que tenemos $n$ `buckets`, la probabilidad de que un objeto caiga en el `bucket[i]` es de $1/n$.\n",
        "\n",
        "La variable aleatoria $X_{ij}$ tendrá valor $1$ con la probabilidad $1/n$ y en caso contrario valor $0$, por esta razón:\n",
        "\n",
        "$E[X_{ij}^2] = 1^2 \\cdot \\frac{1}{n} + 0^2 \\cdot (1 - \\frac{1}{n}) = \\frac{1}{n}$\n",
        "\n",
        "Cuando $j \\neq k$, las variables aleatorias $X_{ij} X_{ik}$ serán independientes por lo que:\n",
        "\n",
        "$E[X_{ij} X_{ik}] = E[X_{ij}] \\cdot E[X_{ik}]$\n",
        "\n",
        "$\\qquad \\ \\\\ \\qquad = \\frac{1}{n} \\cdot \\frac{1}{n}$\n",
        "\n",
        "$\\qquad \\ \\\\ \\qquad = \\frac{1}{n^2}$\n",
        "\n",
        "Reemplazando en nuestra ecuación anterior obtenemos que:\n",
        "\n",
        "$E[n_i^2] = 2 - \\frac{1}{n}$\n",
        "\n",
        "Y reemplazando el resultado del *valor esperado* en nuestra función, podemos obtener nuestro tiempo de ejecución para ***Bucket Sort***:\n",
        "\n",
        "$T(n) = \\Theta(n) + n \\cdot O(2-1/n) = \\Theta(n). \\blacksquare$"
      ],
      "metadata": {
        "id": "EuhWOOKhbSGV"
      }
    },
    {
      "cell_type": "markdown",
      "source": [
        "## 4.2 Correctitud del algoritmo\n",
        "Ya que este algoritmo utiliza **Insertion Sort** en uno de sus pasos, debemos también probar su correctitud."
      ],
      "metadata": {
        "id": "5qlgkuCPaGhj"
      }
    },
    {
      "cell_type": "markdown",
      "source": [
        "### 4.2.1 Correctitud de **InsertionSort**\n",
        "#### **Teorema**\n",
        "_El algoritmo Insertion Sort genera un arreglo_ $[a_1',a_2', \\ldots ,a_n']$ _mediante permutaciones de los mismos elementos de entrada, de tal forma que_ $a_1' \\leq a_2' \\leq \\ldots \\leq a_n'$\n",
        "\n",
        "#### **Prueba del Teorema**\n",
        "Anteriormente se mostró que por cada iteración $i$, el elemento $a_i$ es comparado con los primeros $i-1$ elementos del arreglo, y en caso de encontrarse un elemento $a_j$ menor, los elementos $[a_{j} \\ldots a_{i-1}]$ serán desplazados una posición a la derecha, y el elemento $a_i$ será insertado donde se encontraba previamente $a_j$.\n",
        "\n",
        "A partir de esto, probaremos la siguiente **propiedad invariante de bucle** para el algoritmo **Insertion Sort**:\n",
        "\n",
        "> *Al comienzo de cada iteración, los primeros $i-1$ elementos que corresponden a permutaciones de los elementos del arreglo original se encuentran ordenados de menor a mayor*.\n",
        "\n",
        "##### **Inicialización**\n",
        "Al comienzo de la primera iteración $(i = 1)$, el primer $i - 1 = 0$ elemento del arreglo cumple con el teorema. Esto es trivialmente cierto, puesto que por definición un único elemento siempre está ordenado.\n",
        "\n",
        "##### **Mantención**\n",
        "Mediante inducción, podemos asumir que en cada iteración se cumple la **propiedad invariante de bucle**, es decir, el sub-arreglo $[ a_0 , \\ldots , a_{i-1} ]$ está ordenado de tal forma que $a_0 \\leq \\ldots \\leq a_{i-1}$\n",
        "\n",
        "Por cada iteración, el sub-arreglo se expande, pero se mantiene ordenado, ya que cuando se inserta un elemento $\\lambda$, se insertará luego del primer elemento $\\leq \\lambda$ y antes del primer elemento $\\geq \\lambda$, manteniendo el orden de menor a mayor y cumpliendose la propiedad.\n",
        "\n",
        "##### **Correctitud**\n",
        "\n",
        "Ya que se demostró que la propiedad de bucle invariante se cumple al inicio del bucle y se mantiene en cada iteración, podemos decir que al **finalizar la $n$-ésima iteración del algoritmo Insertion Sort**, se genera un arreglo $[a_1',a_2',...,a_n']$, con los elementos iniciales del arreglo de entrada ordenados de menor a mayor. $\\blacksquare$\n",
        "\n"
      ],
      "metadata": {
        "id": "2BXAan5Oy1tP"
      }
    },
    {
      "cell_type": "markdown",
      "source": [
        "### 4.2.2 Correctitud de **BucketSort**\n",
        "\n",
        "#### **Hipótesis**\n",
        "> *Nuestra hipótesis $P(n)$ es que el algoritmo **BucketSort** toma un arreglo de entrada con elementos en el invervalo $[0, 1]$ y los re-ordena de forma que el arreglo queda ordenado de menor a mayor*\n",
        "\n",
        "#### **Prueba de la hipótesis**\n",
        "\n",
        "**Caso base**: Cuando el arreglo de entrada tiene un único elemento, este caerá en algun **bucket** y será ordenado por **Insertion Sort**, por lo que $P(1)$ es correcto.\n",
        "\n",
        "**Paso inductivo**: Cuando $n > 1$, asumiremos que **BucketSort** separa correctamente $n$ elementos entre los $10$ **buckets**.\n",
        "\n",
        "Supongamos que tenemos un arreglo de entrada de tamaño $10n$, y que **BucketSort** separa en 10 **buckets** de tamaño $10n/10$, es decir, $n$.\n",
        "\n",
        "Una vez separados los elementos, **Insertion Sort** ordenará cada **bucket** individualmente y luego se unirá cada **bucket** en el arreglo de salida.\n",
        "\n",
        "Como asumimos que $P(n)$ es correcto y sabemos que **Insertion Sort** es correcto, queda demostrado que **BucketSort es correcto.** $\\blacksquare$\n",
        "\n"
      ],
      "metadata": {
        "id": "NeYFqnc71Ew9"
      }
    },
    {
      "cell_type": "markdown",
      "source": [
        "# 5. Experimentos"
      ],
      "metadata": {
        "id": "HWWGeDEvFTGk"
      }
    },
    {
      "cell_type": "markdown",
      "source": [
        "## 5.1 Comparación de **BucketSort** vs **RadixSort**\n",
        "\n",
        "Se comparará el tiempo de ejecución de los algoritmos para arreglos aleatorios."
      ],
      "metadata": {
        "id": "DM4vW6yH1ccK"
      }
    },
    {
      "cell_type": "markdown",
      "source": [
        "### 5.1.1 Código de **RadixSort**"
      ],
      "metadata": {
        "id": "qHiG4sc51j-8"
      }
    },
    {
      "cell_type": "code",
      "source": [
        "def counting_sort(arr, exp1):\n",
        "\tn = len(arr)\n",
        "\toutput = [0] * (n)\n",
        "\tcount = [0] * (10)\n",
        "\tfor i in range(0, n):\n",
        "\t\tindex = arr[i] // exp1\n",
        "\t\tcount[index % 10] += 1\n",
        "\tfor i in range(1, 10):\n",
        "\t\tcount[i] += count[i - 1]\n",
        "\ti = n - 1\n",
        "\twhile i >= 0:\n",
        "\t\tindex = arr[i] // exp1\n",
        "\t\toutput[count[index % 10] - 1] = arr[i]\n",
        "\t\tcount[index % 10] -= 1\n",
        "\t\ti -= 1\n",
        "\ti = 0\n",
        "\tfor i in range(0, len(arr)):\n",
        "\t\tarr[i] = output[i]\n",
        "def radix_sort(arr):\n",
        "\tmax1 = max(arr)\n",
        "\texp = 1\n",
        "\twhile max1 / exp >= 1:\n",
        "\t\tcounting_sort(arr, exp)\n",
        "\t\texp *= 10"
      ],
      "metadata": {
        "id": "GshFB4DyCj-H"
      },
      "execution_count": 60,
      "outputs": []
    },
    {
      "cell_type": "markdown",
      "source": [
        "### 5.1.2 Procedimiento\n",
        "\n",
        "Se crearán **arreglos aleatorios** con números decimales en el intervalo $[0, 1]$ y tamaño de problema $n \\in [5, 500]$ y se medirá el tiempo de ejecución para los 2 algoritmos.\n",
        "\n",
        "Cabe mencionar que luego de generarlos, se toma una copia de cada arreglo aleatorio y se transforma en números enteros ya que nuestra implementación de **RadixSort** no funciona con decimales."
      ],
      "metadata": {
        "id": "U43ijAYT8Iqd"
      }
    },
    {
      "cell_type": "code",
      "source": [
        "import random\n",
        "import matplotlib.pyplot as plt\n",
        "import datetime\n",
        "import timeit\n",
        "\n",
        "x, y1, y2 = [], [], []\n",
        "\n",
        "for n in range(5,501):\n",
        "\n",
        "  # creamos arreglo aleatorio de tamaño n\n",
        "  A = [random.uniform(0, 1) for x in range(n)]\n",
        "  # convertimos los decimales a enteros para que radixsort pueda funcionar\n",
        "  B = [int(x*100) for x in A]\n",
        "\n",
        "  bucket_time = timeit.repeat(setup=\"from __main__ import bucket_sort\", stmt=f\"bucket_sort({A})\", repeat=1, number=1)\n",
        "  radix_time = timeit.repeat(setup=\"from __main__ import radixSort\", stmt=f\"radixSort({B})\", repeat=1, number=1)\n",
        "  \n",
        "  x.append(n)\n",
        "  y1.append(bucket_time)\n",
        "  y2.append(radix_time)\n",
        "\n",
        "plt.plot(x,y1)\n",
        "plt.plot(x,y2)\n",
        "\n",
        "plt.legend([\"BucketSort\", \"RadixSort\"])\n",
        "plt.xlabel('Tamaño de problema n')\n",
        "plt.ylabel('Tiempo en ms')\n",
        "plt.show()"
      ],
      "metadata": {
        "colab": {
          "base_uri": "https://localhost:8080/",
          "height": 279
        },
        "id": "ywSKraay1_Ay",
        "outputId": "33af0b05-8acc-45b4-ec9c-5f61afdab061"
      },
      "execution_count": 73,
      "outputs": [
        {
          "output_type": "display_data",
          "data": {
            "text/plain": [
              "<Figure size 432x288 with 1 Axes>"
            ],
            "image/png": "[encoded data removed]"
          },
          "metadata": {
            "needs_background": "light"
          }
        }
      ]
    },
    {
      "cell_type": "markdown",
      "source": [
        "### 5.1.3 Análisis de resultados\n",
        "\n",
        "Como se puede observar en el gráfico, a pesar de que ambos algoritmos tengan complejidad lineal para su caso promedio *($O(n)$ para **BucketSort** y $O(nk)$ para **RadixSort**)*, **BucketSort** muestra un peor rendimiento para casos aleatorios, esto creemos que se debe a que este algoritmo funciona especialmente mejor en casos donde sabemos que la distribución de los elementos de entrada es **uniforme**, por lo que su rendimiento se parece mucho mas al **peor caso** cuando esta es aleatoria. También debemos considerar que **RadixSort** posee la misma complejidad $O(nk)$ para su peor caso, cosa que podemos apreciar en el gráfico dado su crecimiento **lineal**.\n",
        "\n",
        "En el gráfico se pueden observar ciertos **peaks**, tenemos 2 teorías para explicarlos, la primera es que estos ocurren cuando los elementos de entrada del caso aleatorio están dispuestos de la forma del peor caso de **BucketSort**, y la segunda es que se deban al comportamiento impredecible del procesador. "
      ],
      "metadata": {
        "id": "gt7y4EO68N1U"
      }
    },
    {
      "cell_type": "markdown",
      "source": [
        "## 5.2 Comparación de **BucketSort** y **RadixSort** para arreglos uniformemente distribuidos"
      ],
      "metadata": {
        "id": "7bwgjLTbEmvz"
      }
    },
    {
      "cell_type": "markdown",
      "source": [
        "#### 5.2.1 Procedimiento\n",
        "\n",
        "Se generarán arreglos aleatorios de decimales **ordenados** en el intervalo $[0, 1]$ de tamaño $n \\in [10, 400]$, donde los últimos 10 elementos del arreglo serán **invertidos**."
      ],
      "metadata": {
        "id": "ZLZi1lL1I7A2"
      }
    },
    {
      "cell_type": "code",
      "source": [
        "import random\n",
        "import matplotlib.pyplot as plt\n",
        "import datetime\n",
        "import timeit\n",
        "\n",
        "x, y1, y2 = [], [], []\n",
        "\n",
        "for n in range(10,401):\n",
        "\n",
        "  # creamos arreglo aleatorio de decimales ordenados\n",
        "  A = [j/500 for j in range(1,n+2)]\n",
        "  # invertimos los últimos 10 números\n",
        "  A = A[0:len(A)-10] + A[len(A)-1:len(A)-11:-1]\n",
        "\n",
        "  # pasamos los arreglos a enteros para ordenarlos con radixsort\n",
        "  B = [int(x*500) for x in A]\n",
        "\n",
        "  bucket_time = timeit.repeat(setup=\"from __main__ import bucket_sort\", stmt=f\"bucket_sort({A})\", repeat=1, number=1)\n",
        "  radix_time = timeit.repeat(setup=\"from __main__ import radixSort\", stmt=f\"radixSort({B})\", repeat=1, number=1)\n",
        "  \n",
        "  x.append(n)\n",
        "  y1.append(bucket_time)\n",
        "  y2.append(radix_time)\n",
        "\n",
        "plt.plot(x,y1)\n",
        "plt.plot(x,y2)\n",
        "\n",
        "plt.legend([\"BucketSort\", \"RadixSort\"])\n",
        "plt.xlabel('Tamaño de problema n')\n",
        "plt.ylabel('Tiempo en ms')\n",
        "plt.show()"
      ],
      "metadata": {
        "colab": {
          "base_uri": "https://localhost:8080/",
          "height": 281
        },
        "id": "xjPXWmCVExxO",
        "outputId": "b4433f24-5022-40fb-ec16-4c05e9f80203"
      },
      "execution_count": 118,
      "outputs": [
        {
          "output_type": "display_data",
          "data": {
            "text/plain": [
              "<Figure size 432x288 with 1 Axes>"
            ],
            "image/png": "[encoded data removed]"
          },
          "metadata": {
            "needs_background": "light"
          }
        }
      ]
    },
    {
      "cell_type": "markdown",
      "source": [
        "#### 5.2.2 Análisis de resultados\n",
        "\n",
        "En el primer experimento pudimos apreciar el mal rendimiento de **BucketSort** para arreglos aleatorios, por lo que decidimos compararlo con **RadixSort** pero esta vez con arreglos donde su distribución es muy uniforme, ya que tomamos un arreglo de tamaño $n$ ordenado e invertimos sus últimos $10$ elementos.\n",
        "\n",
        "Como podemos observar en la gráfica, **BucketSort** termina siendo más eficiente que **RadixSort**, ya que su complejidad para este tipo de casos resulta $O(n)$."
      ],
      "metadata": {
        "id": "a2WEtehbI-L8"
      }
    }
  ]
}