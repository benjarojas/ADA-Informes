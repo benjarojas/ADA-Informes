{
  "nbformat": 4,
  "nbformat_minor": 0,
  "metadata": {
    "colab": {
      "provenance": [],
      "collapsed_sections": [],
      "toc_visible": true,
      "authorship_tag": "ABX9TyMtjMLk0LQ0czH1uW2wzxcL",
      "include_colab_link": true
    },
    "kernelspec": {
      "name": "python3",
      "display_name": "Python 3"
    },
    "language_info": {
      "name": "python"
    }
  },
  "cells": [
    {
      "cell_type": "markdown",
      "metadata": {
        "id": "view-in-github",
        "colab_type": "text"
      },
      "source": [
        "<a href=\"https://colab.research.google.com/github/benjarojas/ADA-Informes/blob/main/TopologicalSorting.ipynb\" target=\"_parent\"><img src=\"https://colab.research.google.com/assets/colab-badge.svg\" alt=\"Open In Colab\"/></a>"
      ]
    },
    {
      "cell_type": "markdown",
      "source": [
        "# 1. Topological Sorting\n",
        "\n",
        "**Entrada:** Grafo dirigido acíclico $G=(V,E)$.\n",
        "\n",
        "**Salida:** Una asignación $f(v)$ a cada vértice $v\\in V$, tal que $ \\{ \\forall \\, (v,w)\\in E \\} $, se cumple que $f(v)<f(w)$.\n",
        "\n",
        "El algoritmo de **órden topológico transforma un grafo dirigido acíclico en un órden lineal**. Es muy utilizado ya que tiene muchas aplicaciones, por ejemplo, para **resolver dependencias en proyectos Maven** *(Java)*, **análisis de rutas críticas**, flujos de trabajo en procesos de manufactra, etc."
      ],
      "metadata": {
        "id": "zmQnYGu4MpMC"
      }
    },
    {
      "cell_type": "markdown",
      "source": [
        "# 2. Código"
      ],
      "metadata": {
        "id": "0luKiX5JOByM"
      }
    },
    {
      "cell_type": "markdown",
      "source": [
        "## 2.1 Generador de instancias"
      ],
      "metadata": {
        "id": "QbtJEnj4OE6g"
      }
    },
    {
      "cell_type": "code",
      "execution_count": null,
      "metadata": {
        "id": "tm6kh0K4MmRr"
      },
      "outputs": [],
      "source": [
        "from collections import defaultdict\n",
        "import math\n",
        "import random\n",
        "\n",
        "# Crea un grafo sin ciclos de nodos de 0 a V - 1\n",
        "# Retorna un dicionario [defaultdict(list)] \n",
        "# de key valor del nodo (0 a V - 1) y de value una \n",
        "# lista con los nodos a los cuales se conecta\n",
        "def graph_instance_creator(V):\n",
        "  nodes = random.sample(range(0, V), V)\n",
        "  div = int(math.ceil(V / 4))\n",
        "\n",
        "  current_div = div\n",
        "  graph = defaultdict(list)\n",
        "  for i in reversed(range(len(nodes))):\n",
        "    selectables = []\n",
        "    if (len(nodes) - current_div <= 0):\n",
        "      selectables = random.sample(nodes, random.randint(1, len(nodes)))\n",
        "    else:\n",
        "      population = nodes[:len(nodes)-current_div]\n",
        "      end = len(population) if len(population) < 4 else 4\n",
        "      selectables = random.sample(population, random.randint(1, end))\n",
        "    for selectable in selectables:\n",
        "      if (nodes[i] != selectable and not selectable in graph[nodes[i]]):\n",
        "        graph[nodes[i]].append(selectable)\n",
        "    if (i < len(nodes) - current_div):\n",
        "      current_div += div\n",
        "\n",
        "  return graph"
      ]
    },
    {
      "cell_type": "markdown",
      "source": [
        "## 2.2 Graph to nx.DiGraph"
      ],
      "metadata": {
        "id": "NLvfpypSOPIX"
      }
    },
    {
      "cell_type": "code",
      "source": [
        "from collections import defaultdict\n",
        "import networkx as nx\n",
        "\n",
        "# Recibe un grafo de tipo [defaultdict(list)]\n",
        "# Retorna un nx.DiGraph de la libreria networkx\n",
        "def graph_to_nxdigraph(graph):\n",
        "  nxdigraph = nx.DiGraph()\n",
        "  for i in graph.keys():\n",
        "    nxdigraph.add_node(i)\n",
        "    for v in graph[i]:\n",
        "      nxdigraph.add_edge(i, v)\n",
        "  return nxdigraph"
      ],
      "metadata": {
        "id": "9JEf7WmpObRM"
      },
      "execution_count": null,
      "outputs": []
    },
    {
      "cell_type": "markdown",
      "source": [
        "## 2.3 Orden topológico de un grafo acíclico (DFS-iterativo)"
      ],
      "metadata": {
        "id": "sZ6J3UH7OpD6"
      }
    },
    {
      "cell_type": "code",
      "source": [
        "import networkx as nx\n",
        "from termcolor import colored\n",
        "import matplotlib.pyplot as plt\n",
        "from networkx.drawing.nx_pydot import graphviz_layout\n",
        "\n",
        "def iterTopologicalSort(G, verbose=False, visualize=False):\n",
        "  if(visualize):\n",
        "    pos=graphviz_layout(G, prog='dot', root=1) # asignamos posiciones a cada nodo\n",
        "    nx.draw_networkx_labels(G,pos) # dibujamos el grafo y sus labels\n",
        "    nx.draw(G,pos, with_labels=False, node_size=1000, font_color=\"white\", font_size=14, font_weight=\"black\", width  =2.0, edge_color =\"black\")\n",
        "\n",
        "  # creamos un diccionario de estados e inicializamos en no descubierto\n",
        "  state = dict()\n",
        "  for n in G: state[n] = \"no descubierto\"\n",
        "\n",
        "  if(verbose):\n",
        "    print(f\"Creamos diccionario de estados 'state' e inicializamos en 'no descubierto'\")\n",
        "    print(f\"state: {state}\\n\")\n",
        "  \n",
        "  L = [] # lista auxiliar\n",
        "\n",
        "  for n in G:\n",
        "    S=[n]\n",
        "\n",
        "    if(verbose):\n",
        "      print(f\"\\nStack: {colored(str(S), 'blue')}\")\n",
        "\n",
        "    # aplicamos DFS en post-orden\n",
        "    while len(S)>0:\n",
        "      n=S.pop()\n",
        "      if(verbose):\n",
        "        print(f\"Sacamos el nodo {colored(str(n), 'blue')} del stack\")\n",
        "      # primera pasada\n",
        "      if state[n] == \"no descubierto\":\n",
        "        if(verbose):\n",
        "          print(f\"Realizamos primera pasada al nodo: {colored(str(n), 'blue')}\")\n",
        "        if(verbose):\n",
        "          print(f\"Marcamos {colored(str(n), 'blue')} como 'descubierto'\")\n",
        "        state[n] = \"descubierto\"\n",
        "        S.append(n)\n",
        "        if(verbose):\n",
        "          print(f\"Agregamos {colored(str(n), 'blue')} al stack. Stack: {colored(str(S), 'blue')}\")\n",
        "        if(verbose):\n",
        "          print(f\"Buscamos los nodos adyacentes a {colored(str(n), 'blue')}\")\n",
        "        for adj in reversed(list(G[n])):\n",
        "          if state[adj] == \"no descubierto\":\n",
        "            S.append(adj)\n",
        "            if(verbose):\n",
        "              print(f\"El {colored(str('nodo ' + str(adj)), 'yellow')} adyacente al {colored(str('nodo ' + str(n)), 'blue')} {colored('no ha sido descubierto', 'magenta')}\")\n",
        "              print(f\"Agregamos el {colored(str('nodo ' + str(adj)), 'yellow')} al stack. Stack: {colored(str(S), 'blue')}\\n\")\n",
        "          else:\n",
        "            if(verbose):\n",
        "              print(f\"El {colored(str('nodo ' + str(adj)), 'yellow')} adyacente al {colored(str('nodo ' + str(n)), 'blue')} {colored('ya fue visitado.', 'red')}\\n\")\n",
        "      \n",
        "      # realizamos segunda pasada de DFS\n",
        "      # insertamos en la lista auxiliar de orden topológico\n",
        "      elif state[n]==\"descubierto\" and state[n] != \"visitado\":\n",
        "        if(verbose):\n",
        "          print(f\"Realizamos segunda pasada al nodo: {colored(str(n), 'blue')}\")\n",
        "          print(f\"Marcamos {n} como visitado\\n\")\n",
        "        state[n]=\"visitado\"\n",
        "        L.append(n)\n",
        "        if(verbose):\n",
        "          print(f\"Insertamos {n} a la lista de orden topológico\")\n",
        "          print(f\"L: {L}\\n\")\n",
        "      else:\n",
        "        if(verbose):\n",
        "          print(f\"Nodo {n} ya fue descubierto y visitado!\")\n",
        "\n",
        "  # retornamos la lista al reves\n",
        "  # que corresponde al orden topológico\n",
        "  L = list(reversed(L))\n",
        "  return L      "
      ],
      "metadata": {
        "id": "-lKoGPK-XueD"
      },
      "execution_count": null,
      "outputs": []
    },
    {
      "cell_type": "code",
      "source": [
        "G = graph_to_nxdigraph(graph_instance_creator(4)) # ejemplo con instancia aleatoria\n",
        "print(f\"Orden topológico: {iterTopologicalSort(G)}\")"
      ],
      "metadata": {
        "colab": {
          "base_uri": "https://localhost:8080/"
        },
        "id": "RMAbPI01N2qg",
        "outputId": "0146fc5e-7e88-48ee-9153-a10cf7c87d68"
      },
      "execution_count": null,
      "outputs": [
        {
          "output_type": "stream",
          "name": "stdout",
          "text": [
            "Orden topológico: [3, 1, 0]\n"
          ]
        }
      ]
    },
    {
      "cell_type": "markdown",
      "source": [
        "## 2.4 Orden topológico de un grafo acíclico (DFS-recursivo)"
      ],
      "metadata": {
        "id": "KwZhbObUO_Fm"
      }
    },
    {
      "cell_type": "code",
      "source": [
        "import networkx as nx\n",
        "from termcolor import colored\n",
        "import matplotlib.pyplot as plt\n",
        "from networkx.drawing.nx_pydot import graphviz_layout\n",
        "\n",
        "# ordenamos recursivamente e insertamos en el stack\n",
        "def recSort(G,n,state,stack,verbose=False):\n",
        "  state[n] = True # marcamos como visitado\n",
        "  if(verbose): print(f\"Marcamos el nodo {colored(str(n), 'blue')} como visitado\")\n",
        "  for adj in G[n]:\n",
        "    if(verbose): print(f\"Buscamos los nodos adyacentes a {colored(str(n), 'blue')}\")\n",
        "    if state[adj] == False:\n",
        "      if(verbose): print(f\"El nodo {colored(str(adj), 'yellow')} adyacente a {colored(str(n), 'blue')} no ha sido visitado\")\n",
        "      if(verbose): print(f\"Llamamos recursivamente a la función\")\n",
        "      recSort(G,adj,state,stack,verbose=verbose) # ordenar cada nodo adyacente no visitado\n",
        "    else:\n",
        "      if(verbose): print(f\"El nodo {colored(str(adj), 'yellow')} adyacente a {colored(str(n), 'blue')} ya fue visitado\")\n",
        "\n",
        "  if(verbose): print(f\"Insertamos el nodo {colored(str(n), 'blue')} al stack\")\n",
        "  stack.insert(0,n) # insertamos al principio (push)\n",
        "  if(verbose): print(f\"Stack: {colored(str(stack), 'blue')}\")\n",
        "\n",
        "def recTopologicalSort(G, verbose=False, visualize=False):\n",
        "  \n",
        "  if(visualize):\n",
        "    pos=graphviz_layout(G, prog='dot', root=1) # asignamos posiciones a cada nodo\n",
        "    nx.draw_networkx_labels(G,pos) # dibujamos el grafo y sus labels\n",
        "    nx.draw(G,pos, with_labels=False, node_size=1000, font_color=\"white\", font_size=14, font_weight=\"black\", width  =2.0, edge_color =\"black\")\n",
        "  state = dict() # diccionario de estados\n",
        "  for n in G: state[n] = False # inicializamos en False (no visitado)\n",
        "  stack = []\n",
        "  for n in G:\n",
        "    if state[n] == False:\n",
        "      if(verbose): print(f\"Nodo {colored(str(n), 'blue')} no ha sido visitado\")\n",
        "      recSort(G,n,state,stack,verbose=verbose)\n",
        "    else:\n",
        "      if(verbose): print(f\"Nodo {colored(str(n), 'blue')} ya fue visitado\")\n",
        "  return stack"
      ],
      "metadata": {
        "id": "4Rcc4BGxvaJl"
      },
      "execution_count": null,
      "outputs": []
    },
    {
      "cell_type": "code",
      "source": [
        "G = graph_to_nxdigraph(graph_instance_creator(6)) # ejemplo con instancia aleatoria\n",
        "print(f\"Orden topológico: {recTopologicalSort(G)}\")"
      ],
      "metadata": {
        "colab": {
          "base_uri": "https://localhost:8080/"
        },
        "id": "1-8RnIfz_gJv",
        "outputId": "406e2969-43f5-4745-9e26-439099cb620b"
      },
      "execution_count": null,
      "outputs": [
        {
          "output_type": "stream",
          "name": "stdout",
          "text": [
            "Orden topológico: [5, 2, 3, 4, 0, 1]\n"
          ]
        }
      ]
    },
    {
      "cell_type": "markdown",
      "source": [
        "# 3. Descripción de los algoritmos"
      ],
      "metadata": {
        "id": "3u5PPss3PDuQ"
      }
    },
    {
      "cell_type": "markdown",
      "source": [
        "## 3.1 Algoritmo DFS-iterativo\n",
        "\n",
        "\n",
        "\n",
        "1.   Primero, creamos una lista auxiliar $L$, que guardará el órden topológico encontrado.\n",
        "2.   Aplicamos el algoritmo **DFS *(Depth First Search)*** en **post-orden** para cada nodo del grafo.\n",
        "3.   Cuando **visitamos un nodo** despues de haberlo descubierto, **lo agregamos a $L$.**\n",
        "4.   Retornamos la **lista auxiliar en reversa, que corresponderá a un órden topológico** para el grafo.\n"
      ],
      "metadata": {
        "id": "8rHgsll8PHQ6"
      }
    },
    {
      "cell_type": "markdown",
      "source": [
        "### 3.1.1 Ejemplo de ejecución"
      ],
      "metadata": {
        "id": "GpFAXwRzPlw7"
      }
    },
    {
      "cell_type": "markdown",
      "source": [
        "Supongamos la siguiente entrada: un grafo $G$ acíclico de tamaño $4$:\n",
        "\n",
        "![picture](https://i.imgur.com/1ZeLjqH.png)\n",
        "\n",
        "Creamos un diccionario de estados `state`, que será inicializado en `'no descubierto'`, quedando de la siguiente forma:\n",
        "\n",
        "$\\text{state = }[(3: \\text{'no descubierto'}), (1: \\text{'no descubierto'}), (2: \\text{'no descubierto'}), (0: \\text{'no descubierto'})]$\n",
        "\n",
        "Insertamos el nodo $3$ al stack $S$:\n",
        "\n",
        "$S = [3]$\n",
        "\n",
        "Hacemos **pop** al stack, y almacenamos en la variable $n$.\n",
        "\n",
        "$S=[]$, $n=3$\n",
        "\n",
        "El nodo $n \\, (3)$ está inicializado en `'no descubierto'`, por lo que cambiamos su estado a `'descubierto'` en `state`, quedando\n",
        "\n",
        "$\\text{state = }[(3: \\text{'descubierto'}), (1: \\text{'no descubierto'}), (2: \\text{'no descubierto'}), (0: \\text{'no descubierto'})]$\n",
        "\n",
        "Volvemos a agregar el nodo $3$ al stack $S$ para la segunda pasada.\n",
        "\n",
        "$S = [3]$\n",
        "\n",
        "Ahora, buscamos los nodos adyacentes no descubiertos a $3$ y los agregamos a nuestro stack $S$, en este caso, solamente el nodo $1$ cumple con las condiciones.\n",
        "\n",
        "$S=[1,3]$\n",
        "\n",
        "Hacemos **pop** al stack, y almacenamos en la variable $n$.\n",
        "\n",
        "$S=[3]$, $n=1$\n",
        "\n",
        "El nodo $n \\, (1)$ está inicializado en `'no descubierto'`, por lo que cambiamos su estado a `'descubierto'` en `state`, quedando\n",
        "\n",
        "$\\text{state = }[(3: \\text{'descubierto'}), (1: \\text{'descubierto'}), (2: \\text{'no descubierto'}), (0: \\text{'no descubierto'})]$\n",
        "\n",
        "Lo volvemos a agregar al stack para la segunda pasada:\n",
        "\n",
        "$S=[1,3]$\n",
        "\n",
        "Ahora, buscamos los nodos adyacentes no descubiertos a $1$ y los agregamos a nuestro stack $S$, en este caso, los nodos $0$ y $2$ cumplen estas condiciones:\n",
        "\n",
        "$S=[2,0,1,3]$\n",
        "\n",
        "Hacemos **pop** al stack, y almacenamos en la variable $n$.\n",
        "\n",
        "$S=[0,1,3]$, $n=2$\n",
        "\n",
        "El nodo $n \\, (2)$ está inicializado en `'no descubierto'`, por lo que cambiamos su estado a `'descubierto'` en `state`, quedando\n",
        "\n",
        "$\\text{state = }[(3: \\text{'descubierto'}), (1: \\text{'descubierto'}), (2: \\text{'descubierto'}), (0: \\text{'no descubierto'})]$\n",
        "\n",
        "Lo volvemos a agregar al stack para la segunda pasada:\n",
        "\n",
        "$S=[2,0,1,3]$\n",
        "\n",
        "Hacemos **pop** al stack, y almacenamos en la variable $n$.\n",
        "\n",
        "$S=[0,1,3]$, $n=2$\n",
        "\n",
        "El nodo $2$ ya está descubierto, por lo que lo marcamos como `'visitado'` en el diccionario de estados, quedando\n",
        "\n",
        "$\\text{state = }[(3: \\text{'descubierto'}), (1: \\text{'descubierto'}), (2: \\text{'visitado'}), (0: \\text{'no descubierto'})]$\n",
        "\n",
        "Y lo agregamos a la lista de orden topológico:\n",
        "\n",
        "$L=[2]$\n",
        "\n",
        "Hacemos **pop** al stack, y almacenamos en la variable $n$.\n",
        "\n",
        "$S=[1,3]$, $n=0$\n",
        "\n",
        "El nodo $0$ está inicializado como `'no descubierto'`, por lo que cambiamos su estado a descubierto:\n",
        "\n",
        "$\\text{state = }[(3: \\text{'descubierto'}), (1: \\text{'descubierto'}), (2: \\text{'visitado'}), (0: \\text{'descubierto'})]$\n",
        "\n",
        "Lo volvemos a agregar al stack para la segunda pasada:\n",
        "\n",
        "$S=[0,1,3]$\n",
        "\n",
        "Ahora, buscamos los nodos adyacentes no descubiertos a $0$ y los agregamos a nuestro stack $S$, en este caso, ningún nodo cumple estas condiciones.\n",
        "\n",
        "Hacemos **pop** al stack, y almacenamos en la variable $n$.\n",
        "\n",
        "$S=[0,1,3]$, $n=0$\n",
        "\n",
        "El nodo $0$ ya está descubierto, por lo que lo marcamos como `'visitado'` en el diccionario de estados, quedando\n",
        "\n",
        "$\\text{state = }[(3: \\text{'descubierto'}), (1: \\text{'descubierto'}), (2: \\text{'visitado'}), (0: \\text{'visitado'})]$\n",
        "\n",
        "Y lo agregamos a la lista de orden topológico:\n",
        "\n",
        "$L=[2,0]$\n",
        "\n",
        "Hacemos **pop** al stack, y almacenamos en la variable $n$.\n",
        "\n",
        "$S=[3]$, $n=1$\n",
        "\n",
        "El nodo $1$ ya está descubierto, por lo que lo marcamos como `'visitado'` en el diccionario de estados, quedando\n",
        "\n",
        "$\\text{state = }[(3: \\text{'descubierto'}), (1: \\text{'visitado'}), (2: \\text{'visitado'}), (0: \\text{'visitado'})]$\n",
        "\n",
        "Y lo agregamos a la lista de orden topológico:\n",
        "\n",
        "$L=[2,0,1]$\n",
        "\n",
        "Hacemos **pop** al stack, y almacenamos en la variable $n$.\n",
        "\n",
        "$S=[]$, $n=3$\n",
        "\n",
        "El nodo $3$ ya está descubierto, por lo que lo marcamos como `'visitado'` en el diccionario de estados, quedando\n",
        "\n",
        "$\\text{state = }[(3: \\text{'visitado'}), (1: \\text{'visitado'}), (2: \\text{'visitado'}), (0: \\text{'visitado'})]$\n",
        "\n",
        "Y lo agregamos a la lista de orden topológico:\n",
        "\n",
        "$L=[2,0,1,3]$\n",
        "\n",
        "Finalmente, invertimos nuestra lista y obtenemos nuestro orden topológico para el grafo $G$:\n",
        "\n",
        "$[3,1,0,2]$\n",
        "\n",
        "\n",
        "\n",
        "\n",
        "\n"
      ],
      "metadata": {
        "id": "0inYs_bsfTG6"
      }
    },
    {
      "cell_type": "markdown",
      "source": [
        "### 3.1.2 Ejecución paso a paso (`verbose=True`) y visualización del grafo (`visualize=True`)"
      ],
      "metadata": {
        "id": "N2RT4YUfPR73"
      }
    },
    {
      "cell_type": "code",
      "source": [
        "G = graph_to_nxdigraph(graph_instance_creator(4)) # ejemplo con instancia aleatoria\n",
        "print(f\"Orden topológico: {iterTopologicalSort(G, verbose=True, visualize=True)}\")"
      ],
      "metadata": {
        "colab": {
          "base_uri": "https://localhost:8080/",
          "height": 1000
        },
        "id": "EUBxpNp_eP20",
        "outputId": "85654476-675a-4298-abec-9e645b2cb4ad"
      },
      "execution_count": null,
      "outputs": [
        {
          "output_type": "stream",
          "name": "stdout",
          "text": [
            "Creamos diccionario de estados 'state' e inicializamos en 'no descubierto'\n",
            "state: {0: 'no descubierto', 2: 'no descubierto', 1: 'no descubierto', 3: 'no descubierto'}\n",
            "\n",
            "\n",
            "Stack: \u001b[34m[0]\u001b[0m\n",
            "Sacamos el nodo \u001b[34m0\u001b[0m del stack\n",
            "Realizamos primera pasada al nodo: \u001b[34m0\u001b[0m\n",
            "Marcamos \u001b[34m0\u001b[0m como 'descubierto'\n",
            "Agregamos \u001b[34m0\u001b[0m al stack. Stack: \u001b[34m[0]\u001b[0m\n",
            "Buscamos los nodos adyacentes a \u001b[34m0\u001b[0m\n",
            "El \u001b[33mnodo 1\u001b[0m adyacente al \u001b[34mnodo 0\u001b[0m \u001b[35mno ha sido descubierto\u001b[0m\n",
            "Agregamos el \u001b[33mnodo 1\u001b[0m al stack. Stack: \u001b[34m[0, 1]\u001b[0m\n",
            "\n",
            "El \u001b[33mnodo 2\u001b[0m adyacente al \u001b[34mnodo 0\u001b[0m \u001b[35mno ha sido descubierto\u001b[0m\n",
            "Agregamos el \u001b[33mnodo 2\u001b[0m al stack. Stack: \u001b[34m[0, 1, 2]\u001b[0m\n",
            "\n",
            "Sacamos el nodo \u001b[34m2\u001b[0m del stack\n",
            "Realizamos primera pasada al nodo: \u001b[34m2\u001b[0m\n",
            "Marcamos \u001b[34m2\u001b[0m como 'descubierto'\n",
            "Agregamos \u001b[34m2\u001b[0m al stack. Stack: \u001b[34m[0, 1, 2]\u001b[0m\n",
            "Buscamos los nodos adyacentes a \u001b[34m2\u001b[0m\n",
            "El \u001b[33mnodo 1\u001b[0m adyacente al \u001b[34mnodo 2\u001b[0m \u001b[35mno ha sido descubierto\u001b[0m\n",
            "Agregamos el \u001b[33mnodo 1\u001b[0m al stack. Stack: \u001b[34m[0, 1, 2, 1]\u001b[0m\n",
            "\n",
            "Sacamos el nodo \u001b[34m1\u001b[0m del stack\n",
            "Realizamos primera pasada al nodo: \u001b[34m1\u001b[0m\n",
            "Marcamos \u001b[34m1\u001b[0m como 'descubierto'\n",
            "Agregamos \u001b[34m1\u001b[0m al stack. Stack: \u001b[34m[0, 1, 2, 1]\u001b[0m\n",
            "Buscamos los nodos adyacentes a \u001b[34m1\u001b[0m\n",
            "Sacamos el nodo \u001b[34m1\u001b[0m del stack\n",
            "Realizamos segunda pasada al nodo: \u001b[34m1\u001b[0m\n",
            "Marcamos 1 como visitado\n",
            "\n",
            "Insertamos 1 a la lista de orden topológico\n",
            "L: [1]\n",
            "\n",
            "Sacamos el nodo \u001b[34m2\u001b[0m del stack\n",
            "Realizamos segunda pasada al nodo: \u001b[34m2\u001b[0m\n",
            "Marcamos 2 como visitado\n",
            "\n",
            "Insertamos 2 a la lista de orden topológico\n",
            "L: [1, 2]\n",
            "\n",
            "Sacamos el nodo \u001b[34m1\u001b[0m del stack\n",
            "Nodo 1 ya fue descubierto y visitado!\n",
            "Sacamos el nodo \u001b[34m0\u001b[0m del stack\n",
            "Realizamos segunda pasada al nodo: \u001b[34m0\u001b[0m\n",
            "Marcamos 0 como visitado\n",
            "\n",
            "Insertamos 0 a la lista de orden topológico\n",
            "L: [1, 2, 0]\n",
            "\n",
            "\n",
            "Stack: \u001b[34m[2]\u001b[0m\n",
            "Sacamos el nodo \u001b[34m2\u001b[0m del stack\n",
            "Nodo 2 ya fue descubierto y visitado!\n",
            "\n",
            "Stack: \u001b[34m[1]\u001b[0m\n",
            "Sacamos el nodo \u001b[34m1\u001b[0m del stack\n",
            "Nodo 1 ya fue descubierto y visitado!\n",
            "\n",
            "Stack: \u001b[34m[3]\u001b[0m\n",
            "Sacamos el nodo \u001b[34m3\u001b[0m del stack\n",
            "Realizamos primera pasada al nodo: \u001b[34m3\u001b[0m\n",
            "Marcamos \u001b[34m3\u001b[0m como 'descubierto'\n",
            "Agregamos \u001b[34m3\u001b[0m al stack. Stack: \u001b[34m[3]\u001b[0m\n",
            "Buscamos los nodos adyacentes a \u001b[34m3\u001b[0m\n",
            "El \u001b[33mnodo 1\u001b[0m adyacente al \u001b[34mnodo 3\u001b[0m \u001b[31mya fue visitado.\u001b[0m\n",
            "\n",
            "El \u001b[33mnodo 2\u001b[0m adyacente al \u001b[34mnodo 3\u001b[0m \u001b[31mya fue visitado.\u001b[0m\n",
            "\n",
            "Sacamos el nodo \u001b[34m3\u001b[0m del stack\n",
            "Realizamos segunda pasada al nodo: \u001b[34m3\u001b[0m\n",
            "Marcamos 3 como visitado\n",
            "\n",
            "Insertamos 3 a la lista de orden topológico\n",
            "L: [1, 2, 0, 3]\n",
            "\n",
            "Orden topológico: [3, 0, 2, 1]\n"
          ]
        },
        {
          "output_type": "display_data",
          "data": {
            "text/plain": [
              "<Figure size 432x288 with 1 Axes>"
            ],
            "image/png": "[encoded data removed]"
          },
          "metadata": {}
        }
      ]
    },
    {
      "cell_type": "markdown",
      "source": [
        "## 3.2 Algoritmo DFS-recursivo\n",
        "\n",
        "*   Creamos un **Stack** para almacenar los nodos en **orden topológico**.\n",
        "*   Creamos un `dict()` llamado `states`, donde marcaremos **cada nodo visitado** y lo inicializamos en `False`.\n",
        "*   Iteramos todo el grafo por cada nodo\n",
        "*   Si **el nodo no está visitado**, **llamamos a la función recursiva** de orden topológico, que seguirá los siguientes pasos:\n",
        "1.  Marcamos el **nodo actual como visitado** en el diccionario `states`\n",
        "2.  **Iteramos en todos los nodos adyacentes** al nodo actual\n",
        "3.  Si el **nodo no está marcado como visitado** en el diccionario, **llamamos recursivamente a la función** de orden topológico con ese nodo\n",
        "4.  **Insertamos el nodo actual en el Stack**\n",
        "*   Finalmente **retornamos el Stack, que corresponderá a un orden topológico** para el grafo."
      ],
      "metadata": {
        "id": "EdfIlG7zPPET"
      }
    },
    {
      "cell_type": "markdown",
      "source": [
        "### 3.2.1 Ejemplo de ejecución"
      ],
      "metadata": {
        "id": "O6XpDvajPxvr"
      }
    },
    {
      "cell_type": "markdown",
      "source": [
        "\n",
        "Supongamos que tenemos la siguiente entrada: un grafo acíclico $G$ de tamaño $6$:\n",
        "\n",
        "![picture](https://i.imgur.com/7gWecc4.png)\n",
        "\n",
        "Nuestro diccionario de estados `states` quedaría de la siguiente forma:\n",
        "\n",
        "$\\text{states = }[(0: \\text{False}), (1: \\text{False}), (2: \\text{False}), (3: \\text{False}), (4: \\text{False}), (5: \\text{False})]$\n",
        "\n",
        "Y nuestro stack auxiliar $S$ estaría vacío:\n",
        "\n",
        "$S=[]$\n",
        "\n",
        "Iniciamos en el nodo $0$, llamamos a nuestra función recursiva `recSort(0)`\n",
        "\n",
        "Marcamos el nodo como visitado, el diccionario `states` quedaria: \n",
        "\n",
        "$\\text{states = }[(0: \\text{True}), (1: \\text{False}), (2: \\text{False}), (3: \\text{False}), (4: \\text{False}), (5: \\text{False})]$\n",
        "\n",
        "El nodo $0$ no tiene nodos adyacentes a los que apunte, por lo que lo insertamos al principio del stack $S$, que quedaría:\n",
        "\n",
        "$S=[0]$\n",
        "\n",
        "Ahora vamos con el nodo $1$, no está visitado por lo que llamamos a la función recursiva `recSort(1)`.\n",
        "\n",
        "Marcamos el nodo $1$ como visitado, el diccionario `states` quedaría:\n",
        "\n",
        "$\\text{states = }[(0: \\text{True}), (1: \\text{True}), (2: \\text{False}), (3: \\text{False}), (4: \\text{False}), (5: \\text{False})]$\n",
        "\n",
        "Ahora, buscamos sus nodos adyacentes e iteramos sobre ellos. En este caso, el nodo $1$ no tiene nodos adyacentes, por lo que simplemente lo insertamos al principio del stack $S$, quedando:\n",
        "\n",
        "$S=[1,0]$\n",
        "\n",
        "Volvemos a la función principal, seguimos con el nodo $2$. El nodo no está visitado, por lo que llamamos a la función recursiva `recSort(2)`.\n",
        "\n",
        "Marcamos el nodo como visitado, el diccionario `states` quedaria: \n",
        "\n",
        "$\\text{states = }[(0: \\text{True}), (1: \\text{True}), (2: \\text{True}), (3: \\text{False}), (4: \\text{False}), (5: \\text{False})]$\n",
        "\n",
        "Ahora, buscamos sus nodos adyacentes e iteramos sobre ellos. En este caso, el nodo $2$ solo tiene como adyacente al nodo $3$, por lo que llamamos recursivamente a la función `recSort(3)`.\n",
        "\n",
        "Marcamos el nodo como visitado, el diccionario `states` quedaria: \n",
        "\n",
        "$\\text{states = }[(0: \\text{True}), (1: \\text{True}), (2: \\text{True}), (3: \\text{True}), (4: \\text{False}), (5: \\text{False})]$\n",
        "\n",
        "Ahora, buscamos sus nodos adyacentes e iteramos sobre ellos. En este caso, el nodo $3$ solo tiene como adyacente al nodo $1$, pero este ya fue visitado, por lo que simplemente insertamos el nodo $3$ al principio del stack $S$, quedando de la forma: \n",
        "\n",
        "$S=[3,1,0]$.\n",
        "\n",
        "Ahora que finalizó la llamada recursiva y se acabaron los nodos adyacentes a $2$, insertamos el nodo $2$ en el stack $S$, quedando de la siguiente forma:\n",
        "\n",
        "$S=[2,3,1,0]$\n",
        "\n",
        "Y volvemos a la función principal, donde nos saltaremos el nodo $3$ ya que está marcado como visitado. Seguimos con el nodo $4$, llamamos a la función recursiva `recSort(4)`.\n",
        "\n",
        "Marcamos el nodo como visitado, el diccionario `states` quedaria: \n",
        "\n",
        "$\\text{states = }[(0: \\text{True}), (1: \\text{True}), (2: \\text{True}), (3: \\text{True}), (4: \\text{True}), (5: \\text{False})]$\n",
        "\n",
        "Ahora, buscamos sus nodos adyacentes e iteramos sobre ellos. En este caso, el nodo $4$ tiene como adyacentes a los nodos $0$ y $1$, pero estos ya están visitados, por lo que no hacemos ninguna llamada recursiva e insertamos el $4$ al stack $S$, quedando de la forma: \n",
        "\n",
        "$S=[4,2,3,1,0]$\n",
        "\n",
        "Volvemos a la función principal, donde seguimos con el nodo $5$, que al no estar visitado, llamamos a la función `recSort(5)`.\n",
        "\n",
        "Marcamos el nodo como visitado, el diccionario `states` quedaria: \n",
        "\n",
        "$\\text{states = }[(0: \\text{True}), (1: \\text{True}), (2: \\text{True}), (3: \\text{True}), (4: \\text{True}), (5: \\text{True})]$\n",
        "\n",
        "Ahora, buscamos sus nodos adyacentes e iteramos sobre ellos. En este caso, el nodo $5$ tiene como adyacentes a los nodos $0$ y $2$, pero estos ya están visitados, por lo que no hacemos ninguna llamada recursiva e insertamos el $5$ al stack $S$, quedando de la forma: \n",
        "\n",
        "$S=[5,4,2,3,1,0]$\n",
        "\n",
        "Ahora, todos los nodos fueron visitados, por lo que simplemente retornamos el stack $S$, que corresponderá a un **orden topológico para el grafo**:\n",
        "\n",
        "$S=[5,4,2,3,1,0]$"
      ],
      "metadata": {
        "id": "Yg5sAiPQVgK_"
      }
    },
    {
      "cell_type": "markdown",
      "source": [
        "### 3.2.2 Ejecución paso a paso (`verbose=True`) y visualización del grafo (`visualize=True`)"
      ],
      "metadata": {
        "id": "K0BVyQWLPzie"
      }
    },
    {
      "cell_type": "code",
      "source": [
        "G = graph_to_nxdigraph(graph_instance_creator(4)) # ejemplo con instancia aleatoria\n",
        "print(f\"Orden topológico: {recTopologicalSort(G, verbose=True, visualize=True)}\")"
      ],
      "metadata": {
        "colab": {
          "base_uri": "https://localhost:8080/",
          "height": 769
        },
        "id": "UZEgMi3EbGNT",
        "outputId": "72f1760c-ba38-4668-a908-fa09bcd6717a"
      },
      "execution_count": null,
      "outputs": [
        {
          "output_type": "stream",
          "name": "stdout",
          "text": [
            "Nodo \u001b[34m1\u001b[0m no ha sido visitado\n",
            "Marcamos el nodo \u001b[34m1\u001b[0m como visitado\n",
            "Buscamos los nodos adyacentes a \u001b[34m1\u001b[0m\n",
            "El nodo \u001b[33m3\u001b[0m adyacente a \u001b[34m1\u001b[0m no ha sido visitado\n",
            "Llamamos recursivamente a la función\n",
            "Marcamos el nodo \u001b[34m3\u001b[0m como visitado\n",
            "Insertamos el nodo \u001b[34m3\u001b[0m al stack\n",
            "Stack: \u001b[34m[3]\u001b[0m\n",
            "Buscamos los nodos adyacentes a \u001b[34m1\u001b[0m\n",
            "El nodo \u001b[33m2\u001b[0m adyacente a \u001b[34m1\u001b[0m no ha sido visitado\n",
            "Llamamos recursivamente a la función\n",
            "Marcamos el nodo \u001b[34m2\u001b[0m como visitado\n",
            "Insertamos el nodo \u001b[34m2\u001b[0m al stack\n",
            "Stack: \u001b[34m[2, 3]\u001b[0m\n",
            "Buscamos los nodos adyacentes a \u001b[34m1\u001b[0m\n",
            "El nodo \u001b[33m0\u001b[0m adyacente a \u001b[34m1\u001b[0m no ha sido visitado\n",
            "Llamamos recursivamente a la función\n",
            "Marcamos el nodo \u001b[34m0\u001b[0m como visitado\n",
            "Buscamos los nodos adyacentes a \u001b[34m0\u001b[0m\n",
            "El nodo \u001b[33m2\u001b[0m adyacente a \u001b[34m0\u001b[0m ya fue visitado\n",
            "Buscamos los nodos adyacentes a \u001b[34m0\u001b[0m\n",
            "El nodo \u001b[33m3\u001b[0m adyacente a \u001b[34m0\u001b[0m ya fue visitado\n",
            "Insertamos el nodo \u001b[34m0\u001b[0m al stack\n",
            "Stack: \u001b[34m[0, 2, 3]\u001b[0m\n",
            "Insertamos el nodo \u001b[34m1\u001b[0m al stack\n",
            "Stack: \u001b[34m[1, 0, 2, 3]\u001b[0m\n",
            "Nodo \u001b[34m3\u001b[0m ya fue visitado\n",
            "Nodo \u001b[34m2\u001b[0m ya fue visitado\n",
            "Nodo \u001b[34m0\u001b[0m ya fue visitado\n",
            "Orden topológico: [1, 0, 2, 3]\n"
          ]
        },
        {
          "output_type": "display_data",
          "data": {
            "text/plain": [
              "<Figure size 432x288 with 1 Axes>"
            ],
            "image/png": "[encoded data removed]"
          },
          "metadata": {}
        }
      ]
    },
    {
      "cell_type": "markdown",
      "source": [
        "# 4. Correctitud"
      ],
      "metadata": {
        "id": "obfe1kZPP_wN"
      }
    },
    {
      "cell_type": "markdown",
      "source": [
        "## **Hipótesis 1**\n",
        "> *Para cualquier asignación $f(u)$ y $f(v)$ de una conexión $(u,v)$, se cumple que $f(u)>f(v)$*"
      ],
      "metadata": {
        "id": "lz47MjTxQE9H"
      }
    },
    {
      "cell_type": "markdown",
      "source": [
        "## **Demostración Hipótesis 1**\n",
        "\n",
        "Para demostrar esta hipótesis, utilizaremos **inducción matemática.**\n",
        "\n",
        "**Caso base:** Cuando $n=1$, significa que existe únicamente $1$ nodo dentro del grafo, por lo que no tiene ningún arco. La propiedad se cumple trivialmente para el caso base.\n",
        "\n",
        "**Paso inductivo:** Cuando $n>1$, el algoritmo comienza iterando en un nodo no explorado del grafo. Este nodo es explorado y posteriormente insertado en el stack junto a sus nodos adyacentes, que serán marcados como descubiertos. Una vez concluido este paso, se repetirá con el siguiente nodo en el stack.\n",
        "\n",
        "Una vez lleguemos a un nodo $n$ que no tiene otros nodos adyacentes, lo marcamos como visitado y lo insertamos en el stack de orden topológico. Al proceder con el siguiente nodo en la pila, tenemos 2 posibilidades:\n",
        "\n",
        "*   El siguiente nodo corresponde a un nodo hermano de $n$. Se ejecutará una búsqueda en profundidad. Diremos que esto es correcto por **hipótesis inductiva**\n",
        "\n",
        "*   El siguiente nodo corresponde al padre de $n$. Ya que sabemos que $G$ es un **grafo dirigido acíclico**, por lo que cuando tenemos una conexión $(u,v)$, no existe una conexión en el sentido de $v$ hasta $u$. Esto significa que se cumple que $f(u) < d(v)$ para cualquier nodo $d(v) < f(v)$. Al juntar las dos desigualdades obtenemos que $f(v)< f(u)$\n",
        "\n",
        "Finalmente, como la hipótesis se cumple para el caso base y para el paso inductivo, queda demostrada la correctitud del algoritmo Topological Sorting. $\\blacksquare$"
      ],
      "metadata": {
        "id": "Gcedmt8hb8kF"
      }
    },
    {
      "cell_type": "markdown",
      "source": [
        "# 5. Análisis del tiempo de ejecución"
      ],
      "metadata": {
        "id": "3CWAUcPvQBdC"
      }
    },
    {
      "cell_type": "markdown",
      "source": [
        "## **Teorema 1**\n",
        "> *El tiempo de ejecución del algoritmo **TopologicalSort** tanto para su implementación iterativa como recursiva tiene un tiempo de ejecución de complejidad $O(n+a)$ donde $a$ es la cantidad de arcos y $n$ es la cantidad de nodos del grafo.*\n",
        "\n"
      ],
      "metadata": {
        "id": "myBIaRRMRHgo"
      }
    },
    {
      "cell_type": "markdown",
      "source": [
        "## **Prueba del Teorema 1**\n",
        "Para analizar el tiempo de ejecución, basta con ver el código del algoritmo, que realiza 2 principales operaciones:\n",
        "\n",
        "\n",
        "\n",
        "1.   Ingresar los $n$ nodos al Stack, y cada nodo es ingresado solo una vez ya que luego de ser marcado como visitado, es ignorado en siguientes iteraciones, lo que nos da una complejidad de orden $O(n)$. \n",
        "2.   Por cada nodo, el algoritmo recorre todos sus nodos adyacentes, lo que coincide con la **cantidad de arcos**, lo que nos da una complejidad de orden $O(a)$ siendo $a$ la cantidad de arcos.\n",
        "\n",
        "Al sumar estas complejidades, obtenemos que la complejidad temporal de este algoritmo es $O(n+a)$. $\\blacksquare$"
      ],
      "metadata": {
        "id": "9ihEnzqxbvm_"
      }
    },
    {
      "cell_type": "markdown",
      "source": [
        "# 6. Experimentos"
      ],
      "metadata": {
        "id": "m9OFBpvOQF7B"
      }
    },
    {
      "cell_type": "markdown",
      "source": [
        "## 6.1 Tiempo de ejecución de los algoritmos en función del tamaño del grafo\n",
        "\n",
        "Se generarán instancias aleatorias de grafos con tamaño $n \\in [10,200]$ y se medirá el tiempo de ejecución de los algoritmos en función del tamaño del problema de entrada $n$."
      ],
      "metadata": {
        "id": "Xze8hS_hXmNV"
      }
    },
    {
      "cell_type": "code",
      "source": [
        "import matplotlib.pyplot as plt\n",
        "import numpy as np\n",
        "from timeit import repeat\n",
        "import networkx as nx\n",
        "\n",
        "x=[]; y1=[]; y2=[]\n",
        "\n",
        "for n in range(10,201):\n",
        "\n",
        "  # creamos instancias aleatorias\n",
        "  G = graph_instance_creator(n)\n",
        "  G = H = graph_to_nxdigraph(G)\n",
        "\n",
        "  iter_t = repeat(setup=\"from __main__ import iterTopologicalSort\", stmt=lambda: iterTopologicalSort(G), repeat=1, number=10)\n",
        "  rec_t = repeat(setup=\"from __main__ import recTopologicalSort\", stmt=lambda: recTopologicalSort(H), repeat=1, number=10)\n",
        "\n",
        "  x.append(n)\n",
        "  y1.append(iter_t)\n",
        "  y2.append(rec_t)\n",
        "\n",
        "plt.plot(x,y1)\n",
        "plt.plot(x,y2)\n",
        "plt.legend([\"Algoritmo Iterativo\", \"Algoritmo Recursivo\"])\n",
        "\n",
        "plt.xlabel('n')\n",
        "plt.ylabel('Tiempo en ms')\n",
        "plt.show()"
      ],
      "metadata": {
        "id": "zG-YTwaeX6b4",
        "colab": {
          "base_uri": "https://localhost:8080/",
          "height": 279
        },
        "outputId": "e5cbf8bf-2bb2-4877-8425-5ef4e8e86992"
      },
      "execution_count": null,
      "outputs": [
        {
          "output_type": "display_data",
          "data": {
            "text/plain": [
              "<Figure size 432x288 with 1 Axes>"
            ],
            "image/png": "[encoded data removed]"
          },
          "metadata": {
            "needs_background": "light"
          }
        }
      ]
    },
    {
      "cell_type": "markdown",
      "source": [
        "### 6.1.1 Análisis de resultados\n",
        "\n",
        "Al analizar la gráfica, podemos observar que a pesar de que ambos algoritmos tengan la misma complejidad $O(n+e)$, la implementación recursiva demuestra ser mucho mas eficiente temporalmente hablando en comparación a la versión iterativa. Esto, creemos que se puede deber a que la versión iterativa realiza mas comparaciones del estado de cada nodo."
      ],
      "metadata": {
        "id": "cLrHkWYshU1O"
      }
    },
    {
      "cell_type": "markdown",
      "source": [
        "## 6.2 Comparación de los algoritmos con el algoritmo `topological_sort` de NetworkX\n",
        "\n",
        "La libreria que utilizamos para crear y visualizar grafos llamada `NetworkX` también posee incorporado un algoritmo de ordenamiento topológico. Se generarán instancias aleatorias de grafos con tamaño $n \\in [10,200]$ y se medirá el tiempo de ejecución de los algoritmos en función del tamaño del problema de entrada $n$."
      ],
      "metadata": {
        "id": "QjkuEPfgco8q"
      }
    },
    {
      "cell_type": "code",
      "source": [
        "import matplotlib.pyplot as plt\n",
        "import numpy as np\n",
        "from timeit import repeat\n",
        "import networkx as nx\n",
        "\n",
        "x=[]; y1=[]; y2=[]; y3=[]\n",
        "\n",
        "def nxtsort(G):\n",
        "  return nx.algorithms.dag.topological_sort(G)\n",
        "\n",
        "for n in range(10,201):\n",
        "  \n",
        "  # creamos instancias aleatorias\n",
        "  G = graph_instance_creator(n)\n",
        "  G = H = I = graph_to_nxdigraph(G)\n",
        "\n",
        "  iter_t = repeat(setup=\"from __main__ import iterTopologicalSort\", stmt=lambda: iterTopologicalSort(G), repeat=1, number=10)\n",
        "  rec_t = repeat(setup=\"from __main__ import recTopologicalSort\", stmt=lambda: recTopologicalSort(H), repeat=1, number=10)\n",
        "  nx_t = repeat(setup=\"from __main__ import nxtsort\", stmt=lambda: nxtsort(I), repeat=1, number=10)\n",
        "\n",
        "  x.append(n)\n",
        "  y1.append(iter_t)\n",
        "  y2.append(rec_t)\n",
        "  y3.append(nx_t)\n",
        "\n",
        "plt.plot(x,y1)\n",
        "plt.plot(x,y2)\n",
        "plt.plot(x,y3)\n",
        "plt.legend([\"Algoritmo Iterativo\", \"Algoritmo Recursivo\", \"Algoritmo NetworkX\"])\n",
        "\n",
        "plt.xlabel('n')\n",
        "plt.ylabel('Tiempo en ms')\n",
        "plt.show()"
      ],
      "metadata": {
        "colab": {
          "base_uri": "https://localhost:8080/",
          "height": 279
        },
        "id": "lmn-r7iAddFP",
        "outputId": "1a0628eb-34ee-4431-b6ab-16a2fc8d0984"
      },
      "execution_count": null,
      "outputs": [
        {
          "output_type": "display_data",
          "data": {
            "text/plain": [
              "<Figure size 432x288 with 1 Axes>"
            ],
            "image/png": "[encoded data removed]"
          },
          "metadata": {
            "needs_background": "light"
          }
        }
      ]
    },
    {
      "cell_type": "markdown",
      "source": [
        "### 6.2.1 Análisis de resultados\n",
        "\n",
        "Como podemos observar en el gráfico, el algoritmo incluido por la libreria **NetworkX** es bastante mas eficiente que nuestras implementaciones. Creemos que es porque está mucho mejor optimizada, ya que el algoritmo es originalmente del libro ***Introduction to Algorithms: A Creative Approach***, donde al investigar nos dimos cuenta que tiene la misma complejidad que nuestros algoritmos: $O(V+E)$ donde $V$ son los **vértices o nodos** y $E$ **son los arcos (o edges)**."
      ],
      "metadata": {
        "id": "VQJ24oaHfm7Z"
      }
    }
  ]
}