{
  "nbformat": 4,
  "nbformat_minor": 0,
  "metadata": {
    "colab": {
      "provenance": [],
      "collapsed_sections": [],
      "toc_visible": true,
      "authorship_tag": "ABX9TyPdkNr6C/7zgkn/a+wmrlqC",
      "include_colab_link": true
    },
    "kernelspec": {
      "name": "python3",
      "display_name": "Python 3"
    },
    "language_info": {
      "name": "python"
    }
  },
  "cells": [
    {
      "cell_type": "markdown",
      "metadata": {
        "id": "view-in-github",
        "colab_type": "text"
      },
      "source": [
        "<a href=\"https://colab.research.google.com/github/benjarojas/ADA-Informes/blob/main/Select.ipynb\" target=\"_parent\"><img src=\"https://colab.research.google.com/assets/colab-badge.svg\" alt=\"Open In Colab\"/></a>"
      ]
    },
    {
      "cell_type": "markdown",
      "source": [
        "# 1. Estadísticos de Orden\n",
        "\n",
        "**Entrada:** Una secuencia $a$ de $n$ números $[a_1, a_2, \\ldots, a_n]$ y un número $k$ **menor al tamaño de la secuencia**.\n",
        "\n",
        "**Salida:** El $k$-ésimo **menor elemento** de la secuencia $a$.\n",
        "\n",
        "Un estadístico de orden es el $k$-ésimo menor elemento de una muestra, y este es una de las herramientas mas importantes de la estadística no paramétrica y de inferencia, además de tener muchas aplicaciones en diversas áreas, como la **ingeniería** y **data science**.\n",
        "\n",
        "En este informe, presentaremos el algoritmo **Select**, que es capaz de resolver el problema de encontrar un estadístico de orden en una muestra no ordenada en **tiempo lineal**."
      ],
      "metadata": {
        "id": "1d0XkMvqqNUM"
      }
    },
    {
      "cell_type": "markdown",
      "source": [
        "# 2. Código\n",
        "A continuación se mostrarán las implementaciones realizadas para cada algoritmo que se utilizó para resolver el problema de encontrar estadísticos de orden."
      ],
      "metadata": {
        "id": "En9T-LKaufTY"
      }
    },
    {
      "cell_type": "markdown",
      "source": [
        "## 2.1 PivotSelection\n",
        "\n",
        "Este algoritmo divide un arreglo $A$ en grupos de tamaño $5$, y calcula la mediana de estos grupos de forma recursiva. Es utilizado por **Select**, que utilizará esta mediana de medianas como un pivote para posteriormente particionar el arreglo y encontrar el $k$**-ésimo menor elemento**.\n",
        "Para esto, se utilizan 4 algoritmos presentados a continuación."
      ],
      "metadata": {
        "id": "5sa_fsjduhgP"
      }
    },
    {
      "cell_type": "markdown",
      "source": [
        "### 2.1.1 Insertion Sort\n",
        "Algoritmo de ordenamiento. Es utilizado por **Median**."
      ],
      "metadata": {
        "id": "P8Xvg0nS3bvO"
      }
    },
    {
      "cell_type": "code",
      "source": [
        "def insertion_sort(A, verbose=False):\n",
        "  n = len(A)\n",
        "  t = 0 # Contador de comparaciones\n",
        "  for i in range(1, n):\n",
        "    j = i # Variable auxiliar usada para recorrer el arreglo hacia atrás\n",
        "    t += 1 # Se realiza la primera comparación\n",
        "    # Si el elemento es menor al anterior se intercambian\n",
        "    while A[j] < A[j - 1]:\n",
        "      A[j], A[j - 1] = A[j - 1], A[j]\n",
        "      j -= 1\n",
        "      if j == 0: break\n",
        "      t += 1 # Luego del intercambio debe realizarse una nueva comparación\n",
        "  return A"
      ],
      "metadata": {
        "id": "m30gPwlEsyYH"
      },
      "execution_count": 278,
      "outputs": []
    },
    {
      "cell_type": "markdown",
      "source": [
        "### 2.1.2 Median\n",
        "Este algoritmo se encarga de ordenar y retornar la mediana de un arreglo de entrada $A$. Es utilizado por **PivotSelection**."
      ],
      "metadata": {
        "id": "zdhki5fM3joI"
      }
    },
    {
      "cell_type": "code",
      "execution_count": 283,
      "metadata": {
        "id": "y8PhREC4qFmt"
      },
      "outputs": [],
      "source": [
        "# Encuentra la mediana de un arreglo utilizando InsertionSort\n",
        "def mdn(A):\n",
        "    B = [] # Creamos un nuevo array B\n",
        "    for i in range(0, len(A)):\n",
        "        B.append(A[i]) # Agregamos los elementos de A a B\n",
        "    B = insertion_sort(B) # Ordenamos B usando InsertionSort\n",
        "    return B[len(A) // 2] # Retornamos la mediana"
      ]
    },
    {
      "cell_type": "markdown",
      "source": [
        "### 2.1.3 DivideGroups\n",
        "Este algoritmo divide un arreglo $A$ en sub-arreglos de tamaño $n$. Es utilizado por **PivotSelection**"
      ],
      "metadata": {
        "id": "QVMke6qK4GAj"
      }
    },
    {
      "cell_type": "code",
      "source": [
        "def divideGroups(A, n):\n",
        "\tfor i in range(0, len(A), n):\n",
        "\t\tyield A[i:i + n]"
      ],
      "metadata": {
        "id": "I9JDyCvA2ejd"
      },
      "execution_count": 273,
      "outputs": []
    },
    {
      "cell_type": "markdown",
      "source": [
        "### 2.1.4 PivotSelection"
      ],
      "metadata": {
        "id": "Fo1BIygR4bFK"
      }
    },
    {
      "cell_type": "code",
      "source": [
        "def pivotSelection(A):\n",
        "  if(len(A) > 1):\n",
        "    # Dividimos el arreglo en grupos de 5 y retornamos un arreglo de medianas de cada grupo\n",
        "    return pivotSelection([mdn(x) for x in list(divideGroups(A, 5))])\n",
        "  else:\n",
        "    # Caso base, retornamos la mediana de medianas\n",
        "    return A[0]"
      ],
      "metadata": {
        "id": "koR66k4C2fSb"
      },
      "execution_count": 296,
      "outputs": []
    },
    {
      "cell_type": "markdown",
      "source": [
        "## 2.2 Select\n",
        "El algoritmo **Select** se encarga de encontrar un **estadístico de orden**, es decir, dado un arreglo $A$ y un número $k$ que sea menor que el tamaño de $A$, el algoritmo retornará el **$k$-ésimo menor elemento del arreglo**."
      ],
      "metadata": {
        "id": "EMrocNCr4-7j"
      }
    },
    {
      "cell_type": "markdown",
      "source": [
        "###  2.2.1 Partition\n",
        "Este algoritmo particiona un arreglo en base a un **pivote**, quedando todos los elementos menores a este a su izquierda y los mayores a su derecha. Es utilizado por **Select**."
      ],
      "metadata": {
        "id": "hRkPp4NB3yVA"
      }
    },
    {
      "cell_type": "code",
      "source": [
        "def partition(A, l, h, pivot):\n",
        "  for i in range(l, h):\n",
        "    if A[i] == pivot:\n",
        "        A[h], A[i] = A[i], A[h]\n",
        "        break\n",
        "\n",
        "  pivot = A[h]\n",
        "  i = l\n",
        "\n",
        "  for j in range(l, h):\n",
        "    if (A[j] <= pivot):\n",
        "      A[i], A[j] = A[j], A[i] # Intercambiamos\n",
        "      i += 1\n",
        "  A[i], A[h] = A[h], A[i]\n",
        "  return i # Retornamos nueva posicion del pivote y cantidad de comparaciones"
      ],
      "metadata": {
        "id": "Ai3HUIIIrtjl"
      },
      "execution_count": 288,
      "outputs": []
    },
    {
      "cell_type": "markdown",
      "source": [
        "### 2.2.2 Select"
      ],
      "metadata": {
        "id": "5WtS4UGt5D8f"
      }
    },
    {
      "cell_type": "code",
      "source": [
        "from termcolor import colored\n",
        "\n",
        "def select(arr, l, h, k, verbose=False):   \n",
        "\n",
        "  # Si k <= len(A)\n",
        "  if (k > 0 and k <= h - l + 1):\n",
        "\n",
        "    pivot = pivotSelection(arr[l:h+1]) # Encontramos el pivote con PivotSelection\n",
        "\n",
        "    if(verbose):\n",
        "      print(f\"\\nArreglo: {colored(str(arr[l:h+1]), 'cyan')}\")\n",
        "      print(f\"k: {colored(str(k), 'red')}\")\n",
        "      print(f\"\\nSeleccionamos pivote utilizando {colored('PivotSelection', 'red')}\")\n",
        "      print(f\"Pivote: {colored(str(pivot), 'red')}\")\n",
        "      print(f\"\\nParticionamos el arreglo: {colored(str(arr[l:h+1]), 'cyan')}\")\n",
        "    \n",
        "    pos = partition(arr, l, h, pivot)\n",
        "    \n",
        "    if(verbose):\n",
        "      print(f\"Arreglo {colored('particionado', 'magenta')}: {colored(str(arr[l:h+1]), 'magenta')}\")\n",
        "\n",
        "    if (pos - l == k - 1):\n",
        "      if(verbose):\n",
        "        print(f\"\\nLa posición del pivote ({pos-l}) es igual a k-1 ({k-1})\")\n",
        "        print(f\"Por lo que nuestro k-esimo menor elemento es: {arr[pos]}\")\n",
        "      return arr[pos]\n",
        "\n",
        "    # Si la posición del pivote es mayor a k-1,\n",
        "    # retornamos la parte izq. del arreglo\n",
        "    if (pos - l > k - 1):\n",
        "      if(verbose):\n",
        "        print(f\"\\nLa posición del pivote ({pos-l}) {colored('es mayor a', 'red')} a k-1 ({colored(str(k-1), 'red')})\")\n",
        "        print(f\"Retornamos la parte {colored('izquierda', 'green')} del arreglo: {colored(str(arr[l:pos]), 'green')}\")\n",
        "      return select(arr, l, pos - 1, k, verbose=verbose)\n",
        "\n",
        "    # En otro caso, retornamos la parte derecha del arreglo\n",
        "    if(verbose):\n",
        "      print(f\"\\nLa posición del pivote ({pos-l}) {colored('es menor', 'red')} a k-1 ({colored(str(k-1), 'red')})\")\n",
        "      print(f\"Retornamos la parte {colored('derecha', 'blue')} del arreglo: {colored(str(arr[pos+1:h+1]), 'blue')}\")\n",
        "      print(f\"Ajustamos k: {k - pos + l - 1}\")\n",
        "    return select(arr, pos + 1, h, k - pos + l - 1,verbose=verbose)\n",
        "\n",
        "  if(verbose):\n",
        "    print(f\"\\nk: {colored(str(k), 'red')}\")\n",
        "    print(f\"k > largo arreglo ({len(arr)}). {colored('Retornamos infinito', 'red')}\")\n",
        "  return float('inf') # Retorna infinito en caso que k > len(array)"
      ],
      "metadata": {
        "id": "eAPwQIWUsBVI"
      },
      "execution_count": 314,
      "outputs": []
    },
    {
      "cell_type": "code",
      "source": [
        "# Ejemplo\n",
        "import random\n",
        "arr = random.sample(range(1,21), 10)\n",
        "print(f\"Arreglo: {arr}\")\n",
        "k = 3\n",
        "print(f\"k: {k}\")\n",
        "print(f\"k-ésimo menor elemento: {select(arr, 0, len(arr) - 1, k)}\")"
      ],
      "metadata": {
        "colab": {
          "base_uri": "https://localhost:8080/"
        },
        "id": "ahrllRYttwMW",
        "outputId": "4d9d1961-121d-43e0-d17d-16684c507d6f"
      },
      "execution_count": 317,
      "outputs": [
        {
          "output_type": "stream",
          "name": "stdout",
          "text": [
            "Arreglo: [10, 5, 14, 13, 17, 7, 19, 15, 9, 11]\n",
            "k: 3\n",
            "k-ésimo menor elemento: 9\n"
          ]
        }
      ]
    },
    {
      "cell_type": "markdown",
      "source": [
        "# 3. Descripción del algoritmo\n",
        "El algoritmo **Select** se encarga de encontrar el $k$-ésimo menor elemento de un arreglo de entrada de forma recursiva y eficiente mediante **Partition** y **PivotSelection** para realizar una buena elección del pivote.\n",
        "\n",
        "1. Primero, se llamará a **PivotSelection** que retornará el pivote, que corresponderá a la mediana de medianas de el arreglo inicial dividido en grupos de $5$ elementos.\n",
        "2. Luego, se llamará a la función **Partition** que dividirá el arreglo en $2$ partes, la parte izquierda tendrá a los elementos menores que el pivote y la parte derecha a los elementos mayores.\n",
        "3. Ahora, si $k$ es **menor** a la posición del pivote, llamaremos recursivamente a **Select** pero con la parte izquierda del arreglo.\n",
        "4. Si $k$ es **mayor** a la posición del pivote, llamaremos recursivamente a **Select** pero con la parte derecha del arreglo.\n",
        "5. Si $k$ es **igual** a la posición del pivote, significa que **encontramos el $k$-esimo menor elemento** y lo retornamos."
      ],
      "metadata": {
        "id": "Ql7RFiVVShtC"
      }
    },
    {
      "cell_type": "markdown",
      "source": [
        "## 3.1 Ejemplo de ejecución\n",
        "\n",
        "Tomaremos como ejemplo el siguiente arreglo de entrada $A$ al que queremos encontrar su $3$er menor elemento.\n",
        "\n",
        "$A = [1,6,4,3,8,5,7,10,9,2]$ y $k = 3$.\n",
        "\n",
        "Llamamos a la función **Select**:\n",
        "\n",
        "Primero, la función **seleccionará un pivote utilizando PivotSelection**:\n",
        "\n",
        "Se dividirá el arreglo en $2$ grupos de $5$:\n",
        "\n",
        "$[[1,6,4,3,8],$ $[5,7,10,9,2]]$\n",
        "\n",
        "Ordenamos cada grupo, quedando:\n",
        "\n",
        "$[[1,3,4,6,8],$ $[2,5,7,9,10]]$\n",
        "\n",
        "Ahora tomamos la **mediana de cada grupo** y **llamamos recursivamente** con ese arreglo\n",
        "\n",
        "`Median(A) = 4`, `Median(B) = 7`\n",
        "\n",
        "`PivotSelection([4,7])`\n",
        "\n",
        "Se dividirá en un único grupo:\n",
        "\n",
        "$[4,7]$\n",
        "\n",
        "Tomamos su **mediana** y llamamos **recursivamente a la función PivotSelection**:\n",
        "\n",
        "`Median(A) = 7`\n",
        "\n",
        "`PivotSelection([7])`\n",
        "\n",
        "Ya que corresponde al **caso base**, la función **retornará el pivote** $7$.\n",
        "\n",
        "Ahora que conocemos nuestro pivote, **procedemos a particionar el arreglo**:\n",
        "\n",
        "$A_{\\text{original}} = [1, 6, 4, 3, 8, 5, 7, 10, 9, 2]$\n",
        "\n",
        "$A_{\\text{particionado}} = [1, 6, 4, 3, 5, 2, 7, 10, 9, 8]$\n",
        "\n",
        "En este caso, **la posición del pivote es mayor a $k-1$, por lo que retornamos el sub-arreglo izquierdo**\n",
        "\n",
        "$\\text{subarreglo}_{\\text{izq}} = [1, 6, 4, 3, 5, 2]$\n",
        "\n",
        "`return([1, 6, 4, 3, 5, 2])`\n",
        "\n",
        "Seleccionamos pivote del **sub-arreglo utilizando PivotSelection**:\n",
        "\n",
        "Se divide el arreglo en $2$ grupos:\n",
        "\n",
        "$[[1, 6, 4, 3, 5],$ $[2]]$\n",
        "\n",
        "Se ordenará cada grupo:\n",
        "\n",
        "$[[1, 3, 4, 5, 6],$ $[2]$\n",
        "\n",
        "Se **calculará la mediana** de los grupos y se llamará **recursivamente**:\n",
        "\n",
        "`Median(A) = 4`, `Median(B) = 2`\n",
        "\n",
        "`return PivotSelection([4,2])`\n",
        "\n",
        "Se creará **un solo grupo** y se retornará su mediana:\n",
        "\n",
        "`Median([4,2]) = 4`\n",
        "\n",
        "**Se llama recursivamente**:\n",
        "\n",
        "`PivotSelection([4])`\n",
        "\n",
        "Llegamos al **caso base**, por lo que se retorna el único elemento como **pivote**: $4$\n",
        "\n",
        "Ahora, **particionamos el arreglo** con el pivote $4$:\n",
        "\n",
        "$A_{\\text{original}} = [1, 6, 4, 3, 5, 2]$\n",
        "\n",
        "$A_{\\text{particionado}} = [1, 2, 3, 4, 5, 6]$\n",
        "\n",
        "En este caso, la **posición del pivote es mayor a $k-1$**, por lo que retornamos el **sub-arreglo izquierdo**: \n",
        "\n",
        "$\\text{subarreglo}_{\\text{izq}} = [1,2,3]$\n",
        "\n",
        "Seleccionamos un pivote llamando a la función **PivotSelection**:\n",
        "\n",
        "La función creará **un único grupo**\n",
        "\n",
        "$[1, 2, 3]$\n",
        "\n",
        "**Ordenamos y tomamos su mediana**, que en este caso sería $2$:\n",
        "\n",
        "`Median(A) = 2`\n",
        "\n",
        "Llamamos **recursivamente** a PivotSelection\n",
        "\n",
        "`PivotSelection([2])`\n",
        "\n",
        "Llegamos al **caso base**, por lo que retornamos $2$\n",
        "\n",
        "Ahora que tenemos nuestro pivote $2$, **particionamos** el arreglo:\n",
        "\n",
        "$A_{\\text{original}} =  [1, 2, 3]$\n",
        "\n",
        "$A_{\\text{particionado}} = [1, 2, 3]$\n",
        "\n",
        "La **posición del pivote es menor a $k-1$**, por lo que **retornamos la parte derecha del arreglo:** \n",
        "\n",
        "$\\text{subarreglo}_{\\text{der}} = [3]$\n",
        "\n",
        "Tambien, **debemos re-calcular k** usando la siguiente fórmula:\n",
        "\n",
        "`k = k - posicion_pivote + low - 1` donde `low` corresponde al **valor del índice inferior del arreglo**.\n",
        "\n",
        "De esta forma $k$ quedará como $k = 1$\n",
        "\n",
        "Ahora, llamamos recursivamente\n",
        "\n",
        "`Select([3], 1)`\n",
        "\n",
        "Nuevamente **debemos seleccionar un pivote**, por lo que llamamos a **PivotSelection**:\n",
        "\n",
        "`PivotSelection([3])`\n",
        "\n",
        "**Corresponde al caso base**, por lo que retornamos $3$:\n",
        "\n",
        "La **posición del pivote es igual a $k-1$**, por lo que nuestro k-esimo menor elemento corresponde al único elemento, es decir: $3$."
      ],
      "metadata": {
        "id": "7Yd0oZbUUpoy"
      }
    },
    {
      "cell_type": "markdown",
      "source": [
        "## 3.2 Ejecución paso a paso `(verbose = True)`"
      ],
      "metadata": {
        "id": "Gyql51iSUryX"
      }
    },
    {
      "cell_type": "code",
      "source": [
        "import random\n",
        "arr = random.sample(range(1,100), 10)\n",
        "k = random.randint(1,10)\n",
        "select(arr, 0, len(arr) - 1, k, verbose=True)"
      ],
      "metadata": {
        "colab": {
          "base_uri": "https://localhost:8080/"
        },
        "id": "gzBcEto4U0jC",
        "outputId": "c89b8745-0272-459b-c4be-9675d47214b4"
      },
      "execution_count": 308,
      "outputs": [
        {
          "output_type": "stream",
          "name": "stdout",
          "text": [
            "\n",
            "Arreglo: \u001b[36m[29, 96, 13, 81, 11, 71, 17, 68, 94, 88]\u001b[0m\n",
            "k: \u001b[31m2\u001b[0m\n",
            "\n",
            "Seleccionamos pivote utilizando \u001b[31mPivotSelection\u001b[0m\n",
            "Pivote: \u001b[31m71\u001b[0m\n",
            "\n",
            "Particionamos el arreglo: \u001b[36m[29, 96, 13, 81, 11, 71, 17, 68, 94, 88]\u001b[0m\n",
            "Arreglo \u001b[35mparticionado\u001b[0m: \u001b[35m[29, 13, 11, 17, 68, 71, 81, 96, 94, 88]\u001b[0m\n",
            "\n",
            "La posición del pivote (5) \u001b[31mes mayor o igual a\u001b[0m a k (\u001b[31m2\u001b[0m)\n",
            "Retornamos la parte \u001b[32mizquierda\u001b[0m del arreglo: \u001b[32m[29, 13, 11, 17, 68]\u001b[0m\n",
            "\n",
            "Arreglo: \u001b[36m[29, 13, 11, 17, 68]\u001b[0m\n",
            "k: \u001b[31m2\u001b[0m\n",
            "\n",
            "Seleccionamos pivote utilizando \u001b[31mPivotSelection\u001b[0m\n",
            "Pivote: \u001b[31m17\u001b[0m\n",
            "\n",
            "Particionamos el arreglo: \u001b[36m[29, 13, 11, 17, 68]\u001b[0m\n",
            "Arreglo \u001b[35mparticionado\u001b[0m: \u001b[35m[13, 11, 17, 68, 29]\u001b[0m\n",
            "\n",
            "La posición del pivote (2) \u001b[31mes mayor o igual a\u001b[0m a k (\u001b[31m2\u001b[0m)\n",
            "Retornamos la parte \u001b[32mizquierda\u001b[0m del arreglo: \u001b[32m[13, 11]\u001b[0m\n",
            "\n",
            "Arreglo: \u001b[36m[13, 11]\u001b[0m\n",
            "k: \u001b[31m2\u001b[0m\n",
            "\n",
            "Seleccionamos pivote utilizando \u001b[31mPivotSelection\u001b[0m\n",
            "Pivote: \u001b[31m13\u001b[0m\n",
            "\n",
            "Particionamos el arreglo: \u001b[36m[13, 11]\u001b[0m\n",
            "Arreglo \u001b[35mparticionado\u001b[0m: \u001b[35m[11, 13]\u001b[0m\n",
            "\n",
            "La posición del pivote (1) es igual a k-1 (1)\n",
            "Por lo que nuestro k-esimo menor elemento es: 13\n"
          ]
        },
        {
          "output_type": "execute_result",
          "data": {
            "text/plain": [
              "13"
            ]
          },
          "metadata": {},
          "execution_count": 308
        }
      ]
    },
    {
      "cell_type": "markdown",
      "source": [
        "# 4. Propiedades del algoritmo"
      ],
      "metadata": {
        "id": "ScseBV_QVdKu"
      }
    },
    {
      "cell_type": "markdown",
      "source": [
        "## 4.1 Análisis del tiempo de ejecución\n",
        "### Teorema\n",
        "> *El algoritmo **Select** tiene un tiempo de ejecución lineal, es decir, de orden $O(n)$ para su peor caso*.\n",
        "\n",
        "### Prueba del Teorema\n",
        "\n",
        "Sabemos que este problema se reduce a la **partición** del arreglo de entrada y a la **selección del pivote**, que se realiza mediante la función **PivotSelection**. Las operaciones que realiza **PivotSelection** son las siguientes:\n",
        "\n",
        "1. Dividir el arreglo en $\\lfloor n/5 \\rfloor$ grupos de $5$ elementos y a lo más un grupo de $n \\text{ mod } 5$ elementos tendrá un tiempo de ejecución $O(n)$\n",
        "2. Encontrar la mediana para cada grupo utilizando **InsertionSort** tendrá tiempo de ejecución $O(n)$.\n",
        "3. Encontrar la mediana de las medianas anteriores tendrá tiempo de ejecución $O(\\lceil n/5 \\rceil)$.\n",
        "\n",
        "Luego de encontrar el **pivote**, se llamará a la función **Partition**, que generará $2$ sub-arreglos de tamaño $3n/10$ y $7n/10$ para el peor caso. Esto tendrá tiempo de ejecución $O(n)$.\n",
        "\n",
        "Finalmente, se llamará recursivamente a la función **Select** dependiendo de cual sea la **partición** escogida.\n",
        "\n",
        "Para analizar el tiempo de ejecución, tomaremos la partición de tamaño $7n/10$.\n",
        "\n",
        "A partir de los datos anteriores, podemos definir el tiempo de ejecución como una función de recurrencia $T(n)$:\n",
        "\n",
        "$T(n) = T(\\lceil n/5 \\rceil) + T(7n/10) + O(n)$.\n",
        "\n",
        "Para probar el teorema, utilizaremos el **método de sustitución**. Encontraremos una **constante** $k$ de tal forma que $T(n) \\leq kn$ para valores de $n$ suficientemente grandes.\n",
        "\n",
        "Primero reemplazaremos por $cn$ los tiempos de orden de complejidad lineal $O(n)$ quedando:\n",
        "\n",
        "$T(n) \\leq T(\\lceil n/5 \\rceil) + T(7n/10) + cn$\n",
        "\n",
        "Ahora reemplazamos por $kn$ todos los términos de la forma $T(n)$:\n",
        "\n",
        "$kn \\leq kn/5 + 7kn/10 + cn$\n",
        "\n",
        "Resolviendo la desigualdad obtenemos que para cualquier valor $k \\geq 10c$ se cumple que $T(n) \\leq kn$, por lo que podemos decir que nuestro algoritmo tiene un tiempo de ejecución de orden $O(n)$ para su peor caso. $\\blacksquare$"
      ],
      "metadata": {
        "id": "0Y6q4hvXa285"
      }
    },
    {
      "cell_type": "markdown",
      "source": [
        "## 4.2 Prueba de correctitud\n",
        "\n",
        "### Hipótesis\n",
        "> *Nuestra hipótesis $P(n)$ es que **Select** recibe como entrada un arreglo $A$ y un número $k$ y retorna el elemento que debería estar en la posición $k$ del arreglo $A$ si estuviese **ordenado**.*\n",
        "\n",
        "### Prueba de la Hipótesis\n",
        "\n",
        "Diremos que $|A|$ corresponde al tamaño del arreglo de entrada $A$. \n",
        "\n",
        "**Caso base:** Cuando el tamaño del problema $n=1$, sí o sí $k$ debe ser igual a $1$. Además sabemos que un arreglo de $1$ se encuentra trivialmente ordenado, por lo que es cierto que $k = 1$ entonces retornamos el único elemento. $P(1)$ es correcto.\n",
        "\n",
        "**Caso general:** Cuando $n > 1$, llamamos a **Partition** que generará $2$ sub-arreglos que llamaremos $A_1$ y $A_2$, donde $A_1$ corresponde al sub-arreglo izquierdo y $A_2$ al sub-arreglo derecho. Además, diremos que $|A_1|$ corresponde al tamaño del sub-arreglo izquierdo y $|A_2|$ corresponde al tamaño del sub-arreglo derecho. De esto se desprenden 2 casos:\n",
        "\n",
        "1. Sabemos que todos los elementos de $A_1$ son menores a los elementos de $A_2$. De esta forma, si $k < |A_1|$, el $k$-ésimo menor elemento del arreglo $A$ debe estar dentro del $A_1$.\n",
        "\n",
        "2. Cuando $k > |A_1|$, entonces el $k$-ésimo menor elemento de $A$ debe estar contenido dentro de $|A_2|$.\n",
        "\n",
        "Dentro del segundo caso, nos podemos dar cuenta que:\n",
        "\n",
        "*   Si $k = |A_1|$, entonces buscamos el menor elemento de $A_2$\n",
        "*   Si $k = |A_1| + 1$, entonces buscamos el segundo menor elemento de $A_2$ y así.\n",
        "\n",
        "Esto puede ser generalizado, quedando que el $k$-ésimo menor elemento de $A$ será el $(k - |A_1|)$-esimo menor elemento del sub-arreglo derecho para el segundo caso.\n",
        "\n",
        "Ya que por **hipótesis inductiva sabemos que las llamadas recursivas son correctas**, concluímos que **Select es correcto**. $\\blacksquare$\n"
      ],
      "metadata": {
        "id": "cHbYrEgRa51b"
      }
    },
    {
      "cell_type": "markdown",
      "source": [
        "# 5. Experimentos"
      ],
      "metadata": {
        "id": "Hm19Y4CKhJQA"
      }
    },
    {
      "cell_type": "markdown",
      "source": [
        "## 5.1 Select vs Randomized-Select\n",
        "\n",
        "En este experimento compararemos los algoritmos **Select** y **Randomized-Select**, cuya diferencia es únicamente la selección de pivotes, ya que mientras **Select** lo escoge a partir de la mediana de un grupo de medianas, **Randomized-Select** lo escoge de forma **aleatoria**.\n",
        "\n",
        "Se comprobarán utilizando arreglos aleatorios de tamaño $n \\in [5, 2000]$, valores en el rango $[1,2001]$ y buscaremos el **primer estadístico de orden**, es decir, $k=1$."
      ],
      "metadata": {
        "id": "GyJuc-knvbPb"
      }
    },
    {
      "cell_type": "markdown",
      "source": [
        "### 5.1.1 RandomizedSelect"
      ],
      "metadata": {
        "id": "XXhI_owkYSr5"
      }
    },
    {
      "cell_type": "code",
      "source": [
        "import random\n",
        "def random_pivot(A):\n",
        "  pivot = random.randint(0,len(A)-1)\n",
        "  return A[pivot]\n",
        "\n",
        "def randomized_select(arr, l, h, k):   \n",
        "  if (k > 0 and k <= h - l + 1):\n",
        "    pivot = random_pivot(arr[l:h+1]) # Generamos un pivote aleatorio\n",
        "    pos = partition(arr, l, h, pivot) # Particionamos\n",
        "\n",
        "    if (pos - l == k - 1):\n",
        "      return arr[pos]\n",
        "\n",
        "    if (pos - l > k - 1):\n",
        "      return select(arr, l, pos - 1, k)\n",
        "\n",
        "    return select(arr, pos + 1, h, k - pos + l - 1)\n",
        "\n",
        "  return float('inf') # Retorna infinito en caso que k > len(array)"
      ],
      "metadata": {
        "id": "shEfW8FdwIan"
      },
      "execution_count": 311,
      "outputs": []
    },
    {
      "cell_type": "markdown",
      "source": [
        "### 5.1.2 Procedimiento"
      ],
      "metadata": {
        "id": "PFTeQzFYYYYi"
      }
    },
    {
      "cell_type": "code",
      "source": [
        "import matplotlib.pyplot as plt\n",
        "import datetime\n",
        "import random\n",
        "import timeit\n",
        "\n",
        "x,y,y1 = [],[],[]\n",
        "\n",
        "for n in range(5,2001):\n",
        "\n",
        "  a = random.sample(range(1, 2002), n)\n",
        "  b = a # copia del arreglo aleatorio\n",
        "\n",
        "  select_T = timeit.repeat(setup=\"from __main__ import select\", stmt=f\"select({a},0,{len(a)-1},1)\", repeat=1, number=1)\n",
        "  randomized_T = timeit.repeat(setup=\"from __main__ import randomized_select\", stmt=f\"randomized_select({b},0,{len(b)-1},1)\", repeat=1, number=1)\n",
        "\n",
        "  x.append(n)\n",
        "  y.append(select_T)\n",
        "  y1.append(randomized_T)\n",
        "\n",
        "plt.plot(x,y)\n",
        "plt.plot(x,y1)\n",
        "plt.legend([\"Select\", \"RandomizedSelect\"])\n",
        "\n",
        "plt.xlabel('Tamaño del problema n')\n",
        "plt.ylabel('Tiempo en ms')\n",
        "plt.show()"
      ],
      "metadata": {
        "colab": {
          "base_uri": "https://localhost:8080/",
          "height": 279
        },
        "id": "4wwzVhBkxk4G",
        "outputId": "0248c771-b3ba-493a-dbb1-e8a0b6e3c06c"
      },
      "execution_count": 313,
      "outputs": [
        {
          "output_type": "display_data",
          "data": {
            "text/plain": [
              "<Figure size 432x288 with 1 Axes>"
            ],
            "image/png": "[encoded data removed]"
          },
          "metadata": {
            "needs_background": "light"
          }
        }
      ]
    },
    {
      "cell_type": "markdown",
      "source": [
        "### 5.1.3 Análisis de resultados\n",
        "Como podemos ver en el gráfico, ambos algoritmos muestran un comportamiento similar, pero en general, **RandomizedSelect** demuestra ser mas rápido que **Select**, ya que su curva se suele mantener bajo la del tiempo de ejecución de **Select**. Esto creemos que se puede deber a que **Select** tarda un tiempo extra al utilizar **PivotSelection**, ya que este último recursivamente calcula la mediana de las medianas de sub-arreglos, y para esto utiliza **InsertionSort**, por lo que a pesar de haber elegido un buen pivote, se gasta mucho mas tiempo durante la ejecución de los otros algoritmos."
      ],
      "metadata": {
        "id": "2vy6rQPq0YEa"
      }
    }
  ]
}