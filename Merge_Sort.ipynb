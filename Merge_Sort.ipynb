{
  "nbformat": 4,
  "nbformat_minor": 0,
  "metadata": {
    "colab": {
      "name": "Merge_Sort",
      "provenance": [],
      "collapsed_sections": [],
      "authorship_tag": "ABX9TyMX1Nv8x7mvqUcjSNIHlaY7",
      "include_colab_link": true
    },
    "kernelspec": {
      "name": "python3",
      "display_name": "Python 3"
    },
    "language_info": {
      "name": "python"
    }
  },
  "cells": [
    {
      "cell_type": "markdown",
      "metadata": {
        "id": "view-in-github",
        "colab_type": "text"
      },
      "source": [
        "<a href=\"https://colab.research.google.com/github/benjarojas/ADA-Informes/blob/main/Merge_Sort.ipynb\" target=\"_parent\"><img src=\"https://colab.research.google.com/assets/colab-badge.svg\" alt=\"Open In Colab\"/></a>"
      ]
    },
    {
      "cell_type": "markdown",
      "source": [
        "# 1. Problema de Ordenamiento\n",
        "**Entrada**: Conjunto de n elementos $[ a_1, a_2, \\ldots, a_n ]$\n",
        "\n",
        "**Salida**: Permutación de los elementos de entrada $ [ a_1', a_2', \\ldots, a_n' ] $ de forma que $ a_1' \\leq a_2' \\leq \\ldots \\leq a_n' $\n",
        "\n",
        "El ordenamiento es un problema estudiado desde el comienzo de las ciencias de la computación, puesto que cada algoritmo que intenta resolver este problema tiene ventajas y desventajas para cada caso donde se quiera aplicar. En este informe se estudiará el algoritmo Merge Sort, diseñado inteligentemente utilizando el paradigma **Divide y Vencerás**."
      ],
      "metadata": {
        "id": "wN_EkhpSWCKp"
      }
    },
    {
      "cell_type": "markdown",
      "source": [
        "# 2. Función Merge"
      ],
      "metadata": {
        "id": "SXNuGnhoXNzL"
      }
    },
    {
      "cell_type": "markdown",
      "source": [
        "## 2.1 Descripción de la Función\n",
        "La función Merge se encarga de combinar 2 arreglos $A$ y $B$ previamente ordenados en un nuevo arreglo $C$ que contiene todos los elementos de $A$ y $B$ permutados de forma que están ordenados de menor a mayor.\n",
        "\n",
        "1.   En cada iteración se comprueba si los contadores $i$ y $j$ (inicializados en $0$ antes de la primera iteración) que corresponden a posiciones dentro de los arreglos $A$ y $B$ respectivamente, son menores que el largo de los arreglos. Si no es así, el bucle no iterará.\n",
        "2.   Luego se comprueba si el elemento $A_i$ es menor o igual al elemento $B_j$, y en ese caso, se agrega el elemento $A_i$ al arreglo $C$ y se aumentará en 1 el contador $i$.\n",
        "En caso contrario, se agrega el elemento $B_j$ al arreglo $C$ y se aumenta el contador $j$ en 1.\n",
        "3. Al finalizar el bucle, en uno de los arreglos habrán quedado elementos sin insertar en $C$, por lo que agregamos todos los elementos que hayan quedado desde los contadores $i$ y $j$ ($C = C + A[i \\ldots n] + B[j \\ldots n] $)"
      ],
      "metadata": {
        "id": "DfjI1P0GS4C0"
      }
    },
    {
      "cell_type": "markdown",
      "source": [
        "\n",
        "## 2.2 Implementación de Merge"
      ],
      "metadata": {
        "id": "aiRkdq_BahAc"
      }
    },
    {
      "cell_type": "code",
      "source": [
        "from termcolor import colored\n",
        "\n",
        "merge_comp = 0\n",
        "def merge(A, B, verbose=False):\n",
        "    i, j = 0, 0  # Indices de los arreglos y contador de comparaciones\n",
        "    global merge_comp\n",
        "    C = []  # Arreglo C (mezcla entre A y B)\n",
        "\n",
        "    if(verbose):\n",
        "        print(f\"\\nCombinando A: {A} y B: {B}\")\n",
        "\n",
        "    while(i < len(A) and j < len(B)):  # Mientras no se haya alcanzado el final de alguno de los arreglos\n",
        "        if(verbose):\n",
        "            print(\n",
        "                f\"\\nComparando {colored(str(A[i]), 'magenta')} y {colored(str(B[j]), 'cyan')}:\")\n",
        "        if(A[i] <= B[j]):\n",
        "            if(verbose):\n",
        "                print(f\"{colored(str(A[i]), 'magenta')} es menor o igual que {colored(str(B[j]), 'cyan')}, por lo que lo agregamos a {colored('C', 'blue')}\")\n",
        "            C.append(A[i])  # Añadimos el elemento a C\n",
        "            i += 1  # Siguiente elemento\n",
        "        else:\n",
        "            if(verbose):\n",
        "                print(f\"{colored(str(B[j]), 'cyan')} es menor que {colored(str(A[i]), 'magenta')}, por lo que lo agregamos a {colored('C', 'red')}\")\n",
        "            C.append(B[j])  # Añadimos el elemento a C\n",
        "            j += 1  # Siguiente elemento\n",
        "        merge_comp += 1  # +1 comparacion\n",
        "\n",
        "        if(verbose):\n",
        "            print(f\"\\nDespues de esta iteración:\")\n",
        "            if(i < len(A)):\n",
        "                print(f\"A[{colored('i', 'magenta')}..n]: [{colored(str(A[i]), 'magenta')}, {', '.join(map(str, A[i+1:]))}]\")\n",
        "            else:\n",
        "                print(f\"A[{colored('i', 'magenta')}..n]: []\")\n",
        "            \n",
        "            if(j < len(B)):\n",
        "                print(f\"B[{colored('j', 'cyan')}..n]: [{colored(str(B[j]), 'cyan')}, {', '.join(map(str, B[j+1:]))}]\")\n",
        "            else:\n",
        "                print(f\"B[{colored('j', 'cyan')}..n]: []\")\n",
        "            print(f\"{colored('C:', 'red')} {C}\")\n",
        "\n",
        "    # Agregamos los elementos que no fueron comparados\n",
        "\n",
        "    if(verbose):\n",
        "        if(len(A[i:]) > 0):\n",
        "            print(\"\\nAgregamos los elementos restantes de A a C\")\n",
        "        if(len(B[j:]) > 0):\n",
        "            print(\"\\nAgregamos los elementos restantes de B a C\")\n",
        "\n",
        "    C = C + A[i:] + B[j:]\n",
        "    merge_comp += len(A[i:] + B[j:])\n",
        "\n",
        "    if(verbose): print(f\"Arreglo ordenado C: {C}\")\n",
        "    # Retornamos una tupla con el arreglo mezclado y las comparaciones\n",
        "    return C, merge_comp"
      ],
      "metadata": {
        "id": "7PJ2nlPzd59D"
      },
      "execution_count": 222,
      "outputs": []
    },
    {
      "cell_type": "code",
      "source": [
        "A = [1, 9, 10, 50]\n",
        "B = [8, 20, 34, 46]\n",
        "print(f\"A: {A}\")\n",
        "print(f\"B: {B}\")\n",
        "C = merge(A, B)\n",
        "print(f\"merge(A,B): {C[0]}\")\n",
        "print(f\"{C[1]} comparaciones realizadas.\")"
      ],
      "metadata": {
        "colab": {
          "base_uri": "https://localhost:8080/"
        },
        "id": "QU82xQ6u2MSG",
        "outputId": "66b754d7-5cb6-458d-9bb5-87c45583becf"
      },
      "execution_count": 223,
      "outputs": [
        {
          "output_type": "stream",
          "name": "stdout",
          "text": [
            "A: [1, 9, 10, 50]\n",
            "B: [8, 20, 34, 46]\n",
            "merge(A,B): [1, 8, 9, 10, 20, 34, 46, 50]\n",
            "8 comparaciones realizadas.\n"
          ]
        }
      ]
    },
    {
      "cell_type": "markdown",
      "source": [
        "# 3. Merge Sort"
      ],
      "metadata": {
        "id": "eo0Z2TBYaq2x"
      }
    },
    {
      "cell_type": "markdown",
      "source": [
        "## 3.1 Descripción del Algoritmo\n",
        "**Merge Sort** es un algoritmo de ordenamiento recursivo que se basa en el paradigma **_Divide y Vencerás_**.\n",
        "\n",
        "Recibe como entrada un arreglo de números $a = [a_1, a_2, \\ldots, a_n]$ y retorna un arreglo con los mismos elementos de entrada permutados y ordenados $a' = [a_1', a_2', \\ldots, a_n']$.\n",
        "\n",
        "\n",
        "1.   Si el largo del arreglo de entrada es $\\leq 1$, se retorna el mismo arreglo. **_Este corresponde al caso base._**\n",
        "2.   Calculamos la posición central del arreglo mediante una división entera entre 2: `mid = len(a) // 2`.\n",
        "3.   A partir de esta posición central, se divide $a$ en 2 sub-arreglos llamados $A$ y $B$.\n",
        "4.   Se llama recursivamente a la función para ordenar los arreglos $A$ y $B$.\n",
        "5.   Finalmente, se retorna la unión ordenada de $A$ y $B$ mediante la función `merge()`.\n",
        "\n"
      ],
      "metadata": {
        "id": "Raw5wnghax6w"
      }
    },
    {
      "cell_type": "markdown",
      "source": [
        "## 3.2 Implementación del Algoritmo\n",
        "\n"
      ],
      "metadata": {
        "id": "DpDAJ_SAdxFb"
      }
    },
    {
      "cell_type": "code",
      "execution_count": 224,
      "metadata": {
        "id": "Oyt_3WfCV1vV"
      },
      "outputs": [],
      "source": [
        "call_count = 0 # Variable global, llamadas recursivas de merge_sort()\n",
        "merge_comp = 0 # Reiniciamos la cantidad de comparaciones que hace merge()\n",
        "def merge_sort(K, verbose=False):\n",
        "\n",
        "    global call_count # Contador de llamadas recursivas\n",
        "\n",
        "    if(call_count == 0 and verbose): print(f\"Arreglo inicial: {K}\\n\")\n",
        "\n",
        "    # Caso base, 0 o 1 elementos ya se encuentran ordenados\n",
        "    if(len(K) <= 1):\n",
        "      if(verbose): print(f\"> Caso base, retornamos el arreglo: {K}\")\n",
        "      return K\n",
        "\n",
        "    mid = len(K) // 2 # Calculamos posición central\n",
        "    if(verbose): print(f\"Separamos el arreglo en A{K[:mid]} y B{K[mid:]}\")\n",
        "\n",
        "    if(verbose): print(f\"\\nAhora llamamos recursivamente a merge_sort para ordenar A{K[:mid]}\")\n",
        "    call_count += 1 # Se suma una llamada recursiva\n",
        "    A = merge_sort(K[:mid], verbose=verbose) # Sub-arreglo ordenado A[0...mid] llamando recursivamente a la función \n",
        "\n",
        "    if(verbose): print(f\"\\nAhora llamamos recursivamente a merge_sort para ordenar B{K[mid:]}\")\n",
        "    B = merge_sort(K[mid:], verbose=verbose) # Sub-arreglo ordenado B[mid...n] llamando recursivamente a la función\n",
        "    call_count += 1 # Se suma una llamada recursiva\n",
        "\n",
        "    if(verbose): print(f\"\\nLlamamos a merge para unir {A} y {B} en C[] y lo retornamos\")\n",
        "    M, C = merge(A,B, verbose=verbose)\n",
        "\n",
        "    return M # Retornamos la mezcla de los 2 arreglos"
      ]
    },
    {
      "cell_type": "code",
      "source": [
        "arr = [4, 5, 6, 3, 7, 9, 2, 10]\n",
        "print (f\"Arreglo desordenado: {arr}\")\n",
        "arr = merge_sort(arr)\n",
        "print (f\"Arreglo ordenado: {arr}\")\n",
        "print(f\"{call_count} llamadas recursivas.\")\n",
        "print(f\"{merge_comp} comparaciones totales en merge.\")"
      ],
      "metadata": {
        "colab": {
          "base_uri": "https://localhost:8080/"
        },
        "id": "PVfrv_W32R_y",
        "outputId": "e1938685-5cc5-4765-8040-2d022824822c"
      },
      "execution_count": 225,
      "outputs": [
        {
          "output_type": "stream",
          "name": "stdout",
          "text": [
            "Arreglo desordenado: [4, 5, 6, 3, 7, 9, 2, 10]\n",
            "Arreglo ordenado: [2, 3, 4, 5, 6, 7, 9, 10]\n",
            "14 llamadas recursivas.\n",
            "24 comparaciones totales en merge.\n"
          ]
        }
      ]
    },
    {
      "cell_type": "markdown",
      "source": [
        "## 3.3 Ejemplo\n",
        "Consideremos un arreglo $x = [3,1,5,2,4]$.\n",
        "\n",
        "En la primera iteración, el algoritmo tomará el largo del arreglo `len(x)` y mediante una división entera entre 2 se calculará la posición del elemento central:\n",
        "\n",
        "`mid = len(x) // 2 = 2`\n",
        "\n",
        "A partir de esta posición, se divirá $x$ en 2 sub-arreglos principales $A$ y $B$, quedando:\n",
        "\n",
        "$A = [3,1]$ y $B = [5,2,4]$\n",
        "\n",
        "Luego, se llama recursivamente a la función para ordenar estos sub-arreglos. Partiremos por $A$.\n",
        "\n",
        "En la llamada recursiva de $A$, calculamos su elemento central `mid = len(A) // 2 = 1`, por lo que $A$ se dividirá nuevamente en $A'$ y $B'$, quedando:\n",
        "\n",
        "$A' = [3]$ y $B' = [1]$\n",
        "\n",
        "Ahora, al llamar recursivamente a la función `merge_sort()` con los sub-arreglos $A'$ y $B'$, esta retornará el mismo arreglo en cada llamada, puesto que corresponde al caso base **_(arreglos de 1 único elemento se encuentran trivialmente ordenados_)**, por lo que se llama a la función `merge(A',B')` que unirá los arreglos ordenados, retornando $A = [1,3]$.\n",
        "\n",
        "Ahora que ya se ordenó el sub-arreglo $A$, se procederá con $B = [5,2,4]$:\n",
        "\n",
        "Se llamara recursivamente a la función `merge_sort()` pasandole el arreglo $B$, que calculará su posición central mediante `len(B) // 2 = 1`.\n",
        "Ahora, se procederá a sub-dividir el arreglo $B$ en $A''$ y $B''$, quedando:\n",
        "\n",
        "$A'' = [5]$ y $B'' = [2,4]$\n",
        "\n",
        "Ya que `len(A'') == 1`, se retorna el mismo sub-arreglo ya que corresponde al caso base. Luego, el algoritmo procede a llamar recursivamente a `merge_sort()` pasandole $B''$, y se calculará su posición central `len(B'') // 2 = 1`, y se volverá a dividir en $A'''$ y $B'''$, quedando:\n",
        "\n",
        "$A''' = [2]$ y $B''' = [4]$\n",
        "\n",
        "Y estos corresponden al caso base, por lo que se proceden a unir mediante la función `merge(A''',B''')`, quedando ordenado el arreglo $B'' = [2,4]$. \n",
        "\n",
        "Ahora que ya se ordenaron los sub-arreglos $A''$ y $B''$, se proceden a unir mediante la función `merge(A'',B'')`, resultando $B = [2,4,5]$.\n",
        "\n",
        "Al ya tener ordenados los 2 sub-arreglos principales $A = [1,3]$ y $B = [2,4,5]$, se proceden a juntar usando `merge(A,B)`, quedando ordenado el arreglo:\n",
        "\n",
        "$x' = [1,2,3,4,5]$."
      ],
      "metadata": {
        "id": "yxPwqo4Gcs5z"
      }
    },
    {
      "cell_type": "markdown",
      "source": [
        "## 3.4 Ejecución paso a paso del algoritmo (`verbose = True`)"
      ],
      "metadata": {
        "id": "NdhwHaq5cxwM"
      }
    },
    {
      "cell_type": "code",
      "source": [
        "call_count = 0 # Reiniciamos el contador de llamadas recursivas\n",
        "merge_sort([4,3,2,1], verbose=True)"
      ],
      "metadata": {
        "colab": {
          "base_uri": "https://localhost:8080/"
        },
        "id": "pRRIbbcTobH1",
        "outputId": "d687720b-8133-4adb-8b39-3af98439af02"
      },
      "execution_count": 220,
      "outputs": [
        {
          "output_type": "stream",
          "name": "stdout",
          "text": [
            "Arreglo inicial: [4, 3, 2, 1]\n",
            "\n",
            "Separamos el arreglo en A[4, 3] y B[2, 1]\n",
            "\n",
            "Ahora llamamos recursivamente a merge_sort para ordenar A[4, 3]\n",
            "Separamos el arreglo en A[4] y B[3]\n",
            "\n",
            "Ahora llamamos recursivamente a merge_sort para ordenar A[4]\n",
            "> Caso base, retornamos el arreglo: [4]\n",
            "\n",
            "Ahora llamamos recursivamente a merge_sort para ordenar B[3]\n",
            "> Caso base, retornamos el arreglo: [3]\n",
            "\n",
            "Llamamos a merge para unir [4] y [3] en C[] y lo retornamos\n",
            "\n",
            "Combinando A: [4] y B: [3]\n",
            "\n",
            "Comparando \u001b[35m4\u001b[0m y \u001b[36m3\u001b[0m:\n",
            "\u001b[36m3\u001b[0m es menor que \u001b[35m4\u001b[0m, por lo que lo agregamos a \u001b[31mC\u001b[0m\n",
            "\n",
            "Despues de esta iteración:\n",
            "A[\u001b[35mi\u001b[0m..n]: [\u001b[35m4\u001b[0m, ]\n",
            "B[\u001b[36mj\u001b[0m..n]: []\n",
            "\u001b[31mC:\u001b[0m [3]\n",
            "\n",
            "Agregamos los elementos restantes de A a C\n",
            "Arreglo ordenado C: [3, 4]\n",
            "\n",
            "Ahora llamamos recursivamente a merge_sort para ordenar B[2, 1]\n",
            "Separamos el arreglo en A[2] y B[1]\n",
            "\n",
            "Ahora llamamos recursivamente a merge_sort para ordenar A[2]\n",
            "> Caso base, retornamos el arreglo: [2]\n",
            "\n",
            "Ahora llamamos recursivamente a merge_sort para ordenar B[1]\n",
            "> Caso base, retornamos el arreglo: [1]\n",
            "\n",
            "Llamamos a merge para unir [2] y [1] en C[] y lo retornamos\n",
            "\n",
            "Combinando A: [2] y B: [1]\n",
            "\n",
            "Comparando \u001b[35m2\u001b[0m y \u001b[36m1\u001b[0m:\n",
            "\u001b[36m1\u001b[0m es menor que \u001b[35m2\u001b[0m, por lo que lo agregamos a \u001b[31mC\u001b[0m\n",
            "\n",
            "Despues de esta iteración:\n",
            "A[\u001b[35mi\u001b[0m..n]: [\u001b[35m2\u001b[0m, ]\n",
            "B[\u001b[36mj\u001b[0m..n]: []\n",
            "\u001b[31mC:\u001b[0m [1]\n",
            "\n",
            "Agregamos los elementos restantes de A a C\n",
            "Arreglo ordenado C: [1, 2]\n",
            "\n",
            "Llamamos a merge para unir [3, 4] y [1, 2] en C[] y lo retornamos\n",
            "\n",
            "Combinando A: [3, 4] y B: [1, 2]\n",
            "\n",
            "Comparando \u001b[35m3\u001b[0m y \u001b[36m1\u001b[0m:\n",
            "\u001b[36m1\u001b[0m es menor que \u001b[35m3\u001b[0m, por lo que lo agregamos a \u001b[31mC\u001b[0m\n",
            "\n",
            "Despues de esta iteración:\n",
            "A[\u001b[35mi\u001b[0m..n]: [\u001b[35m3\u001b[0m, 4]\n",
            "B[\u001b[36mj\u001b[0m..n]: [\u001b[36m2\u001b[0m, ]\n",
            "\u001b[31mC:\u001b[0m [1]\n",
            "\n",
            "Comparando \u001b[35m3\u001b[0m y \u001b[36m2\u001b[0m:\n",
            "\u001b[36m2\u001b[0m es menor que \u001b[35m3\u001b[0m, por lo que lo agregamos a \u001b[31mC\u001b[0m\n",
            "\n",
            "Despues de esta iteración:\n",
            "A[\u001b[35mi\u001b[0m..n]: [\u001b[35m3\u001b[0m, 4]\n",
            "B[\u001b[36mj\u001b[0m..n]: []\n",
            "\u001b[31mC:\u001b[0m [1, 2]\n",
            "\n",
            "Agregamos los elementos restantes de A a C\n",
            "Arreglo ordenado C: [1, 2, 3, 4]\n"
          ]
        },
        {
          "output_type": "execute_result",
          "data": {
            "text/plain": [
              "[1, 2, 3, 4]"
            ]
          },
          "metadata": {},
          "execution_count": 220
        }
      ]
    },
    {
      "cell_type": "markdown",
      "source": [
        "# 4. Prueba de Correctitud"
      ],
      "metadata": {
        "id": "ZAogF57rd7V7"
      }
    },
    {
      "cell_type": "markdown",
      "source": [
        "Para probar la correctitud del algoritmo **Merge Sort**, primero debemos probar la correctitud de la función **Merge**."
      ],
      "metadata": {
        "id": "NaXk-qQGsyVJ"
      }
    },
    {
      "cell_type": "markdown",
      "source": [
        "## 4.1 Correctitud de **Merge**\n",
        "### **Teorema**\n",
        "> _La función **Merge** toma 2 arreglos ordenados $A$ y $B$ y los une en un arreglo $C$ que contiene todos los elementos de $A$ y $B$ **ordenados de menor a mayor**._\n",
        "\n",
        "### Prueba del Teorema\n",
        "\n",
        "Para probar la **correctitud** de Merge, usaremos la siguiente propiedad invariante de bucle:\n",
        "> _En cada iteración **m** los arreglos $A[i,\\ldots,n]$ y $B[j,\\ldots,n]$ siempre están ordenados y $C$ contiene elementos de $A$ y $B$ ordenados de menor a mayor._\n",
        "\n",
        "**Inicialización:** $C$ contiene 0 elementos, por lo que trivialmente se encuentra ordenada. Los índices $i, j = 0, 0$, por lo que los sub-arreglos son iguales a los arreglos de entrada que asumimos que están ordenados.\n",
        "\n",
        "**Mantención:**\n",
        "Al aumentar los contadores $i$ y $j$ los sub-arreglos $A[i, \\ldots ,n]$ y $B[j, \\ldots ,n]$ siguen ordenados pues no han sido modificados. Además, los elementos de $C$ son originalmente elementos de $A$ y $B$ que son insertados de menor a mayor, por lo que todos estos son menores que cualquier elemento de $A[i, \\ldots ,n]$ y $B[j, \\ldots ,n]$, manteniéndose $C$ ordenado.\n",
        "\n",
        "Ya que probamos que la propiedad se mantiene al inicio del bucle y se mantiene en cada iteración, podemos concluir que al finalizar la $n$-ésima iteración el algoritmo generará un arreglo ordenado $C$ con los elementos de $A$ y $B$. $\\blacksquare$"
      ],
      "metadata": {
        "id": "vezTZCDnndAD"
      }
    },
    {
      "cell_type": "markdown",
      "source": [
        "## 4.2 Correctitud de **Merge Sort**\n",
        "### **Teorema**\n",
        "> _El algoritmo Merge Sort genera un arreglo_ $[a_1',a_2', \\ldots ,a_n']$ _mediante permutaciones de los mismos elementos de entrada, de tal forma que_ $a_1' \\leq a_2' \\leq \\ldots \\leq a_n'$.\n",
        "\n",
        "### Prueba del Teorema\n",
        "\n",
        "Dado que este algoritmo es **recursivo**, vamos a probar su correctitud utilizando _**Inducción Matemática**_.\n",
        "\n",
        "Digamos que $n$ es el tamaño del arreglo que le pasaremos a nuestro algoritmo.\n",
        "\n",
        "Nuestra hipótesis $P(n)$ es que **Merge Sort** retorna un arreglo de números ordenado de menor a mayor.\n",
        "\n",
        "**Caso base:** Cuando el arreglo tiene tamaño 1 $(n = 1)$, se cumple $P(1)$ puesto que un arreglo con 1 elemento siempre se encuentra ordenado.\n",
        "\n",
        "**Paso inductivo:** Probaremos que el algoritmo ordenará correctamente un arreglo de tamaño $m$ donde $m < n$.\n",
        "\n",
        "Para $n$ elementos, el algoritmo divide el arreglo inicial en 2 sub-arreglos de tamaño $m = \\lfloor \\frac{n}{2} \\rfloor$ y $m = \\lceil \\frac{n}{2} \\rceil$, y estos también son ordenados mediante el algoritmo. A partir del paso inductivo, diremos que son ordenados correctamente.\n",
        "\n",
        "Luego, se comenzarán a unir los sub-arreglos mediante la función **Merge**. Anteriormente, probamos que **Merge es correcta** ya que devuelve un arreglo ordenado con los mismos elementos iniciales, quedando demostrado que **Merge Sort es correcto.**\n",
        "$\\blacksquare$"
      ],
      "metadata": {
        "id": "XOuR6KoznhZm"
      }
    },
    {
      "cell_type": "markdown",
      "source": [
        "# 5. Tiempo de Ejecución"
      ],
      "metadata": {
        "id": "KFl4s_afoxR1"
      }
    },
    {
      "cell_type": "markdown",
      "source": [
        "## **Teorema**\n",
        "> _El algoritmo Merge Sort tiene tiempo de ejecución de orden de complejidad $O(n\\log_2n)$ para todos sus casos._"
      ],
      "metadata": {
        "id": "akZPUzYrpCNc"
      }
    },
    {
      "cell_type": "markdown",
      "source": [
        "## Prueba del Teorema\n",
        "Dado que **Merge Sort** es un algoritmo **recursivo**, podemos describir su tiempo de ejecución mediante una **función de recurrencia** a la que llamaremos $T(n)$ donde $n$ será el tamaño del problema.\n",
        "\n",
        "En el caso base, donde existe un único elemento dentro del arreglo se retornará el mismo, por lo que podemos decir que $T(1) = O(1)$.\n",
        "\n",
        "En caso contrario cuando $n > 1$, el algoritmo realiza 3 operaciones principales:\n",
        "\n",
        "1.   Ordenar la primera mitad del arreglo recursivamente `merge_sort(n/2)`, que sería $T(n/2)$.\n",
        "2.   Ordenar la segunda mitad del arreglo recursivamente `merge_sort(n/2)`, que sería $T(n/2)$.\n",
        "3.   Mezclar de forma ordenada las 2 mitades del arreglo `merge(n/2,n/2)`, que tiene una complejidad lineal $O(n)$.\n",
        "\n",
        "A partir de esto, podemos establecer la **función de recurrencia de Merge Sort**:\n",
        "\n",
        "$ T(n) = \\begin{cases} \n",
        "      O(1) & n=1 \\\\\n",
        "      2T(n/2) + O(n) & n>1\\\\\n",
        "   \\end{cases}\n",
        "$\n",
        "\n",
        "\n"
      ],
      "metadata": {
        "id": "GH3LnFQSpcNW"
      }
    },
    {
      "cell_type": "markdown",
      "source": [
        "### Arbol de Recursión\n",
        "Con la función de recurrencia anterior, reemplazando por una constante $c$ los tiempos de orden de complejidad constante y por $cn$ los tiempos de compejidad lineal, quedando de la siguiente forma:\n",
        "\n",
        "$ T(n) = \\begin{cases} \n",
        "      c & n=1 \\\\\n",
        "      2T(n/2) + cn & n>1\\\\\n",
        "   \\end{cases}\n",
        "$\n",
        "\n",
        "Y con esta ecuación, podemos crear un árbol sub-dividiendo el problema de forma recursiva:\n",
        "\n",
        "![Arbol](https://drive.google.com/uc?export=view&id=18Dgt-RSaPN_XEcCstA1l2YxdwKBSZPaT)\n",
        "\n",
        "\n",
        "Basándonos en el árbol, nos podemos dar cuenta que la suma de los tiempos de cada nivel corresponde a $cn$, mientras que su altura corresponde a $log_2(n)$, asi que multiplicando ambas nos queda que el tiempo de ejecución del algoritmo es $cn \\ log_2(n)$, que expresado en notación asintótica sería: $O(n \\ log \\, n)$."
      ],
      "metadata": {
        "id": "BO5czk6vpelA"
      }
    },
    {
      "cell_type": "markdown",
      "source": [
        "# 6. Experimentos"
      ],
      "metadata": {
        "id": "sekGgTEUo0ml"
      }
    },
    {
      "cell_type": "markdown",
      "source": [
        "## Experimento 1: Comparación cantidad de operaciones teórica v/s experimental"
      ],
      "metadata": {
        "id": "77NexaTDE8RV"
      }
    },
    {
      "cell_type": "code",
      "source": [
        "from random import sample\n",
        "import matplotlib.pyplot as plt\n",
        "import math\n",
        "\n",
        "x=[n for n in range(5,20)] \n",
        "y1=[(n * math.log2(n)) for n in range(5,20)] # Caso teórico\n",
        "y=[]\n",
        "\n",
        "for n in range(5,20):\n",
        "  a = sample(range(1, 1000), n)\n",
        "  merge_comp = 0\n",
        "  a = merge_sort(a)\n",
        "  y.append(merge_comp)\n",
        "\n",
        "plt.plot(x,y)\n",
        "plt.plot(x,y1)\n",
        "plt.legend([\"MergeSort\", \"Caso teórico n log n\"])\n",
        "\n",
        "plt.xlabel('Tamaño del problema n')\n",
        "plt.ylabel('Número de operaciones')\n",
        "plt.show()"
      ],
      "metadata": {
        "colab": {
          "base_uri": "https://localhost:8080/",
          "height": 279
        },
        "id": "8r-1veKv8BZr",
        "outputId": "99afcec6-201d-414a-c531-08a76c855562"
      },
      "execution_count": 210,
      "outputs": [
        {
          "output_type": "display_data",
          "data": {
            "text/plain": [
              "<Figure size 432x288 with 1 Axes>"
            ],
            "image/png": "[encoded data removed]"
          },
          "metadata": {
            "needs_background": "light"
          }
        }
      ]
    },
    {
      "cell_type": "markdown",
      "source": [
        "### Análisis de resultados\n",
        "En primer lugar, cabe mencionar que se utilizó solo una curva para el caso teórico puesto que el algoritmo **Merge Sort** tiene la misma complejidad temporal para el mejor y peor caso que es $n\\ log \\, n$, ya que siempre dividirá el arreglo hasta llegar a sub-arreglos de tamaño $1$ independiente del problema de entrada.\n",
        "\n",
        "En la gráfica se puede apreciar que el **caso experimental se encuentra muy cerca del teórico** llegando a superponerse en ciertos lugares, aunque en otros se separan ligeramente.\n",
        "Esto puede deberse a que en algunos casos el arreglo no puede dividirse en partes iguales, afectando la cantidad de operaciones que deben realizarse. Por ejemplo, un arreglo de $3$ elementos será dividido en $2$ sub-arreglos de $1$ y $2$ elementos respectivamente por el algoritmo, cosa que **difiere de la teoría** puesto que en rigor debería dividirse en 2 sub-arreglos de tamaño $1.5$, que obviamente es imposible.\n"
      ],
      "metadata": {
        "id": "iz_QmnulFfYH"
      }
    },
    {
      "cell_type": "markdown",
      "source": [
        "## Experimento 2: Merge Sort v/s Insertion Sort\n",
        "Compararemos los algoritmos **Merge Sort** e **Insertion Sort** de forma gráfica para estudiar su eficiencia en relación a la cantidad de operaciones y el tiempo de ejecución."
      ],
      "metadata": {
        "id": "yPzgTUBQit1c"
      }
    },
    {
      "cell_type": "markdown",
      "source": [
        "### Implementación de Insertion Sort"
      ],
      "metadata": {
        "id": "0axm68Q_i0zx"
      }
    },
    {
      "cell_type": "code",
      "source": [
        "def insertion_sort(A):\n",
        "    n = len(A)\n",
        "    C = 0\n",
        "    for i in range(1, n):\n",
        "        j = i\n",
        "        C += 1\n",
        "        while A[j] < A[j - 1]:\n",
        "            A[j], A[j - 1] = A[j - 1], A[j]\n",
        "            j -= 1\n",
        "            if j == 0: break\n",
        "            C += 1\n",
        "    return A, C"
      ],
      "metadata": {
        "id": "zAIGIqbOizO_"
      },
      "execution_count": 226,
      "outputs": []
    },
    {
      "cell_type": "code",
      "source": [
        "arr = [5,4,3,2,1]\n",
        "print(f\"Arreglo desordenado: {arr}\")\n",
        "arr, C = insertion_sort(arr)\n",
        "print(f\"Arreglo ordenado: {arr}\")\n",
        "print(f\"{C} comparaciones.\")"
      ],
      "metadata": {
        "colab": {
          "base_uri": "https://localhost:8080/"
        },
        "id": "CrcyDt9I2ZJ4",
        "outputId": "3edff23b-e994-41b7-d8b2-4bc02561ab36"
      },
      "execution_count": 227,
      "outputs": [
        {
          "output_type": "stream",
          "name": "stdout",
          "text": [
            "Arreglo desordenado: [5, 4, 3, 2, 1]\n",
            "Arreglo ordenado: [1, 2, 3, 4, 5]\n",
            "10 comparaciones.\n"
          ]
        }
      ]
    },
    {
      "cell_type": "markdown",
      "source": [
        "### 2.1 Comparación de tiempo de ejecución de los algoritmos\n",
        "A continuación se medirá y se comparará gráficamente el tiempo de ejecución de ambos algoritmos con una muestra aleatoria de números y un tamaño de problema $n \\in [5,500]$."
      ],
      "metadata": {
        "id": "UvC9Gn5zJKqR"
      }
    },
    {
      "cell_type": "code",
      "source": [
        "import datetime\n",
        "from timeit import repeat\n",
        "\n",
        "x=[]; y1=[]; y2=[];\n",
        "\n",
        "for n in range(5,501):\n",
        "\n",
        "    A = sample(range(1, 1001), n)\n",
        "\n",
        "    # repeat() ejecuta 10 veces los algoritmos con el arreglo aleatorio A y retorna el mejor tiempo obtenido\n",
        "    t_insert = repeat(setup=\"from __main__ import insertion_sort\", stmt=f\"insertion_sort({A})\", repeat=1, number=10)\n",
        "    t_merge = repeat(setup=\"from __main__ import merge_sort\", stmt=f\"merge_sort({A})\", repeat=1, number=10)\n",
        "    x.append(n)\n",
        "    y1.append(t_insert)\n",
        "    y2.append(t_merge)\n",
        "\n",
        "plt.plot(x,y1)\n",
        "plt.plot(x,y2)\n",
        "plt.legend([\"Insertion Sort\", \"Merge Sort\"])\n",
        "\n",
        "plt.xlabel('Tamaño del problema n')\n",
        "plt.ylabel('Tiempo en ms')\n",
        "plt.show()"
      ],
      "metadata": {
        "colab": {
          "base_uri": "https://localhost:8080/",
          "height": 279
        },
        "id": "R2BvfMaEHw7j",
        "outputId": "30d9b130-116c-4462-d4aa-3823564bdbdc"
      },
      "execution_count": 216,
      "outputs": [
        {
          "output_type": "display_data",
          "data": {
            "text/plain": [
              "<Figure size 432x288 with 1 Axes>"
            ],
            "image/png": "[encoded data removed]"
          },
          "metadata": {
            "needs_background": "light"
          }
        }
      ]
    },
    {
      "cell_type": "markdown",
      "source": [
        "### Análisis de resultados\n",
        "Observando la gráfica nos podemos dar cuenta que ambos algoritmos cumplen con el rendimiento teórico esperado, que para **Insertion Sort** sería $O(n^2)$ y $O(n\\ log \\, n)$ para **Merge Sort**.\n",
        "\n",
        "A partir de esto podemos concluir que **Merge Sort** es mucho mas eficiente temporalmente hablando para problemas de gran tamaño, aproximadamente desde $n \\geq 100$ ya que para valores pequeños de $n$, la diferencia de los tiempos de ejecución es mínima."
      ],
      "metadata": {
        "id": "tEe-9RyL0Ars"
      }
    },
    {
      "cell_type": "markdown",
      "source": [
        "### 2.2 Comparación de cantidad de operaciones entre los algoritmos\n",
        "En el siguiente experimento se comparará gráficamente la cantidad de operaciones que realizan ambos algoritmos con una muestra aleatoria de números y un tamaño de problema $n \\in [5,500]$."
      ],
      "metadata": {
        "id": "p7fcijC6JByD"
      }
    },
    {
      "cell_type": "code",
      "source": [
        "from random import sample\n",
        "import matplotlib.pyplot as plt\n",
        "import math\n",
        "\n",
        "x=[n for n in range(5,501)] \n",
        "\n",
        "y=[] # caso experimental mergesort \n",
        "y1=[] # caso experimental insertionsort\n",
        "\n",
        "for n in range(5,501):\n",
        "  a = sample(range(1, 1000), n)\n",
        "  merge_comp = 0\n",
        "  merge_sort(a)\n",
        "  a,ins_comp = insertion_sort(a)\n",
        "  y.append(merge_comp)\n",
        "  y1.append(ins_comp)\n",
        "\n",
        "plt.plot(x,y)\n",
        "plt.plot(x,y1)\n",
        "plt.legend([\"Caso experimental Merge Sort\", \"Caso experimental Insertion Sort\"])\n",
        "\n",
        "plt.xlabel('Tamaño del problema n')\n",
        "plt.ylabel('Número de operaciones')\n",
        "plt.show()"
      ],
      "metadata": {
        "colab": {
          "base_uri": "https://localhost:8080/",
          "height": 279
        },
        "id": "zAG5LwI5F-yI",
        "outputId": "b4f17d31-0851-4524-80b5-14d732c173b4"
      },
      "execution_count": 228,
      "outputs": [
        {
          "output_type": "display_data",
          "data": {
            "text/plain": [
              "<Figure size 432x288 with 1 Axes>"
            ],
            "image/png": "[encoded data removed]"
          },
          "metadata": {
            "needs_background": "light"
          }
        }
      ]
    },
    {
      "cell_type": "markdown",
      "source": [
        "### Análisis de resultados\n",
        "Como podemos observar en el gráfico, **Merge Sort** es un algoritmo mucho mas eficiente que **Insertion Sort** en relación a la cantidad de operaciones que debe realizar para problemas grandes, ya que a pesar del gran tamaño del problema las operaciones de **Merge Sort** aumentan de forma mucho mas lenta que las de **Insertion Sort**."
      ],
      "metadata": {
        "id": "dQOIsIOuvXis"
      }
    }
  ]
}