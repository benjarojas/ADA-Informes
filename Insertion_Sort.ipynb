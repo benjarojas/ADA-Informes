{
  "nbformat": 4,
  "nbformat_minor": 0,
  "metadata": {
    "colab": {
      "name": "Insertion Sort",
      "provenance": [],
      "collapsed_sections": [],
      "toc_visible": true,
      "authorship_tag": "ABX9TyMCEsMYc3XTuPdhJ4+SMXFs",
      "include_colab_link": true
    },
    "kernelspec": {
      "name": "python3",
      "display_name": "Python 3"
    },
    "language_info": {
      "name": "python"
    }
  },
  "cells": [
    {
      "cell_type": "markdown",
      "metadata": {
        "id": "view-in-github",
        "colab_type": "text"
      },
      "source": [
        "<a href=\"https://colab.research.google.com/github/benjarojas/ADA-Informes/blob/main/Insertion_Sort.ipynb\" target=\"_parent\"><img src=\"https://colab.research.google.com/assets/colab-badge.svg\" alt=\"Open In Colab\"/></a>"
      ]
    },
    {
      "cell_type": "markdown",
      "source": [
        "# 1. Problema de ordenamiento\n",
        "**Entrada**: Secuencia de $n$ números: $ [ a_1 , a_2 , \\ldots , a_n ] $\n",
        "\n",
        "**Salida**: Permutación de la secuencia de entrada $ [ a_1' , a_2' , \\ldots , a_n' ] $ tal que $ a_1' \\leq a_2' \\leq \\ldots \\leq a_n' $\n",
        "\n",
        "El ordenamiento es uno de los problemas mas importantes y estudiados en ciencias de la computación, dado que el poder ordenar datos generalmente puede reducir la complejidad de un problema, por ejemplo, es aplicable directamente a algoritmos de búsqueda que requieran que los datos estén ordenados como la búsqueda binaria."
      ],
      "metadata": {
        "id": "gHnlpcVj0L2s"
      }
    },
    {
      "cell_type": "markdown",
      "source": [
        "# 2. Insertion Sort\n"
      ],
      "metadata": {
        "id": "dZ25nyM88CDs"
      }
    },
    {
      "cell_type": "markdown",
      "source": [
        "## 2.1 Implementación del algoritmo\n",
        "El siguiente código muestra una implementación del algoritmo **Insertion Sort**:"
      ],
      "metadata": {
        "id": "FtUHkOFT8ahB"
      }
    },
    {
      "cell_type": "code",
      "execution_count": null,
      "metadata": {
        "id": "1f16JAUUmE_k",
        "colab": {
          "base_uri": "https://localhost:8080/"
        },
        "outputId": "8f43e3a9-2cb2-4f0b-e84e-91645fff7d73"
      },
      "outputs": [
        {
          "output_type": "stream",
          "name": "stdout",
          "text": [
            "Array original: [4, 1, 2, 3, 5, 6, 7, 10, 8, 9]\n",
            "Array ordenado: [1, 2, 3, 4, 5, 6, 7, 8, 9, 10]\n"
          ]
        }
      ],
      "source": [
        "from termcolor import colored\n",
        "\n",
        "def insertion_sort(a, verbose=False):\n",
        "    R = 0  # Contador de retrocesos/comparaciones\n",
        "\n",
        "    # Para cada elemento del arreglo: a[1 ... n]\n",
        "    for i in range(1, len(a)):\n",
        "\n",
        "        if(verbose):\n",
        "            print(f\"Ordenando: {colored(str(a[i]), 'magenta')}\")\n",
        "            print(*a[:i], str(colored(a[i], 'magenta')), *a[i+1:])\n",
        "            already_sorted = True\n",
        "\n",
        "        # Elemento que compararemos con los anteriores en cada iteración\n",
        "        key = a[i]\n",
        "\n",
        "        # Posición desde donde comenzaremos a comparar con key\n",
        "        j = i - 1\n",
        "\n",
        "        # Comparamos key con cada elemento anterior a[0...i-1] hasta encontrar uno mayor\n",
        "        while j >= 0:\n",
        "            if key < a[j]: # Elemento key esta desordenado\n",
        "                already_sorted = False\n",
        "\n",
        "                if(verbose):\n",
        "                    print(\"Se mueve el\", colored(str(a[j]), \"red\"), \"a la derecha\")\n",
        "                    print(*a[:j], colored(str(a[j]), 'red'), *a[j+1:])\n",
        "\n",
        "                a[j + 1] = a[j]  # Se mueve el elemento a[j] 1 posición a la derecha\n",
        "\n",
        "                if(verbose):\n",
        "                    print(*a[:j+1], colored(str(a[j+1]), 'red'), *a[j+2:])\n",
        "\n",
        "                j -= 1  # Retrocedemos una posición\n",
        "                R += 1  # Sumamos una comparación\n",
        "            else: # Elemento key está ordenado\n",
        "                R += 1\n",
        "                break\n",
        "\n",
        "        if(verbose and already_sorted):\n",
        "            print(\"Se encuentra ordenado\")\n",
        "\n",
        "        if(verbose and a[j+1] != key):\n",
        "            a[j + 1] = key\n",
        "            print(\"Insertamos\", colored(str(key), \"magenta\"),\n",
        "                  \"en su nueva posición\")\n",
        "            print(*a[:j+1], colored(str(a[j + 1]), \"magenta\"), *a[j+2:])\n",
        "            continue\n",
        "\n",
        "        # Insertamos key (pivote) despues del elemento que es menor\n",
        "        a[j + 1] = key\n",
        "\n",
        "    if(verbose):\n",
        "        print(\"Arreglo ordenado:\", a)\n",
        "\n",
        "    # Retornamos una tupla que contiene el arreglo ordenado y el contador de comparaciones.\n",
        "    return a, R\n",
        "\n",
        "\n",
        "arr = [4, 1, 2, 3, 5, 6, 7, 10, 8, 9]\n",
        "print(\"Array original:\", arr)\n",
        "sorted_arr, C = insertion_sort(arr, verbose=False)\n",
        "print(\"Array ordenado:\", sorted_arr)"
      ]
    },
    {
      "cell_type": "markdown",
      "source": [
        "## 2.2 Descripción del algoritmo\n",
        "El algoritmo recibe como entrada un arreglo $a$ con la secuencia de $n$ elementos a ser ordenados.\n",
        "Luego, los elementos son ordenados dentro del mismo arreglo.\n",
        "\n",
        "\n",
        "1. Por cada iteración $i$, se compara el elemento $a_i$ con todos los elementos $[ a_0 \\ldots a_{i-1} ]$, y si se encuentra un elemento $a_j$ mayor que el elemento $a_i$, el elemento $a_j$ se desplaza 1 posición a la derecha, quedando como el elemento $a_{j+1}$.\n",
        "2. Luego, el algoritmo inserta el elemento $a_i$ en la posición $j$ cuando el elemento $a_{j-1}$ es menor a este. \n",
        "3. El algoritmo compara todos los elementos de arreglo.\n",
        "4. Finalmente, el algoritmo retorna una tupla que contiene el arreglo ordenado y un contador de las comparaciones realizadas.\n",
        "\n",
        "_**Nota**: cuando la variable `verbose` es `True`, el algoritmo muestra su ejecución paso a paso_\n"
      ],
      "metadata": {
        "id": "dm4BCCl28ssK"
      }
    },
    {
      "cell_type": "markdown",
      "source": [
        "## 2.3 Ejemplo de ejecución\n",
        "Consideremos el arreglo:\n",
        "\n",
        "$a = [4,1,2,3]$\n",
        "\n",
        "En la primera iteración, se toma el segundo elemento del arreglo $\\{1\\}$ y se compara con el elemento anterior $\\{4\\}$, y este al ser mayor es trasladado una posición a la derecha:\n",
        "\n",
        "$a = [4,4,2,3]$\n",
        "\n",
        "Al final de esta iteración, el elemento $\\{1\\}$ es insertado donde originalmente se encontraba el elemento $\\{4\\}$ de forma que los primeros 2 elementos del arreglo se encuentran ordenados:\n",
        "\n",
        "$a = [1,4,2,3]$\n",
        "\n",
        "En la segunda iteración se toma el elemento $\\{2\\}$ y se compara con su elemento antecesor $\\{4\\}$, que es mayor por lo que es desplazado una posición a la derecha:\n",
        "\n",
        "$a = [1,4,4,3]$\n",
        "\n",
        "Luego, se compara el elemento $\\{2\\}$ con el elemento anterior al $\\{4\\}$, pero no se intercambia dado que este es menor, por lo que se procede a insertar el elemento $\\{2\\}$:\n",
        "\n",
        "$a = [1,2,4,3]$\n",
        "\n",
        "En la última iteración, se toma el elemento $\\{3\\}$ y se compara con su elemento anterior, y al ser este mayor se traslada una posición a la derecha:\n",
        "\n",
        "$a = [1,2,4,4]$\n",
        "\n",
        "Finalmente, se compara el elemento $\\{3\\}$ con el elemento anterior al $\\{4\\}$ que sería $\\{2\\}$, pero al ser este menor, se procede a insertar el elemento $\\{3\\}$ quedando así el arreglo ordenado:\n",
        "\n",
        "$a = [1,2,3,4]$"
      ],
      "metadata": {
        "id": "_epE3eg0S0Af"
      }
    },
    {
      "cell_type": "markdown",
      "source": [
        "## 2.4 Ejecución paso a paso (`verbose = True`)"
      ],
      "metadata": {
        "id": "tZAmM_NES2qd"
      }
    },
    {
      "cell_type": "code",
      "source": [
        "from random import sample\n",
        "a = sample(range(1, 100), 5)\n",
        "a,R = insertion_sort(a, verbose=True)"
      ],
      "metadata": {
        "colab": {
          "base_uri": "https://localhost:8080/"
        },
        "id": "SATdo_T3qSCz",
        "outputId": "7e5f0c3e-5559-42c2-9adf-688b504314a4"
      },
      "execution_count": null,
      "outputs": [
        {
          "output_type": "stream",
          "name": "stdout",
          "text": [
            "Ordenando: \u001b[35m84\u001b[0m\n",
            "55 \u001b[35m84\u001b[0m 73 52 7\n",
            "Se encuentra ordenado\n",
            "Ordenando: \u001b[35m73\u001b[0m\n",
            "55 84 \u001b[35m73\u001b[0m 52 7\n",
            "Se mueve el \u001b[31m84\u001b[0m a la derecha\n",
            "55 \u001b[31m84\u001b[0m 73 52 7\n",
            "55 84 \u001b[31m84\u001b[0m 52 7\n",
            "Insertamos \u001b[35m73\u001b[0m en su nueva posición\n",
            "55 \u001b[35m73\u001b[0m 84 52 7\n",
            "Ordenando: \u001b[35m52\u001b[0m\n",
            "55 73 84 \u001b[35m52\u001b[0m 7\n",
            "Se mueve el \u001b[31m84\u001b[0m a la derecha\n",
            "55 73 \u001b[31m84\u001b[0m 52 7\n",
            "55 73 84 \u001b[31m84\u001b[0m 7\n",
            "Se mueve el \u001b[31m73\u001b[0m a la derecha\n",
            "55 \u001b[31m73\u001b[0m 84 84 7\n",
            "55 73 \u001b[31m73\u001b[0m 84 7\n",
            "Se mueve el \u001b[31m55\u001b[0m a la derecha\n",
            "\u001b[31m55\u001b[0m 73 73 84 7\n",
            "55 \u001b[31m55\u001b[0m 73 84 7\n",
            "Insertamos \u001b[35m52\u001b[0m en su nueva posición\n",
            "\u001b[35m52\u001b[0m 55 73 84 7\n",
            "Ordenando: \u001b[35m7\u001b[0m\n",
            "52 55 73 84 \u001b[35m7\u001b[0m\n",
            "Se mueve el \u001b[31m84\u001b[0m a la derecha\n",
            "52 55 73 \u001b[31m84\u001b[0m 7\n",
            "52 55 73 84 \u001b[31m84\u001b[0m\n",
            "Se mueve el \u001b[31m73\u001b[0m a la derecha\n",
            "52 55 \u001b[31m73\u001b[0m 84 84\n",
            "52 55 73 \u001b[31m73\u001b[0m 84\n",
            "Se mueve el \u001b[31m55\u001b[0m a la derecha\n",
            "52 \u001b[31m55\u001b[0m 73 73 84\n",
            "52 55 \u001b[31m55\u001b[0m 73 84\n",
            "Se mueve el \u001b[31m52\u001b[0m a la derecha\n",
            "\u001b[31m52\u001b[0m 55 55 73 84\n",
            "52 \u001b[31m52\u001b[0m 55 73 84\n",
            "Insertamos \u001b[35m7\u001b[0m en su nueva posición\n",
            "\u001b[35m7\u001b[0m 52 55 73 84\n",
            "Arreglo ordenado: [7, 52, 55, 73, 84]\n"
          ]
        }
      ]
    },
    {
      "cell_type": "markdown",
      "source": [
        "En cada iteración se recorre el arreglo los elementos en rojo son desplazados una posición a la derecha y finalmente es insertado el elemento a ordenar en su posición correspondente.\n",
        "\n",
        "_**Nota:** Recordar que el proceso de imprimir por pantalla es **lento**, por lo que `verbose = True` podría **aumentar el tiempo de ejecución** del algoritmo_"
      ],
      "metadata": {
        "id": "pEwrIUG_aADa"
      }
    },
    {
      "cell_type": "markdown",
      "source": [
        "# 3. Tiempo de ejecución"
      ],
      "metadata": {
        "id": "QOopcPEsTPd4"
      }
    },
    {
      "cell_type": "markdown",
      "source": [
        "## **Teorema**\n",
        "_El algoritmo **Insertion Sort** tiene un tiempo de ejecución de orden $O(n^2)$ en su peor caso_"
      ],
      "metadata": {
        "id": "Bprbvol9hXzc"
      }
    },
    {
      "cell_type": "markdown",
      "source": [
        "## Prueba del teorema\n",
        "Analizando el código, podemos observar que el **peor caso** ocurriría cuando el arreglo está ordenado de **mayor a menor**, ya que el algoritmo en la primera iteración debe hacer $0$ comparaciones, luego $1$ comparación, luego $2$ y así sucesivamente hasta alcanzar el $n$-ésimo elemento, donde se deben realizar $n-1$ comparaciones. Esto se puede reescribir como $0 + 1 + 2 + \\ldots + n-1$ comparaciones."
      ],
      "metadata": {
        "id": "F0VNuX0Ghe4K"
      }
    },
    {
      "cell_type": "markdown",
      "source": [
        "### Ejemplo"
      ],
      "metadata": {
        "id": "ECQbwbBqeSl3"
      }
    },
    {
      "cell_type": "code",
      "source": [
        "a = [5,4,3,2,1]\n",
        "print(\"Entrada desordenada:\", a)\n",
        "a,comp = insertion_sort(a)\n",
        "print(\"Salida ordenada:\", a)\n",
        "print(\"Comparaciones realizadas:\", comp)"
      ],
      "metadata": {
        "colab": {
          "base_uri": "https://localhost:8080/"
        },
        "id": "q4OCVyE2dNh3",
        "outputId": "3aa77f54-96e7-4e59-cd42-3c9744e15124"
      },
      "execution_count": null,
      "outputs": [
        {
          "output_type": "stream",
          "name": "stdout",
          "text": [
            "Entrada desordenada: [5, 4, 3, 2, 1]\n",
            "Salida ordenada: [1, 2, 3, 4, 5]\n",
            "Comparaciones realizadas: 10\n"
          ]
        }
      ]
    },
    {
      "cell_type": "markdown",
      "source": [
        "En este caso, el algoritmo realizó $0$ comparaciones en la primera iteración, $1$ en la segunda, $2$ en la tercera, $3$ en la cuarta y $4$ en la quinta, lo que suma 10 comparaciones en total.\n",
        "\n",
        "A partir de esto, podemos concluir que en el caso general se deben realizar $\\sum\\limits_{i=0}^{n-1} i=\\frac{(n^2-n)}{2}$ comparaciones, quedando demostrado que **en el peor caso, el orden de complejidad del algoritmo Insertion Sort es $O(n^2)$.** $\\blacksquare$"
      ],
      "metadata": {
        "id": "SPa_Lr8teoVu"
      }
    },
    {
      "cell_type": "markdown",
      "source": [
        "# 4. Correctitud\n",
        "## **Teorema**\n",
        "_El algoritmo Insertion Sort genera un arreglo $[a_1',a_2', \\ldots ,a_n']$ mediante permutaciones de los mismos elementos de entrada, de tal forma que $a_1' \\leq a_2' \\leq \\ldots \\leq a_n'$_\n",
        "\n",
        "## Prueba del Teorema\n",
        "Anteriormente se mostró que por cada iteración $i$, el elemento $a_i$ es comparado con los primeros $i-1$ elementos del arreglo, y en caso de encontrarse un elemento $a_j$ menor, los elementos $[a_{j} \\ldots a_{i-1}]$ serán desplazados una posición a la derecha, y el elemento $a_i$ será insertado donde se encontraba previamente $a_j$.\n",
        "\n",
        "A partir de esto, probaremos la siguiente **propiedad invariante de bucle** para el algoritmo **Insertion Sort**:\n",
        "\n",
        "> Al comienzo de cada iteración, los primeros $i-1$ elementos que corresponden a permutaciones de los elementos del arreglo original se encuentran ordenados de menor a mayor.\n",
        "\n",
        "### Inicialización\n",
        "Al comienzo de la primera iteración $(i = 1)$, los primeros $i - 1 = 0$ elementos del arreglo cumplen con el teorema. Esto es trivialmente cierto, puesto que por definición un único elemento siempre está ordenado.\n",
        "\n",
        "### Mantención\n",
        "Mediante inducción, podemos asumir que en cada iteración se cumple la **propiedad invariante de bucle**, es decir, el sub-arreglo $[ a_0 , \\ldots , a_{i-1} ]$ está ordenado de tal forma que $a_0 \\leq \\ldots \\leq a_{i-1}$\n",
        "\n",
        "Por cada iteración, el sub-arreglo se expande, pero se mantiene ordenado, ya que cuando se inserta un elemento $\\lambda$, se insertará luego del primer elemento $\\leq \\lambda$ y antes del primer elemento $\\geq \\lambda$, manteniendo el orden de menor a mayor y cumpliendose la propiedad.\n",
        "\n",
        "### Correctitud\n",
        "\n",
        "Ya que se demostró que la propiedad de bucle invariante se cumple al inicio del bucle y se mantiene en cada iteración, podemos decir que al **finalizar la $n$-ésima iteración del algoritmo Insertion Sort**, se genera un arreglo $[a_1',a_2',...,a_n']$, con los elementos iniciales del arreglo de entrada ordenados de menor a mayor. $\\blacksquare$"
      ],
      "metadata": {
        "id": "h51Wli_qUCuH"
      }
    },
    {
      "cell_type": "markdown",
      "source": [
        "# 5. Experimentos"
      ],
      "metadata": {
        "id": "Lmhr_5pSUIGc"
      }
    },
    {
      "cell_type": "markdown",
      "source": [
        "## Experimento 1: Cantidad de Comparaciones\n",
        "A continuación, se muestra un gráfico donde se compara el número de comparaciones realizadas por el algoritmo en los siguientes casos:\n",
        "\n",
        "*   Mejor caso calculado matemáticamente.\n",
        "*   Peor caso calculado matemáticamente.\n",
        "*   Caso experimental con arreglos de entrada aleatorios donde el tamaño del problema $n \\in [1,99]$\n",
        "\n",
        "Los arreglos de entrada son generados aleatoriamente haciendo un sampling de un conjunto de números entre $1$ y $100$.\n",
        "\n"
      ],
      "metadata": {
        "id": "cvIkgPKt9-T_"
      }
    },
    {
      "cell_type": "code",
      "source": [
        "import matplotlib.pyplot as plt\n",
        "\n",
        "x=[n for n in range(1,100)] # Cantidad de elementos dentro del arreglo n en [1,99]\n",
        "y1=[((n**2)-(n-1))/2 for n in range(1,100)] # Peor caso, donde se realizan (n^2 - n-1)/2 comparaciones\n",
        "y2=[n-1 for n in range(1,100)] # Mejor caso, donde se realizan n-1 comparaciones\n",
        "y=[]; \n",
        "\n",
        "# Caso experimental\n",
        "for n in range(1,100):\n",
        "    a = sample(range(1, 100), n)\n",
        "    a,counter = insertion_sort(a)\n",
        "    y.append(counter)\n",
        "\n",
        "plt.plot(x,y)\n",
        "plt.plot(x,y1)\n",
        "plt.plot(x,y2)\n",
        "plt.legend([\"Insertion Sort\", \"Peor Caso\", \"Mejor Caso\"])\n",
        "\n",
        "plt.xlabel('n')\n",
        "plt.ylabel('Cantidad de Comparaciones')\n",
        "plt.show()"
      ],
      "metadata": {
        "colab": {
          "base_uri": "https://localhost:8080/",
          "height": 280
        },
        "id": "PQMPcPQNvFHa",
        "outputId": "8d8fa9e5-9880-43dc-b7f1-96e59f86ef8f"
      },
      "execution_count": null,
      "outputs": [
        {
          "output_type": "display_data",
          "data": {
            "text/plain": [
              "<Figure size 432x288 with 1 Axes>"
            ],
            "image/png": "[encoded data removed]"
          },
          "metadata": {
            "needs_background": "light"
          }
        }
      ]
    },
    {
      "cell_type": "markdown",
      "source": [
        "### Análisis de resultados\n",
        "\n",
        "Como se puede observar en el gráfico, la curva de los casos aleatorios se mantiene en medio de las curvas de los casos extremos."
      ],
      "metadata": {
        "id": "EKZVVrt2BIfi"
      }
    },
    {
      "cell_type": "markdown",
      "source": [
        "## Experimento 2: Arreglo casi completamente ordenado\n",
        "En este experimento compararemos de una manera gráfica la cantidad de operaciones que debe realizar el algoritmo en el mejor caso y un caso donde el arreglo está parcialmente ordenado.\n",
        "\n",
        "Para esto, se crearan arreglos con tamaños $n \\in [5,39]$ donde sus 4 últimos elementos se encontrarán en orden inverso. De esta forma, un arreglo $a$ con $n = 10$ quedaría como $a = [1,2,3,4,5,6,10,9,8,7]$"
      ],
      "metadata": {
        "id": "9s09YsTTB4ba"
      }
    },
    {
      "cell_type": "code",
      "source": [
        "x = [n for n in range(5,40)] # Cantidad de elementos dentro del arreglo n en [5,39]\n",
        "y1 = [n*(n-1)/2 for n in range(5,40)] # Peor caso calculado matemáticamente\n",
        "y2 = [n-1 for n in range(5,40)] # Mejor caso calculado matemáticamente\n",
        "y = [];\n",
        "\n",
        "# Arreglos parcialmente ordenados\n",
        "for n in range(5,40):\n",
        "    a=[]    \n",
        "    for j in range(1,n-3): a.append(j) # Insertamos primeros elementos\n",
        "    for k in range(n,n-4,-1): a.append(j) # Insertamos últimos 4 elementos en orden inverso\n",
        "    sorted_arr, comp = insertion_sort(a) # Ordenamos el arreglo\n",
        "    y.append(comp)\n",
        "\n",
        "plt.plot(x,y, linewidth=\"5\")\n",
        "plt.plot(x,y1)\n",
        "plt.plot(x,y2, linewidth=\"2\")\n",
        "plt.legend([\"Caso Arreglo Parcialmente Ordenado\", \"Peor Caso\", \"Mejor Caso\"])\n",
        "\n",
        "plt.xlabel('n')\n",
        "plt.ylabel('Cantidad de comparaciones')\n",
        "plt.show()"
      ],
      "metadata": {
        "colab": {
          "base_uri": "https://localhost:8080/",
          "height": 279
        },
        "id": "fQfQoJMMCYJG",
        "outputId": "7441e865-2843-4310-a3b2-389dff76a4b2"
      },
      "execution_count": null,
      "outputs": [
        {
          "output_type": "display_data",
          "data": {
            "text/plain": [
              "<Figure size 432x288 with 1 Axes>"
            ],
            "image/png": "[encoded data removed]"
          },
          "metadata": {
            "needs_background": "light"
          }
        }
      ]
    },
    {
      "cell_type": "markdown",
      "source": [
        "### Análisis de resultados\n",
        "Como se puede apreciar en el gráfico, cuando el arreglo se encuentra ordenado casi en su totalidad, su curva se acerca mucho a la del mejor caso, es decir, la diferencia entre la cantidad de comparaciones es mínima."
      ],
      "metadata": {
        "id": "6Z9jS41pRRa6"
      }
    },
    {
      "cell_type": "markdown",
      "source": [
        "## Experimento 3: Comparación de tiempos de ejecución con Bubble Sort"
      ],
      "metadata": {
        "id": "VyTKuZE_TFdQ"
      }
    },
    {
      "cell_type": "markdown",
      "source": [
        "En este experimento compararemos el tiempo de ejecución del algoritmo **Insertion Sort** con el algoritmo **Bubble Sort**."
      ],
      "metadata": {
        "id": "vgYpEJF5TvR0"
      }
    },
    {
      "cell_type": "code",
      "source": [
        "def bubble_sort(a, verbose=False):\n",
        "    n = len(a)\n",
        "    T = 0 # Contador de comparaciones\n",
        "\n",
        "    for i in range(1,n+1):\n",
        "        # Flag que indica si el arreglo ya se encuentra ordenado\n",
        "        already_sorted = True\n",
        "\n",
        "        # Se recorre el arreglo\n",
        "        for j in range(n - i):\n",
        "            T +=1\n",
        "            if a[j] > a[j + 1]:\n",
        "                # Si el elemento es mayor al siguiente se intercambia\n",
        "                a[j], a[j + 1] = a[j + 1], a[j]\n",
        "                already_sorted = False\n",
        "\n",
        "        if already_sorted:\n",
        "            break\n",
        "\n",
        "    return a, T"
      ],
      "metadata": {
        "id": "-iPhTEqDTuGd"
      },
      "execution_count": null,
      "outputs": []
    },
    {
      "cell_type": "markdown",
      "source": [
        "A continuación, se realizará la comparación del rendimiento entre los 2 algoritmos con un tamaño de problema $n \\in [5,499]$, donde los arreglos corresponderan a un sampleo de números aleatorios entre $1$ y $1000$"
      ],
      "metadata": {
        "id": "KeB0HqeFVd9v"
      }
    },
    {
      "cell_type": "code",
      "source": [
        "import datetime\n",
        "import timeit\n",
        "\n",
        "x,y,y1 = [],[],[]\n",
        "\n",
        "for n in range(5,500):\n",
        "\n",
        "  a = sample(range(1, 1000), n)\n",
        "\n",
        "  insertion_T = timeit.repeat(setup=\"from __main__ import insertion_sort\", stmt=f\"insertion_sort({a})\", repeat=1, number=10)\n",
        "  bubble_T = timeit.repeat(setup=\"from __main__ import bubble_sort\", stmt=f\"bubble_sort({a})\", repeat=1, number=10)\n",
        "\n",
        "  x.append(n)\n",
        "  y.append(insertion_T)\n",
        "  y1.append(bubble_T)\n",
        "\n",
        "plt.plot(x,y)\n",
        "plt.plot(x,y1)\n",
        "plt.legend([\"Insertion Sort\", \"Bubble Sort\"])\n",
        "\n",
        "plt.xlabel('n')\n",
        "plt.ylabel('Tiempo en ms')\n",
        "plt.show()"
      ],
      "metadata": {
        "colab": {
          "base_uri": "https://localhost:8080/",
          "height": 279
        },
        "id": "arewQAfhu9-d",
        "outputId": "fff3f58c-2bee-4658-e777-f5fc0d6a26dc"
      },
      "execution_count": 69,
      "outputs": [
        {
          "output_type": "display_data",
          "data": {
            "text/plain": [
              "<Figure size 432x288 with 1 Axes>"
            ],
            "image/png": "[encoded data removed]"
          },
          "metadata": {
            "needs_background": "light"
          }
        }
      ]
    },
    {
      "cell_type": "markdown",
      "source": [
        "### Análisis de resultados"
      ],
      "metadata": {
        "id": "P-gumIzJWgPH"
      }
    },
    {
      "cell_type": "markdown",
      "source": [
        "Como podemos apreciar en el gráfico, los 2 algoritmos se comportan de manera similar para tamaños de problema pequeños ($n \\in [0,100]$), pero el algoritmo **Insertion Sort** presenta una ventaja notable en cuanto a eficiencia temporal para valores de $n$ grandes.\n",
        "\n",
        "También podemos notar algunos peaks en la gráfica. Estos probablemente se deban al comportamiento impredecible del procesador."
      ],
      "metadata": {
        "id": "BDVi9p5KWqoF"
      }
    }
  ]
}